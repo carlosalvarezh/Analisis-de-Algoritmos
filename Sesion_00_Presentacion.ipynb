{
 "cells": [
  {
   "cell_type": "markdown",
   "metadata": {
    "slideshow": {
     "slide_type": "slide"
    }
   },
   "source": [
    "<h1 align=\"center\">ANÁLISIS DE ALGORITMOS</h1>\n",
    "\n",
    "<h1 align=\"center\">Sesión 00: Presentación del curso</h1>\n",
    "\n",
    "<h1 align=\"center\">MEDELLÍN - COLOMBIA </h1>\n",
    "\n",
    "<h1 align=\"center\">2021 </h1>\n"
   ]
  },
  {
   "cell_type": "markdown",
   "metadata": {},
   "source": [
    "<table>\n",
    " <tr align=left><td><img align=left src=\"https://github.com/carlosalvarezh/Analisis_de_Algoritmos/blob/master/images/CC-BY.png?raw=true\">\n",
    " <td>Text provided under a Creative Commons Attribution license, CC-BY. All code is made available under the FSF-approved MIT license.(c) Carlos Alberto Alvarez Henao</td>\n",
    "</table>"
   ]
  },
  {
   "cell_type": "markdown",
   "metadata": {},
   "source": [
    "*** \n",
    "\n",
    "***Docente:*** Carlos Alberto Álvarez Henao, I.C. D.Sc.\n",
    "\n",
    "***e-mail:*** carlosalvarezh@gmail.com\n",
    "\n",
    "***skype:*** carlos.alberto.alvarez.henao\n",
    "\n",
    "***Linkedin:*** https://www.linkedin.com/in/carlosalvarez5/\n",
    "\n",
    "***github:*** https://github.com/carlosalvarezh/Metodos_Numericos\n",
    "\n",
    "***Herramienta:*** [Jupyter](http://jupyter.org/)\n",
    "\n",
    "***Kernel:*** Python 3.8\n",
    "\n",
    "\n",
    "***"
   ]
  },
  {
   "cell_type": "markdown",
   "metadata": {},
   "source": [
    "<a id='TOC'></a>"
   ]
  },
  {
   "cell_type": "markdown",
   "metadata": {
    "toc": true
   },
   "source": [
    "<h1>Tabla de Contenidos<span class=\"tocSkip\"></span></h1>\n",
    "<div class=\"toc\"><ul class=\"toc-item\"><li><span><a href=\"#JUSTIFICACIÓN\" data-toc-modified-id=\"JUSTIFICACIÓN-1\"><span class=\"toc-item-num\">1&nbsp;&nbsp;</span>JUSTIFICACIÓN</a></span></li><li><span><a href=\"#OBJETIVOS-GENERALES-DEL-CURSO\" data-toc-modified-id=\"OBJETIVOS-GENERALES-DEL-CURSO-2\"><span class=\"toc-item-num\">2&nbsp;&nbsp;</span>OBJETIVOS GENERALES DEL CURSO</a></span></li><li><span><a href=\"#METODOLOGÍA\" data-toc-modified-id=\"METODOLOGÍA-3\"><span class=\"toc-item-num\">3&nbsp;&nbsp;</span>METODOLOGÍA</a></span></li><li><span><a href=\"#Contenidos:\" data-toc-modified-id=\"Contenidos:-4\"><span class=\"toc-item-num\">4&nbsp;&nbsp;</span>Contenidos:</a></span></li><li><span><a href=\"#EVALUACIÓN\" data-toc-modified-id=\"EVALUACIÓN-5\"><span class=\"toc-item-num\">5&nbsp;&nbsp;</span>EVALUACIÓN</a></span></li><li><span><a href=\"#BIBLIOGRAFÍA\" data-toc-modified-id=\"BIBLIOGRAFÍA-6\"><span class=\"toc-item-num\">6&nbsp;&nbsp;</span>BIBLIOGRAFÍA</a></span></li></ul></div>"
   ]
  },
  {
   "cell_type": "markdown",
   "metadata": {
    "slideshow": {
     "slide_type": "slide"
    }
   },
   "source": [
    "![Imagen](https://github.com/carlosalvarezh/Analisis_de_Algoritmos/blob/master/images/Algorithms.png?raw=true \"\")"
   ]
  },
  {
   "cell_type": "markdown",
   "metadata": {
    "slideshow": {
     "slide_type": "slide"
    }
   },
   "source": [
    "## JUSTIFICACIÓN"
   ]
  },
  {
   "cell_type": "markdown",
   "metadata": {
    "slideshow": {
     "slide_type": "fragment"
    }
   },
   "source": [
    "Saber programar un computador es hoy en día una necesidad más que puntual de solamente algunas profesiones que tienen que ver con el desarrollo de software a nivel empresarial (Ingeniería de Sistemas, en el caso colombiano o Ciencias de la Computación, en un caso más general). Cada vez más profesionales de distintas áreas del saber cómo las ingenierías, ciencias exactas, salud, sociales, entre otras, requieren adquirir habilidades en el desarrollo de programas eficientes que les permita generar soluciones y analizar grandes volúmenes de información en un lapso de tiempo adecuado.\n",
    "\n",
    "Pero no basta escribir un programa que resuelva un problema matemático o permita obtener una solución puntual a un problema determinado. Es necesario que el programador tenga conocimientos de cómo sería la mejor forma, la más eficiente, por así decirlo, de resolver no solo ese problema puntual sino una familia de problemas similares que se puedan describir de forma similar empleando los mismos algoritmos.\n",
    "\n",
    "Es por esto que se presenta este curso a un nivel de posgrado dando especial atención a los aspectos que puedan ser de mayor interés para los profesionales de áreas diferentes a la de las Ciencias de la Computación. "
   ]
  },
  {
   "cell_type": "markdown",
   "metadata": {
    "slideshow": {
     "slide_type": "subslide"
    }
   },
   "source": [
    "## OBJETIVOS GENERALES DEL CURSO"
   ]
  },
  {
   "cell_type": "markdown",
   "metadata": {
    "slideshow": {
     "slide_type": "fragment"
    }
   },
   "source": [
    "Presentar a los estudiantes de áreas diferentes a las de las Ciencias de la Computación, los fundamentos básicos del Análisis de Algoritmos que les posibilitarán escribir programas eficientes y obtener resultados en tiempos razonables."
   ]
  },
  {
   "cell_type": "markdown",
   "metadata": {
    "slideshow": {
     "slide_type": "subslide"
    }
   },
   "source": [
    "## METODOLOGÍA"
   ]
  },
  {
   "cell_type": "markdown",
   "metadata": {
    "slideshow": {
     "slide_type": "fragment"
    }
   },
   "source": [
    "Clases magistrales en donde el docente expondrá los diferentes temas, propondrá una serie de ejercicios a ser resueltos en clase y se plantearán desafíos de análisis de los algoritmos vistos y su respectiva codificación en algún lenguaje de programación de libre elección por parte del estudiante (C, C++, Fortran, MATLAB, Python, Julia, etc.) que deberán ser entregados en la clase siguiente. "
   ]
  },
  {
   "cell_type": "markdown",
   "metadata": {
    "slideshow": {
     "slide_type": "slide"
    }
   },
   "source": [
    "## Contenidos:"
   ]
  },
  {
   "cell_type": "markdown",
   "metadata": {
    "slideshow": {
     "slide_type": "fragment"
    }
   },
   "source": [
    "1. Introducción (Sesión 01, ago/06)\n",
    "\n",
    "    1.1 Definición de algoritmos\n",
    "    \n",
    "    1.2 Notación matemática"
   ]
  },
  {
   "cell_type": "markdown",
   "metadata": {
    "slideshow": {
     "slide_type": "subslide"
    }
   },
   "source": [
    "2. Algoritmia elemental (Sesión 02, ago/13)\n",
    "\n",
    "    2.1 Eficiencia de los algoritmos\n",
    "    \n",
    "    2.2 Análisis de “caso medio” y “caso peor”\n",
    "    \n",
    "    2.3 Operaciones elementales\n",
    "    \n",
    "    2.4 Ejemplos y desafíos"
   ]
  },
  {
   "cell_type": "markdown",
   "metadata": {
    "slideshow": {
     "slide_type": "subslide"
    }
   },
   "source": [
    "3. Notación asintótica (Sesión 03, ago/20)\n",
    "\n",
    "    3.1 “orden de...”\n",
    "    \n",
    "    3.2 Operaciones sobre notación asintótica\n",
    "    \n",
    "    3.3 Ejemplos y desafíos"
   ]
  },
  {
   "cell_type": "markdown",
   "metadata": {
    "slideshow": {
     "slide_type": "subslide"
    }
   },
   "source": [
    "4. Análisis de algoritmos (Sesión 04, ago/27)\n",
    "\n",
    "    4.1 Estructuras de control: Secuencias, bucles para, mientras y repetir, recursividad.\n",
    "    \n",
    "    4.2 Análisis de caso medio y amortizado\n",
    "    \n",
    "    4.3 Ejemplos y desafíos"
   ]
  },
  {
   "cell_type": "markdown",
   "metadata": {
    "slideshow": {
     "slide_type": "subslide"
    }
   },
   "source": [
    "5. Estructuras de datos (Sesión 05, sep/03)\n",
    "    \n",
    "    5.1 Arreglos, pilas y colas\n",
    "    \n",
    "    5.2 Listas\n",
    "    \n",
    "    5.3 Grafos\n",
    "    \n",
    "    5.4 Árboles\n",
    "    \n",
    "    5.5 Ejemplos y desafíos"
   ]
  },
  {
   "cell_type": "markdown",
   "metadata": {
    "slideshow": {
     "slide_type": "subslide"
    }
   },
   "source": [
    "6. Algoritmos de ordenación y búsqueda (Sesión 06, sep/10)\n",
    "\n",
    "    6.1 Caso general\n",
    "    \n",
    "    6.2 Algoritmos de ordenación\n",
    "    \n",
    "    6.3 Algoritmos de búsqueda\n",
    "    \n",
    "    6.4 Ejemplos y desafíos"
   ]
  },
  {
   "cell_type": "markdown",
   "metadata": {
    "slideshow": {
     "slide_type": "subslide"
    }
   },
   "source": [
    "7. Complejidad computacional (Sesión 07, sep/17)\n",
    "\n",
    "    7.1 Introducción\n",
    "    \n",
    "    7.2 Teoría de la información\n",
    "    \n",
    "    7.3 Argumentos del adversario\n",
    "    \n",
    "    7.4 Reducciones lineales\n",
    "    \n",
    "    7.5 Clases P y NP\n",
    "    \n",
    "    7.6 Ejemplos y desafíos"
   ]
  },
  {
   "cell_type": "markdown",
   "metadata": {
    "slideshow": {
     "slide_type": "subslide"
    }
   },
   "source": [
    "8. Algoritmos probabilistas (Sesión 08, sep/24)\n",
    "\n",
    "    8.1 Introducción\n",
    "    \n",
    "    8.2 Algoritmos probabilistas numéricos\n",
    "    \n",
    "    8.3 Algoritmos de Monte Carlo\n",
    "    \n",
    "    8.4 Ejemplos y desafíos"
   ]
  },
  {
   "cell_type": "markdown",
   "metadata": {
    "slideshow": {
     "slide_type": "subslide"
    }
   },
   "source": [
    "9. Algoritmos paralelos (Sesión 09, oct/01)\n",
    "\n",
    "    9.1 Introducción a la computación paralela\n",
    "    \n",
    "    9.2 Evaluación de expresiones en paralelos\n",
    "    \n",
    "    9.3 Ordenación en paralelo\n",
    "    \n",
    "    9.4 Cómputo distribuido\n",
    "    \n",
    "    9.5 Ejemplos y desafíos"
   ]
  },
  {
   "cell_type": "markdown",
   "metadata": {
    "slideshow": {
     "slide_type": "slide"
    }
   },
   "source": [
    "## EVALUACIÓN"
   ]
  },
  {
   "cell_type": "markdown",
   "metadata": {
    "slideshow": {
     "slide_type": "fragment"
    }
   },
   "source": [
    "- ***Seguimiento semanal:*** Desafíos semanales (40%). El estudiante deberá entregar al menos cuatro (4) desafíos (10% cada uno).\n",
    "\n",
    "- ***Trabajo individual:*** Entregable 1, 27/08/2019 (20%)\n",
    "\n",
    "- ***Trabajo individual:*** Entregable 2, 24/09/2019 (20%)\n",
    "\n",
    "- ***Trabajo individual:*** Entregable 3, 15/10/2019 (20%)"
   ]
  },
  {
   "cell_type": "markdown",
   "metadata": {
    "slideshow": {
     "slide_type": "slide"
    }
   },
   "source": [
    "## BIBLIOGRAFÍA"
   ]
  },
  {
   "cell_type": "markdown",
   "metadata": {
    "slideshow": {
     "slide_type": "fragment"
    }
   },
   "source": [
    "- Brassard, G., y Bratley, P. Fundamentos de Algoritmia, Prentice Hall, 1998.\n",
    "\n",
    "- Cormen, T., Algorithms Unloked, The MIT Press, 2013.\n",
    "\n",
    "- Cormen, T., Leiserson, Ch., Rivest, R. and Stein C.: Introduction to Algorithms, 3rd. Ed. The MIT Press, 2009.\n",
    "\n",
    "- Martin, R., Clean Code: A handbook of agile software craftsmanship, Prentice Hall, 2009.\n",
    "\n",
    "- Skiena, S., The Algorithm Design Manual, 2nd. Ed., Springer, 1997.\n"
   ]
  },
  {
   "cell_type": "code",
   "execution_count": null,
   "metadata": {
    "slideshow": {
     "slide_type": "slide"
    }
   },
   "outputs": [],
   "source": []
  }
 ],
 "metadata": {
  "kernelspec": {
   "display_name": "Python 3",
   "language": "python",
   "name": "python3"
  },
  "language_info": {
   "codemirror_mode": {
    "name": "ipython",
    "version": 3
   },
   "file_extension": ".py",
   "mimetype": "text/x-python",
   "name": "python",
   "nbconvert_exporter": "python",
   "pygments_lexer": "ipython3",
   "version": "3.6.13"
  },
  "toc": {
   "base_numbering": 1,
   "nav_menu": {},
   "number_sections": true,
   "sideBar": true,
   "skip_h1_title": true,
   "title_cell": "Tabla de Contenidos",
   "title_sidebar": "Contenidos",
   "toc_cell": true,
   "toc_position": {
    "height": "calc(100% - 180px)",
    "left": "10px",
    "top": "150px",
    "width": "165px"
   },
   "toc_section_display": true,
   "toc_window_display": true
  }
 },
 "nbformat": 4,
 "nbformat_minor": 2
}
