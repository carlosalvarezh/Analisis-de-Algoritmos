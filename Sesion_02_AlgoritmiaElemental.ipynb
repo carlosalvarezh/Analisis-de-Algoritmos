{
 "cells": [
  {
   "cell_type": "markdown",
   "metadata": {
    "slideshow": {
     "slide_type": "slide"
    }
   },
   "source": [
    "<h1 align=\"center\">ANÁLISIS DE ALGORITMOS</h1>\n",
    "\n",
    "<h1 align=\"center\">Sesión 02: Algoritmia elemental</h1>\n",
    "\n",
    "<h1 align=\"center\">MEDELLÍN - COLOMBIA </h1>\n",
    "\n",
    "<h1 align=\"center\">2021 </h1>"
   ]
  },
  {
   "cell_type": "markdown",
   "metadata": {},
   "source": [
    "<table>\n",
    " <tr align=left><td><img align=left src=\"https://github.com/carlosalvarezh/Analisis_de_Algoritmos/blob/master/images/CC-BY.png?raw=true\">\n",
    " <td>Text provided under a Creative Commons Attribution license, CC-BY. All code is made available under the FSF-approved MIT license.(c) Carlos Alberto Alvarez Henao</td>\n",
    "</table>"
   ]
  },
  {
   "cell_type": "markdown",
   "metadata": {},
   "source": [
    "*** \n",
    "\n",
    "***Docente:*** Carlos Alberto Álvarez Henao, I.C. D.Sc.\n",
    "\n",
    "***e-mail:*** carlosalvarezh@gmail.com\n",
    "\n",
    "***skype:*** carlos.alberto.alvarez.henao\n",
    "\n",
    "***Linkedin:*** https://www.linkedin.com/in/carlosalvarez5/\n",
    "\n",
    "***github:*** https://github.com/carlosalvarezh/Metodos_Numericos\n",
    "\n",
    "***Herramienta:*** [Jupyter](http://jupyter.org/)\n",
    "\n",
    "***Kernel:*** Python 3.8\n",
    "\n",
    "\n",
    "***"
   ]
  },
  {
   "cell_type": "markdown",
   "metadata": {},
   "source": [
    "<a id='TOC'></a>"
   ]
  },
  {
   "cell_type": "markdown",
   "metadata": {
    "toc": true
   },
   "source": [
    "<h1>Tabla de Contenidos<span class=\"tocSkip\"></span></h1>\n",
    "<div class=\"toc\"><ul class=\"toc-item\"><li><span><a href=\"#Algoritmia-Elemental\" data-toc-modified-id=\"Algoritmia-Elemental-2\"><span class=\"toc-item-num\">2&nbsp;&nbsp;</span>Algoritmia Elemental</a></span><ul class=\"toc-item\"><li><span><a href=\"#Ejemplo-de-un-algoritmo:\" data-toc-modified-id=\"Ejemplo-de-un-algoritmo:-2.1\"><span class=\"toc-item-num\">2.1&nbsp;&nbsp;</span>Ejemplo de un algoritmo:</a></span></li><li><span><a href=\"#Pseudocódigo\" data-toc-modified-id=\"Pseudocódigo-2.2\"><span class=\"toc-item-num\">2.2&nbsp;&nbsp;</span>Pseudocódigo</a></span></li><li><span><a href=\"#Diagrama-de-flujo\" data-toc-modified-id=\"Diagrama-de-flujo-2.3\"><span class=\"toc-item-num\">2.3&nbsp;&nbsp;</span>Diagrama de flujo</a></span></li><li><span><a href=\"#Código-en-lenguaje-de-programación-(python)\" data-toc-modified-id=\"Código-en-lenguaje-de-programación-(python)-2.4\"><span class=\"toc-item-num\">2.4&nbsp;&nbsp;</span>Código en lenguaje de programación (python)</a></span></li><li><span><a href=\"#Eficiencia-de-los-algoritmos\" data-toc-modified-id=\"Eficiencia-de-los-algoritmos-2.5\"><span class=\"toc-item-num\">2.5&nbsp;&nbsp;</span>Eficiencia de los algoritmos</a></span></li><li><span><a href=\"#Análisis-de-caso-medio-y-caso-peor\" data-toc-modified-id=\"Análisis-de-caso-medio-y-caso-peor-2.6\"><span class=\"toc-item-num\">2.6&nbsp;&nbsp;</span>Análisis de <em>caso medio</em> y <em>caso peor</em></a></span></li><li><span><a href=\"#Operaciones-elementales\" data-toc-modified-id=\"Operaciones-elementales-2.7\"><span class=\"toc-item-num\">2.7&nbsp;&nbsp;</span>Operaciones elementales</a></span></li><li><span><a href=\"#Reglas-generales-para-el-cálculo-del-número-de-operaciones-elementales-(OE)\" data-toc-modified-id=\"Reglas-generales-para-el-cálculo-del-número-de-operaciones-elementales-(OE)-2.8\"><span class=\"toc-item-num\">2.8&nbsp;&nbsp;</span>Reglas generales para el cálculo del número de operaciones elementales (OE)</a></span></li><li><span><a href=\"#Reglas-generales-para-el-cálculo-de-OE\" data-toc-modified-id=\"Reglas-generales-para-el-cálculo-de-OE-2.9\"><span class=\"toc-item-num\">2.9&nbsp;&nbsp;</span>Reglas generales para el cálculo de OE</a></span></li><li><span><a href=\"#Buscando-la-eficiencia\" data-toc-modified-id=\"Buscando-la-eficiencia-2.10\"><span class=\"toc-item-num\">2.10&nbsp;&nbsp;</span>Buscando la eficiencia</a></span></li><li><span><a href=\"#Desafío-1:\" data-toc-modified-id=\"Desafío-1:-2.11\"><span class=\"toc-item-num\">2.11&nbsp;&nbsp;</span>Desafío 1:</a></span></li></ul></li></ul></div>"
   ]
  },
  {
   "cell_type": "markdown",
   "metadata": {},
   "source": [
    "**_Nota:_** Conceptos retomados en parte de (Brassard y Bratley, 1998)."
   ]
  },
  {
   "cell_type": "markdown",
   "metadata": {
    "slideshow": {
     "slide_type": "-"
    }
   },
   "source": [
    "## Algoritmia Elemental\n",
    "\n"
   ]
  },
  {
   "cell_type": "markdown",
   "metadata": {
    "slideshow": {
     "slide_type": "subslide"
    }
   },
   "source": [
    "Entenderemos por *algoritmia* el estudio de los algoritmos.\n",
    "\n",
    "\n",
    "- En ciertas situaciones podremos necesitar un algoritmo que consuma el menor tiempo posible o el que use menos espacio, o el de mayor facilidad en programación. En estos casos es importante poder disponer de elementos para tomar la decisión adecuada.\n",
    "\n",
    "\n",
    "- La algoritmia nos dará las herramientas para evaluar los efectos de esos factores, posibilitando la selección del que más se ajuste a las necesidades particulares."
   ]
  },
  {
   "cell_type": "markdown",
   "metadata": {},
   "source": [
    "### Ejemplo de un algoritmo:"
   ]
  },
  {
   "cell_type": "markdown",
   "metadata": {
    "slideshow": {
     "slide_type": "subslide"
    }
   },
   "source": [
    "***Multiplicación $\\grave{a}$ $la$ $russe$***\n",
    "\n",
    "En *lenguaje natural*, la definición del algoritmo sería:\n",
    "\n",
    "\"Se escriben el multiplicando y el multiplicador uno junto a otro. Se hacen dos columnas, una debajo de cada operando, repitiendo la regla siguiente hasta que el número de la columna izquierda sea un 1: *se divide el número de la columna de la izquierda por 2, ignorando los restos y se duplica el número de la columna de la derecha sumándolo consigo mismo. A continuación se tachan todas las filas en las cuales el número de la columna izquierda sea par, y finalmente se suman los número que quedan en la columna de la derecha*.\""
   ]
  },
  {
   "cell_type": "markdown",
   "metadata": {
    "slideshow": {
     "slide_type": "subslide"
    }
   },
   "source": [
    "|**Numero 1**|**Numero 2**|**Resultado**|\n",
    "|:----:|:-----:|:-----:|\n",
    "| 981  |  1.234|  1.234|\n",
    "| 490  |  2.468|       |\n",
    "| 245  |  4.936|  4.936|\n",
    "| 122  |  9.872|       |\n",
    "|  61  | 19.744| 19.744|\n",
    "|  30  | 39.488|       |\n",
    "|  15  | 78.976| 78.976|\n",
    "|   7  |157.952|157.952|\n",
    "|   3  |315.904|315.904|\n",
    "|   1  |631.808|631.808|\n",
    "|   -  |   -   | -     |\n",
    "|   -  |   -   |1.210.554|"
   ]
  },
  {
   "cell_type": "markdown",
   "metadata": {
    "slideshow": {
     "slide_type": "subslide"
    }
   },
   "source": [
    "### Pseudocódigo"
   ]
  },
  {
   "cell_type": "raw",
   "metadata": {
    "slideshow": {
     "slide_type": "fragment"
    }
   },
   "source": [
    "función rusa(m,n)\n",
    "    resultado <-- 0\n",
    "    hasta que m = 1\n",
    "        si m es impar entonces\n",
    "            resultado <-- resultado + n\n",
    "        m <-- m // 2\n",
    "        n <-- n + n\n",
    "    devolver resultado"
   ]
  },
  {
   "cell_type": "markdown",
   "metadata": {
    "slideshow": {
     "slide_type": "subslide"
    }
   },
   "source": [
    "### Diagrama de flujo"
   ]
  },
  {
   "cell_type": "markdown",
   "metadata": {
    "slideshow": {
     "slide_type": "subslide"
    }
   },
   "source": [
    "![Imagen](https://github.com/carlosalvarezh/Analisis_de_Algoritmos/blob/master/images/DiagFlujoAlgoritmo.png?raw=true \"\")"
   ]
  },
  {
   "cell_type": "markdown",
   "metadata": {
    "slideshow": {
     "slide_type": "subslide"
    }
   },
   "source": [
    "### Código en lenguaje de programación (python)"
   ]
  },
  {
   "cell_type": "code",
   "execution_count": 1,
   "metadata": {
    "slideshow": {
     "slide_type": "subslide"
    }
   },
   "outputs": [
    {
     "name": "stdout",
     "output_type": "stream",
     "text": [
      "ingrese un número: 981\n",
      "Ingrese otro número: 1234\n",
      "m \t n\t resultado\n",
      "981 \t 1234\n",
      "\t\t 1234\n",
      "490 \t 2468\n",
      "245 \t 4936\n",
      "\t\t 6170\n",
      "122 \t 9872\n",
      "61 \t 19744\n",
      "\t\t 25914\n",
      "30 \t 39488\n",
      "15 \t 78976\n",
      "\t\t 104890\n",
      "7 \t 157952\n",
      "\t\t 262842\n",
      "3 \t 315904\n",
      "\t\t 578746\n",
      "1 \t 631808\n",
      "\t\t 631808\n",
      "la multiplicación de 981 x 1234 es 1210554\n"
     ]
    }
   ],
   "source": [
    "# Código en lenguaje de programación (Python)\n",
    "\n",
    "def rusa(m,n):\n",
    "    print(m, \"\\t\", n)\n",
    "    resultado = 0\n",
    "    while m != 1:\n",
    "        if m%2 != 0:\n",
    "            resultado += n\n",
    "            print(\"\\t\\t\",resultado)\n",
    "        m = int(m/2)\n",
    "        n += n\n",
    "        print(m, \"\\t\", n)\n",
    "    resultado += n\n",
    "    print(\"\\t\\t\",n)\n",
    "    return resultado\n",
    "\n",
    "m = int(input(\"ingrese un número: \"))\n",
    "n = int(input(\"Ingrese otro número: \"))\n",
    "\n",
    "print(\"m \\t n\\t resultado\")\n",
    "print(\"la multiplicación de {0} x {1} es {2}\".format(m,n,rusa(m,n)))"
   ]
  },
  {
   "cell_type": "markdown",
   "metadata": {
    "slideshow": {
     "slide_type": "subslide"
    }
   },
   "source": [
    "Un algoritmo debe funcionar correctamente para todos los casos del problema en cuestión. \n",
    "\n",
    "- El algoritmo de multiplicación $\\grave{a}$ $la$ $russe$, solo se puede emplear para números enteros positivos.\n",
    "\n",
    "\n",
    "- Un algoritmo es incorrecto si no cumple al menos para un caso.\n",
    "\n",
    "\n",
    "- Como en el ejemplo anterior, el algoritmo es correcto una vez se especifica su dominio de validéz (enteros mayores que cero)"
   ]
  },
  {
   "cell_type": "markdown",
   "metadata": {},
   "source": [
    "### Eficiencia de los algoritmos"
   ]
  },
  {
   "cell_type": "markdown",
   "metadata": {
    "slideshow": {
     "slide_type": "subslide"
    }
   },
   "source": [
    "- Para resolver un problema dado se puede contar no con una única forma sino varias, muchas, e incluso infinitas formas de afrontar el problema, o ninguna.\n",
    "\n",
    "\n",
    "- De existir una posible respuesta, se desea seleccionar el mejor algoritmo que permita encontrar su solución.\n",
    "\n",
    "\n",
    "- Entonces resulta la pregunta **_¿cómo decidir entre varios algoritmos cuál es el mejor?_**"
   ]
  },
  {
   "cell_type": "markdown",
   "metadata": {
    "slideshow": {
     "slide_type": "subslide"
    }
   },
   "source": [
    "- Si el problema a resolver es pequeño o son pocos los casos, el criterio de selección del algoritmo adecuado puede definirse por el que sea más fácil de programar, o alguno para el cual ya se cuente con algún programa.\n",
    "\n",
    "\n",
    "- Si se tienen que resolver muchos casos, o si el problema es muy difícil y consume muchos recursos de máquina (memoria RAM, capacidad de almacenamiento, procesador, tiempo, energía, etc...) es necesario realizar algún tipo de análiss previo para determinar cuál es el algoritmo que mejor se adecúe a nuestras necesidades."
   ]
  },
  {
   "cell_type": "markdown",
   "metadata": {
    "slideshow": {
     "slide_type": "subslide"
    }
   },
   "source": [
    "- **Enfoque empírico (a posteriori):** para la selección de un algoritmo, consiste en programar las diferentes técnicas e irlas probando para distintos casos en una computadora.\n",
    "\n",
    "\n",
    "- **Enfoque teórico (a priori):** es el que se estudiará a lo largo del curso, y consiste en determinar matemáticamente la cantidad de recursos necesarios a ser empleados en cada uno de los algoritmos propuestos en función del tamaño de los problemas. \n",
    "\n",
    "\n",
    "- Los recursos de mayor interés son el tiempo de cómputo y el espacio de almacenamiento."
   ]
  },
  {
   "cell_type": "markdown",
   "metadata": {
    "slideshow": {
     "slide_type": "subslide"
    }
   },
   "source": [
    "En el curso, hablar de la *eficiencia del algoritmo* se referirá a qué tan rápido obtiene la respuesta.\n",
    "\n",
    "- También nos podrémos interesar por otros tipos de recursos como el almacenamiento, cantidad de procesadores en algoritmos en paralelo, entre otros.\n",
    "\n",
    "\n",
    "- Por *tamaño* definiremos cualquier entero que mida de alguna forma el número de componentes de un problema."
   ]
  },
  {
   "cell_type": "markdown",
   "metadata": {
    "slideshow": {
     "slide_type": "subslide"
    }
   },
   "source": [
    "- La ventaja de la aproximación teórica es que no depende ni de la computadora, ni del lenguaje de programación, ni siquiera de las habilidades del programador.\n",
    "\n",
    "\n",
    "- Permite estudiar la eficiencia del algoritmo cuando es usado en problemas de cualquier tamaño.\n",
    "\n",
    "\n",
    "- Se puede emplear una aproximación híbrida."
   ]
  },
  {
   "cell_type": "markdown",
   "metadata": {
    "slideshow": {
     "slide_type": "subslide"
    }
   },
   "source": [
    "- Si lo que se desea es medir la cantidad de espacio empleado por el algoritmo en función del tamaño del problema, está bien definida la unidad *bit*, ya que es el mismo valor independientemente del tipo de máquina empleado para la ejecución del algoritmo.\n",
    "\n",
    "\n",
    "- Si la unidad de medida de eficiencia del algoritmo es el tiempo, no existe tanta claridad al respecto en el sentido de que no existe una computadora estándar sobre la cual tomar la medida."
   ]
  },
  {
   "cell_type": "markdown",
   "metadata": {
    "slideshow": {
     "slide_type": "subslide"
    }
   },
   "source": [
    "**_Principio de invarianza:_** Para intentar dar respuesta a la situación anterior, se tiene este principio que afirma que *dos implementaciones distintas de un mismo algoritmo no diferirán en su eficiencia en más de alguna constante multiplicativa*.\n",
    "\n",
    "Más formalmente, si dos implementaciones del mismo algoritmo necesitan $t_1(n)$ y $t_2(n)$ segundos, respectivamente, para resolver un caso de tamaño $n$, entonces existe una constante real $c>0$ y un número natural $n_0$ tal que para todo $n \\geq n_0$ se tiene que $t_1(n) \\leq ct_2(n)$, con $n$ suficientemente grande.\n",
    "\n",
    "- El tiempo de ejecución de cualquiera de las implementaciones está acotado por un múltiplo constante del tiempo de ejecución de la otra."
   ]
  },
  {
   "cell_type": "markdown",
   "metadata": {
    "slideshow": {
     "slide_type": "subslide"
    }
   },
   "source": [
    "- Este principio es cierto sea cual fuere la computadora utilizada, independientemente del lenguaje de programación y del compilador empleado, e incluso de la habilidad del programador, siempre y cuando no se modifique el algoritmo.\n",
    "\n",
    "  - Un cambio de máquina puede resolver un problema $10$ o $100$ veces más rápido, proporcionando un cambio describible por un factor constante.\n",
    "\n",
    "  - Un cambio de algoritmo puede dar un incremento que se vuelva cada vez más pronunciado a medida que crezca el tamaño de $n$."
   ]
  },
  {
   "cell_type": "markdown",
   "metadata": {
    "slideshow": {
     "slide_type": "subslide"
    }
   },
   "source": [
    "Con el principio de invarianza la unidad de medida de la eficiencia desaparece. Se dirá entonces que:\n",
    "\n",
    "> *un algoritmo requiere un tiempo **del orden de** $t(n)$ para una función dada $t$, si existe una constante positiva $c$ y una implementación del algoritmo capaz de resolver todos los casos de tamaño $n$ en un tiempo que no sea superior a $ct(n)$ unidades de tiempo (segundos, milisengundos, minutos, años, $\\ldots$.)*"
   ]
  },
  {
   "cell_type": "markdown",
   "metadata": {
    "slideshow": {
     "slide_type": "subslide"
    }
   },
   "source": [
    "Hay ciertos tipos de **_orden de_** que merecen especial atención:\n",
    "\n",
    "Suponga que el tiempo necesario para que un algoritmo resuelva un caso del tamaño $n$ nunca es más que $cn$ segundos, se dirá entonces que el algoritmo requiere un tiempo en el orden de $n$, o que se requiere de un tiempo *lineal*.\n",
    "\n",
    "- si un algoritmo nunca necesita más de $cn^2$ segundos para resolver un caso de tamaño $n$, entonces se dirá que requiere de un tiempo del orden de $n^2$, o que se requiere de un tiempo *cuadrático*.\n",
    "\n",
    "\n",
    "- De la misma forma se tienen algorítmos de orden *cúbico, polinomial, logarítmico, exponencial*, entre muchos otros."
   ]
  },
  {
   "cell_type": "markdown",
   "metadata": {
    "slideshow": {
     "slide_type": "slide"
    }
   },
   "source": [
    "### Análisis de *caso medio* y *caso peor*"
   ]
  },
  {
   "cell_type": "markdown",
   "metadata": {
    "slideshow": {
     "slide_type": "subslide"
    }
   },
   "source": [
    "El tiempo que consume un algoritmo, o el espacio de almacenamiento, pueden variar considerablemente entre dos ejemplares distintos del mismo tamaño.\n",
    "\n",
    "- **_Caso mejor:_** corresponde a la secuencia de sentencias del algoritmo que realiza menos instrucciones.\n",
    "\n",
    "\n",
    "- **_Caso peor:_** Análogo al anterior, corresponde al algoritmo que realiza más instrucciones.\n",
    "\n",
    "\n",
    "- **_Caso medio:_** Secuencia de sentencias que realiza un número de instrucciones igual a la esperanza matemática de la variable aleatoria definida por todas las posibles sentencias del algoritmo para un tamaño dado.\n",
    "\n",
    "\n",
    "**_p.ej._** Considérense dos algoritmos elemenentales de ordenación: por *inserción* y por _selección_."
   ]
  },
  {
   "cell_type": "raw",
   "metadata": {
    "slideshow": {
     "slide_type": "subslide"
    }
   },
   "source": [
    "funcion insersion(T[1...n])\n",
    "    para i <-- 1 hasta n hacer:\n",
    "        x <-- T[i]\n",
    "        j <-- i\n",
    "        mientras j > 0 y x < T[j-1] hacer:\n",
    "            T[j] <-- T[j-1]\n",
    "            j <-- j-1\n",
    "        T[j] <-- x"
   ]
  },
  {
   "cell_type": "markdown",
   "metadata": {
    "slideshow": {
     "slide_type": "subslide"
    }
   },
   "source": [
    "- El ciclo principal de la ordenación por inserción va recorriendo sucesivamente todos los elementos de la matriz desde el segundo hasta el $n-ésimo$, e inserta cada uno en el lugar adecuado entre los predecesores del arreglo, $T$."
   ]
  },
  {
   "cell_type": "markdown",
   "metadata": {
    "slideshow": {
     "slide_type": "subslide"
    }
   },
   "source": [
    "Codificando el algoritmos de insersión en un lenguaje de programación (*Python* en este caso)"
   ]
  },
  {
   "cell_type": "code",
   "execution_count": 2,
   "metadata": {
    "code_folding": [],
    "slideshow": {
     "slide_type": "subslide"
    }
   },
   "outputs": [],
   "source": [
    "def insersion(T,n):\n",
    "    for i in range(1,n):\n",
    "        x = T[i]\n",
    "        j = i\n",
    "        while j > 0 and x < T[j-1]:\n",
    "            T[j] = T[j-1]\n",
    "            j -= 1\n",
    "        T[j] = x\n",
    "    return T\n",
    "        "
   ]
  },
  {
   "cell_type": "markdown",
   "metadata": {
    "slideshow": {
     "slide_type": "subslide"
    }
   },
   "source": [
    "El algoritmo de ordenamiento por *selección* es"
   ]
  },
  {
   "cell_type": "raw",
   "metadata": {
    "slideshow": {
     "slide_type": "subslide"
    }
   },
   "source": [
    "funcion seleccion(T[1...n])\n",
    "    para i <-- 1 hasta n-1 hacer:\n",
    "        minimo <-- i\n",
    "        para j <-- i+1 hasta n hacer:\n",
    "            si T[j] < T[minimo] entonces:\n",
    "                minimo <-- j\n",
    "        aux <-- T[i]\n",
    "        T[i] <-- T[minimo]\n",
    "        T[minimo] <-- aux"
   ]
  },
  {
   "cell_type": "markdown",
   "metadata": {
    "slideshow": {
     "slide_type": "subslide"
    }
   },
   "source": [
    "- La ordenación por selección funciona seleccionando el menor elemento del arreglo y llevándolo al principio; a continuación selecciona el siguiente menor y lo pone en la segunda posición del arreglo, y así sucesivamente."
   ]
  },
  {
   "cell_type": "markdown",
   "metadata": {
    "slideshow": {
     "slide_type": "subslide"
    }
   },
   "source": [
    "Codificando el algoritmo de *selección* en un lenguaje de programación (*Python* en este caso);"
   ]
  },
  {
   "cell_type": "code",
   "execution_count": 3,
   "metadata": {
    "slideshow": {
     "slide_type": "subslide"
    }
   },
   "outputs": [],
   "source": [
    "def seleccion(T,n):\n",
    "    for i in range(0,n-1):\n",
    "        minimo = i\n",
    "        for j in range(i+1, n):\n",
    "            if T[j]< T[minimo]:\n",
    "                minimo = j\n",
    "        aux = T[i]\n",
    "        T[i] = T[minimo]\n",
    "        T[minimo] = aux\n",
    "    return T"
   ]
  },
  {
   "cell_type": "markdown",
   "metadata": {
    "slideshow": {
     "slide_type": "subslide"
    }
   },
   "source": [
    "Ahora realicemos un pequeño experimento numérico:\n",
    "\n",
    "Sean $U$ y $V$ dos arreglos con $n$ elementos tales que $U$ ya está ordenado en forma ascendente, mientras que $V$ está ordenado en orden descendente, empleando el algoritmo de *insersión* y cambiando el tamaño $n$ del arreglo a ordenar"
   ]
  },
  {
   "cell_type": "code",
   "execution_count": 4,
   "metadata": {
    "scrolled": true,
    "slideshow": {
     "slide_type": "subslide"
    }
   },
   "outputs": [
    {
     "name": "stdout",
     "output_type": "stream",
     "text": [
      "U: [0, 1, 2, 3, 4, 5, 6, 7, 8, 9]\n",
      "V: [9, 8, 7, 6, 5, 4, 3, 2, 1, 0]\n",
      "Arreglo U ordenado mediante el algoritmo de insersión: [0, 1, 2, 3, 4, 5, 6, 7, 8, 9]\n",
      "Tiempo ordenamiento U por algoritmo insersion: 0.00036978721618652344\n",
      "Arreglo V ordenado mediante el algoritmo de insersión: [0, 1, 2, 3, 4, 5, 6, 7, 8, 9]\n",
      "Tiempo ordenamiento V por algoritmo insersion: 0.0002524852752685547\n",
      "porcentaje de tiempo para ambos arreglos por algoritmo insersion: 31.72\n"
     ]
    }
   ],
   "source": [
    "import numpy as np # Carga bibliotecas numéricas\n",
    "from time import time # Carga biblioteca de tiempo\n",
    "\n",
    "n = 10 #Tamaño del arreglo\n",
    "U = [i for i in range(n)] #Generación del arreglo en orden ascendente, utilizando list comprehension\n",
    "print(\"U: {0}\".format(U)) #Impresión del arreglo U\n",
    "V = [i for i in range(n-1,-1,-1)] #Generación del arreglo en orden descendente\n",
    "print(\"V: {0}\".format(V)) #Impresión del arreglo V\n",
    "\n",
    "# Cálculo del tiempo de ejecución para el algoritmo de Insersión en el arreglo U\n",
    "tinU = time()\n",
    "Uins = insersion(U,n)\n",
    "toutU = time()\n",
    "print(\"Arreglo U ordenado mediante el algoritmo de insersión: {0}\".format(Uins))\n",
    "\n",
    "elapsedU = toutU - tinU\n",
    "print(\"Tiempo ordenamiento U por algoritmo insersion: {0}\".format(elapsedU))\n",
    "\n",
    "# Cálculo del tiempo de ejecución para el algoritmo de Insersión en el arreglo V\n",
    "tinV = time()\n",
    "Vins = insersion(V,n)\n",
    "toutV = time()\n",
    "print(\"Arreglo V ordenado mediante el algoritmo de insersión: {0}\".format(Vins))\n",
    "\n",
    "elapsedV = toutV - tinV\n",
    "print(\"Tiempo ordenamiento V por algoritmo insersion: {0}\".format(elapsedV))\n",
    "\n",
    "Tpercent = abs(elapsedU - elapsedV)/elapsedU*100\n",
    "print(\"porcentaje de tiempo para ambos arreglos por algoritmo insersion: {0:4.2f}\".format(Tpercent))\n"
   ]
  },
  {
   "cell_type": "markdown",
   "metadata": {
    "slideshow": {
     "slide_type": "subslide"
    }
   },
   "source": [
    "Repitiendo el experimento numérico anterior, pero esta vez empleando el algoritmod de *selección*\n",
    "\n",
    "- **_Nota:_** Obsérvese que se generarán nuevamente los arreglos. Tenga cuidado de usar los $U$ y $V$ anteriores, ya que éstos fueron modificados (verificar!!!)"
   ]
  },
  {
   "cell_type": "code",
   "execution_count": 5,
   "metadata": {
    "slideshow": {
     "slide_type": "subslide"
    }
   },
   "outputs": [
    {
     "name": "stdout",
     "output_type": "stream",
     "text": [
      "U: [0, 1, 2, 3, 4, 5, 6, 7, 8, 9]\n",
      "V: [9, 8, 7, 6, 5, 4, 3, 2, 1, 0]\n",
      "Arreglo U ordenado mediante el algoritmo de seleccion: [0, 1, 2, 3, 4, 5, 6, 7, 8, 9]\n",
      "Tiempo ordenamiento U por algoritmo seleccion: 0.00010418891906738281\n",
      "Arreglo V ordenado mediante el algoritmo de seleccion: [0, 1, 2, 3, 4, 5, 6, 7, 8, 9]\n",
      "Tiempo ordenamiento V por algoritmo seleccion: 6.651878356933594e-05\n",
      "porcentaje de tiempo para ambos arreglos por algoritmo seleccion: 36.16\n"
     ]
    }
   ],
   "source": [
    "n = 10 #Tamaño del arreglo\n",
    "U = [i for i in range(n)] #Generación del arreglo en orden ascendente, utilizando list comprehension\n",
    "print(\"U: {0}\".format(U)) #Visualización del arreglo U (solo habilitarlo para n pequeño)\n",
    "V = [i for i in range(n-1,-1,-1)] #Generación del arreglo en orden descendente\n",
    "print(\"V: {0}\".format(V)) #Visualización del arreglo V (solo habilitarlo para n pequeño)\n",
    "\n",
    "# Cálculo del tiempo de ejecución para el algoritmo de seleccion en el arreglo U\n",
    "tinU = time()\n",
    "Usel = seleccion(U,n)\n",
    "toutU = time()\n",
    "print(\"Arreglo U ordenado mediante el algoritmo de seleccion: {0}\".format(Usel))\n",
    "\n",
    "elapsedU = toutU - tinU\n",
    "print(\"Tiempo ordenamiento U por algoritmo seleccion: {0}\".format(elapsedU))\n",
    "\n",
    "# Cálculo del tiempo de ejecución para el algoritmo de seleccion en el arreglo V\n",
    "tinV = time()\n",
    "Vsel = seleccion(V,n)\n",
    "toutV = time()\n",
    "print(\"Arreglo V ordenado mediante el algoritmo de seleccion: {0}\".format(Vsel))\n",
    "\n",
    "elapsedV = toutV - tinV\n",
    "print(\"Tiempo ordenamiento V por algoritmo seleccion: {0}\".format(elapsedV))\n",
    "\n",
    "Tpercent = abs(elapsedU - elapsedV)/elapsedU*100\n",
    "print(\"porcentaje de tiempo para ambos arreglos por algoritmo seleccion: {0:4.2f}\".format(Tpercent))\n"
   ]
  },
  {
   "cell_type": "markdown",
   "metadata": {
    "slideshow": {
     "slide_type": "subslide"
    }
   },
   "source": [
    "Realizando un análisis básico de estos dos algoritmos presentados tenemos:\n",
    "\n",
    "- En ambos algoritmos, ordenar en forma ascendente (de menor a mayor) el arreglo $V$ (que está \"desordenado\" de mayor a menor) consume mucho más tiempo que el arreglo $U$ (que ya está ordenado de menor a mayor).\n",
    "\n",
    "\n",
    "- Ordenar el arreglo $V$ es el peor caso posible de ordenación.\n",
    "\n",
    "\n",
    "- El tiempo requerido por el algoritmo de *selección* no es muy sensible al orden original del vector, ya que la comprobación $T[j] < T[minimo]$ en todos los casos.\n",
    "\n",
    "\n",
    "- La variación en el tiempo se deberá entonces al número de veces que se ejecutan las instrucciones en el bloque seguido del *entonces* en dicho condicional."
   ]
  },
  {
   "cell_type": "markdown",
   "metadata": {
    "slideshow": {
     "slide_type": "subslide"
    }
   },
   "source": [
    "Se puede comprobar cuál sería la variación máxima en el tiempo cuando se tiene el arreglo desordenado de forma diferente.\n",
    "\n",
    "Veamos estos otros ejemplo, ahora generando la misma cantidad de elementos en cada experimento pero desordenados aleatoriamente. Se determinará cuál sería la variación de tiempo en cada caso.\n",
    "\n",
    "- Se usarán las funcionalidades del *Python* para generar números aleatorios."
   ]
  },
  {
   "cell_type": "code",
   "execution_count": 8,
   "metadata": {
    "slideshow": {
     "slide_type": "subslide"
    }
   },
   "outputs": [
    {
     "data": {
      "image/png": "[encoded data removed]",
      "text/plain": [
       "<Figure size 432x288 with 1 Axes>"
      ]
     },
     "metadata": {
      "needs_background": "light"
     },
     "output_type": "display_data"
    }
   ],
   "source": [
    "import random as rnd\n",
    "import matplotlib.pyplot as plt\n",
    "\n",
    "n = 500\n",
    "#a = np.arange(n)\n",
    "#np.random.shuffle(a)\n",
    "#print(a[:10])\n",
    "\n",
    "elapsed = []\n",
    "\n",
    "for i in range(n):\n",
    "# Cálculo del tiempo de ejecución para el algoritmo de seleccion en el arreglo U\n",
    "    a = np.arange(n)\n",
    "    np.random.shuffle(a)\n",
    "    \n",
    "    tina = time()\n",
    "    asel = seleccion(a,n)\n",
    "    touta = time()\n",
    "    \n",
    "    elapsedT = (touta - tina) #/touta * 100\n",
    "    elapsed.append(elapsedT)\n",
    "    #print(\"Tiempo ordenamiento por algoritmo seleccion: {0}\".format(elapseda))\n",
    "#print(elapsed)\n",
    "#Tpercent = abs(elapsedU - elapsedV)/elapsedU*100\n",
    "#print(\"porcentaje de tiempo para ambos arreglos por algoritmo seleccion: {0:4.2f}\".format(Tpercent))\n",
    "\n",
    "x = np.arange(n)\n",
    "plt.scatter(x,elapsed)\n",
    "plt.ylim(0.025,0.05)\n",
    "plt.show()"
   ]
  },
  {
   "cell_type": "markdown",
   "metadata": {
    "slideshow": {
     "slide_type": "subslide"
    }
   },
   "source": [
    "Se observa que la variación en los tiempos para cada tamaño de $n$ no es muy significativa cuando se tienen diferentes disposiciones desordenadas de los elementos del arreglo empleando el algoritmo de *selección*.\n",
    "\n",
    "La situación se muy diferente cuando se emplea el algoritmo de *inserción*. Veamos el mismo ejemplo."
   ]
  },
  {
   "cell_type": "code",
   "execution_count": 9,
   "metadata": {
    "slideshow": {
     "slide_type": "subslide"
    }
   },
   "outputs": [
    {
     "data": {
      "image/png": "[encoded data removed]",
      "text/plain": [
       "<Figure size 432x288 with 1 Axes>"
      ]
     },
     "metadata": {
      "needs_background": "light"
     },
     "output_type": "display_data"
    }
   ],
   "source": [
    "import random as rnd\n",
    "import matplotlib.pyplot as plt\n",
    "\n",
    "n = 500\n",
    "#a = np.arange(n)\n",
    "#np.random.shuffle(a)\n",
    "#print(a[:10])\n",
    "\n",
    "elapsed = []\n",
    "\n",
    "for i in range(n):\n",
    "# Cálculo del tiempo de ejecución para el algoritmo de seleccion en el arreglo U\n",
    "    a = np.arange(n)\n",
    "    np.random.shuffle(a)\n",
    "    \n",
    "    tina = time()\n",
    "    asel = insersion(a,n)\n",
    "    touta = time()\n",
    "    \n",
    "    elapsedT = (touta - tina) #/touta * 100\n",
    "    elapsed.append(elapsedT)\n",
    "    #print(\"Tiempo ordenamiento por algoritmo seleccion: {0}\".format(elapseda))\n",
    "#print(elapsed)\n",
    "#Tpercent = abs(elapsedU - elapsedV)/elapsedU*100\n",
    "#print(\"porcentaje de tiempo para ambos arreglos por algoritmo seleccion: {0:4.2f}\".format(Tpercent))\n",
    "\n",
    "x = np.arange(n)\n",
    "plt.scatter(x,elapsed)\n",
    "plt.ylim(0.015,0.025)\n",
    "plt.show()"
   ]
  },
  {
   "cell_type": "markdown",
   "metadata": {
    "slideshow": {
     "slide_type": "subslide"
    }
   },
   "source": [
    "Con el algoritmo de *insersión* se observa (visualmente) una mayor dispersión en los datos.\n",
    "\n",
    "Más adelante se tratarán estos temas de una forma más rigurosa."
   ]
  },
  {
   "cell_type": "markdown",
   "metadata": {
    "slideshow": {
     "slide_type": "slide"
    }
   },
   "source": [
    "### Operaciones elementales"
   ]
  },
  {
   "cell_type": "markdown",
   "metadata": {
    "slideshow": {
     "slide_type": "subslide"
    }
   },
   "source": [
    "Una *operación elemental* es aquella cuyo tiempo de ejecución se puede acotar superiormete por una constante que solamente dependerá de la implementación particular usada de la máquina, del lenguaje de programación, etc.\n",
    "\n",
    "- La constante no dependerá ni del tamaño ni de los parámetros del problema considerado.\n",
    "\n",
    "\n",
    "- Interesa únicamente la cantidad de operaciones ejecutadas y no el tiempo exacto que tardará cada una de ellas.\n",
    "\n",
    "\n",
    "- Supongamos que al analizar cierto algoritmo se requerira realizar $n$ adiciones, $m$ multiplicaciones, y $s$ instrucciones de asignación.\n",
    "\n",
    "\n",
    "- Supongamos también que se sabe que una suma nunca requiere más de $t_n$ microsegundos, una multiplicación nunca requiere más de $t_m$ microsegundos, y una asignación nunca requiere más de $t_s$ microsegundos.\n",
    "\n",
    "  - Estas tres operaciones pueden considerarse *elementales*."
   ]
  },
  {
   "cell_type": "markdown",
   "metadata": {
    "slideshow": {
     "slide_type": "subslide"
    }
   },
   "source": [
    "El tiempo total $t$ requerido por el algoritmo estará acotado por:\n",
    "\n",
    "$$t \\leq at_a + mt_m + st_s \\leq max(t_a,t_m,t_s) \\times (a+m+s)$$\n",
    "\n",
    "- El tiempo exacto requerido por cada operación elemental no es importante, por lo que se considerarán como unitarias.\n",
    "\n",
    "Al describir un algoritmo, una única línea del código puede corresponder a un número variable de operaciones elementales.\n",
    "\n",
    "- Sea $T$ un arreglo de $n$ elementos $(n>0)$, entonces el tiempo requerido para calcular\n",
    "\n",
    "$$x \\leftarrow min\\{T[i] | 1 \\leq i \\leq n \\}$$\n",
    "\n",
    "crece con $n$, puesto que esto es la abreviación de"
   ]
  },
  {
   "cell_type": "raw",
   "metadata": {
    "slideshow": {
     "slide_type": "subslide"
    }
   },
   "source": [
    "x <-- T[1]\n",
    "para i <-- 2 hasta n hacer\n",
    "    si T[i] < x entonces\n",
    "        x <-- T[i]"
   ]
  },
  {
   "cell_type": "markdown",
   "metadata": {
    "slideshow": {
     "slide_type": "subslide"
    }
   },
   "source": [
    "Otras operaciones matemáticas son muy complejas y no pueden considerarse como *elementales*.\n",
    "\n",
    "Veamos como breve ejemplo el *Teorema de Wilson* que establece que un entero $n (\\forall n>1)$ divide exactamente a la cantidad $(n-1)! + 1$, sii $n$ es un número primo."
   ]
  },
  {
   "cell_type": "raw",
   "metadata": {
    "slideshow": {
     "slide_type": "fragment"
    }
   },
   "source": [
    "funcion Wilson(n)\n",
    "    si n modulo ((n+1)! + 1) = 0 entonces\n",
    "        verdadero\n",
    "    sino\n",
    "        falso"
   ]
  },
  {
   "cell_type": "markdown",
   "metadata": {
    "slideshow": {
     "slide_type": "subslide"
    }
   },
   "source": [
    "para este algoritmo, es necesario calcular el factorial de un número (más adelante volveremos sobre este algoritmo para realizar un análisis más detallado). Por ahora solo presentaremos el código en *python* de una solución al algoritmo del factorial de un número:"
   ]
  },
  {
   "cell_type": "code",
   "execution_count": 10,
   "metadata": {
    "slideshow": {
     "slide_type": "subslide"
    }
   },
   "outputs": [],
   "source": [
    "def factorial(n):\n",
    "    resultado = 1\n",
    "    for i in range(2,n+1):\n",
    "        resultado *= i\n",
    "    return resultado"
   ]
  },
  {
   "cell_type": "code",
   "execution_count": 11,
   "metadata": {
    "slideshow": {
     "slide_type": "subslide"
    }
   },
   "outputs": [],
   "source": [
    "def wilson(n):\n",
    "    if (factorial(n-1) + 1) % n == 0:\n",
    "        print(\"{0} es un número primo\".format(n))\n",
    "    else:\n",
    "        print(\"{0} no es un número primo\".format(n))"
   ]
  },
  {
   "cell_type": "code",
   "execution_count": 18,
   "metadata": {
    "slideshow": {
     "slide_type": "subslide"
    }
   },
   "outputs": [
    {
     "name": "stdout",
     "output_type": "stream",
     "text": [
      "ingrese un número entero: 2\n",
      "2 es un número primo\n"
     ]
    }
   ],
   "source": [
    "n = int(input(\"ingrese un número entero: \"))\n",
    "\n",
    "wilson(n)"
   ]
  },
  {
   "cell_type": "markdown",
   "metadata": {
    "slideshow": {
     "slide_type": "subslide"
    }
   },
   "source": [
    "Como se observa, la operación *elemental* requiere el cálculo del factorial de un número, que no es una operación trivial, y se hace más compleja a medida que $n$ crece."
   ]
  },
  {
   "cell_type": "markdown",
   "metadata": {},
   "source": [
    "### Reglas generales para el cálculo del número de operaciones elementales (OE)"
   ]
  },
  {
   "cell_type": "markdown",
   "metadata": {},
   "source": [
    "A continuación se determinarán algunas reglas básicas a tener en cuenta para realizar el cálculo del número de operaciones elementales. Se considerará siempre el peor caso.\n",
    "\n",
    "\n",
    "Tomemos como ejemplo el siguiente algoritmo de búsqueda de un elemento dentro de un arreglo:"
   ]
  },
  {
   "cell_type": "raw",
   "metadata": {
    "slideshow": {
     "slide_type": "subslide"
    }
   },
   "source": [
    "funcion buscar(a[1...n], c) # c es el valor a buscar\n",
    "    j <-- 1\n",
    "    Mientras (a[j] <> c) & (j < n) hacer:\n",
    "        j = j + 1\n",
    "    Fin Mientras\n",
    "    Si a[j] = c entonces:\n",
    "        devolver el valor de la posición j\n",
    "    Sino\n",
    "        devolver el valor de cero\n",
    "    Fin Si    "
   ]
  },
  {
   "cell_type": "markdown",
   "metadata": {
    "slideshow": {
     "slide_type": "subslide"
    }
   },
   "source": [
    "Para determinar el tiempo de ejecución del algoritmo, se calculará primero el número de operaciones elementales (OE) línea por línea\n",
    "\n",
    "- Línea $(2)$ se ejecuta una asignación: 1 OE\n",
    "\n",
    "- Línea $(3)$ se ejecuta el ciclo *Mientras* con $4$ OE (dos comparaciones, un acceso al arreglo y un \"AND\")\n",
    "\n",
    "- Línea $(4)$ tiene un contador y una asignación, en total $2$ OE\n",
    "\n",
    "- Línea $(6)$ contiene la evaluación de una condición *Si* y el acceso al arreglo, en total $2$ OE.\n",
    "\n",
    "- Línea $(7)$ si la condición se cumple se evalúa el Return, $1$ OE\n",
    "\n",
    "  - Línea $(9)$ si la condición no se cumple, se evalúa el siguiente Return, $1$ OE\n",
    "\n",
    "\n",
    "La cantidad de OE en la copia del vector dependerá del lenguaje de programación a usar. Si el lenguaje usado emplea paso por referencia (python, por ejemplo) no se contabilizarán OE, pero si el paso es por valor, se deberá contabilizar $n$ OE. Con esto, "
   ]
  },
  {
   "cell_type": "code",
   "execution_count": 26,
   "metadata": {
    "code_folding": [
     0
    ]
   },
   "outputs": [
    {
     "name": "stdout",
     "output_type": "stream",
     "text": [
      "4\n"
     ]
    }
   ],
   "source": [
    "def buscar(a, c): # c es el valor a buscar\n",
    "    n = len(a)\n",
    "    j = 0\n",
    "    while (a[j] != c) and (j < n):\n",
    "        j = j + 1\n",
    "    \n",
    "    if a[j] == c:\n",
    "        print(j)\n",
    "    else:\n",
    "        print(0)\n",
    "a = [5,4,7,8,3]\n",
    "c = 3\n",
    "buscar(a,c)"
   ]
  },
  {
   "cell_type": "markdown",
   "metadata": {
    "slideshow": {
     "slide_type": "subslide"
    }
   },
   "source": [
    "**_Caso mejor:_** \n",
    "\n",
    "- Línea $(1)$ se ejecuta una única vez. \n",
    "- Línea $(3)$ se ejecuta solo la mitad, ya que las expresiones se evalúan de izquierda a derecha y con \"cortocircuito\", es decir, tan pronto se conozca el valor de la expresión lógica, ésta no seguirá evaluándose sin necesidad de evaluar la totalidad de sus términos.\n",
    "- Líneas $(6)$ a $(9)$ se ejecutará una evaluación *Si* y una asignación, sea cuando la condición es falsa o verdadera.\n",
    "\n",
    "- En total se realizarán $T(n)=1+2+3 = 6$ OE"
   ]
  },
  {
   "cell_type": "markdown",
   "metadata": {
    "slideshow": {
     "slide_type": "subslide"
    }
   },
   "source": [
    "**_Caso peor:_** \n",
    "\n",
    "- Se ejecuta la Línea $(1)$, $1$ OE\n",
    "\n",
    "- El ciclo se repite $n-1$ veces hasta que se cumple la segunda condición.\n",
    "\n",
    "- Se ejecuta el condicional de la línea $/6)$ y la función acaba en la línea $(9)$.\n",
    "\n",
    "- Cada iteración del ciclo ejecuta las líneas $(3)$ y $(4)$, junto con una ejecución adicional de la línea $(3)$ que es la que ocasiona la salida del ciclo, se tiene\n",
    "\n",
    "$$T(n) = 1 + \\left( \\left( \\sum \\limits_{i=1}^{n-1} (4+2)\\right)+4\\right) + 2 + 1 = 6n+2$$"
   ]
  },
  {
   "cell_type": "markdown",
   "metadata": {
    "slideshow": {
     "slide_type": "subslide"
    }
   },
   "source": [
    "**_Caso medio:_** \n",
    "\n",
    "- El ciclo se repite una cantidad de veces entre $0$ y $n-1$ y se supone que cada una de ellas tiene la misma probabilidad de suceder. Pueden suceder hasta $n$ veces, dado que el elemento a buscar no se encuentre dentro del arreglo, se supondrá, a priori, que son equiprobables y por tanto cada una tendrá una probabilidad asociada de $1/n$. Con esto, el número medio de veces que se efectuará el ciclo es\n",
    "\n",
    "$$\\sum \\limits_{i=0}^{n-1} i \\frac{1}{n}=\\frac{n-1}{2}$$\n",
    "\n",
    "- Se tiene entonces\n",
    "\n",
    "$$T(n) = 1 + \\left( \\left( \\sum \\limits_{i=1}^{(n-1)/2} (4+2)\\right)+2\\right) + 2 + 1 = 3n+3$$"
   ]
  },
  {
   "cell_type": "markdown",
   "metadata": {},
   "source": [
    "### Reglas generales para el cálculo de OE"
   ]
  },
  {
   "cell_type": "markdown",
   "metadata": {
    "slideshow": {
     "slide_type": "slide"
    }
   },
   "source": [
    "- El tiempo de una OE es, por definición, de orden $1$\n",
    "\n",
    "\n",
    "- La constante $c$, mencionada en el principio de *invarianza* dependerá de la implementación, pero para los fines del curso se considerará que vale $1$.\n",
    "\n",
    "\n",
    "- El tiempo de ejecución de una secuencia consecutiva de instrucciones se calcula sumando los tiempos de ejecución de cada una de las instrucciones.\n",
    "\n",
    "\n",
    "- El tiempo de ejecución de una sentencia tipo *\"Si A entonces B sino C\"* es $T=T(A) + max\\{T(B),T(C) \\})$\n",
    "\n",
    "\n",
    "- El tiempo de ejecución de un ciclo de sentencias tipo *\"Mientras A hacer B\"* es $T = T(A) + (\\# iteraciones) \\times (T(B)+T(A))$"
   ]
  },
  {
   "cell_type": "markdown",
   "metadata": {
    "slideshow": {
     "slide_type": "subslide"
    }
   },
   "source": [
    "- El tiempo de ejecución de una llamada a un procedimiento o función $F(P_1,P_2, \\ldots, P_n)$ es $1$ por llamada, más el tiempo de evaluación de cada uno de los parámetros, más el tiempo en tardar en ejecutarse la función $F$, esto es, $T = 1 + T(P_1) + T(P_2) + \\ldots  + T(P_n)  + T(F)$.\n",
    "  - No se contabiliza la copia de los argumentos a la pila de ejecución (salvo que se trate de estructuras complejas como registros o vectores) que se pasan por valor.\n",
    "  - El paso de parámetros por referencia (punteros) no se contabilizan tampoco."
   ]
  },
  {
   "cell_type": "markdown",
   "metadata": {
    "slideshow": {
     "slide_type": "subslide"
    }
   },
   "source": [
    "- En ciclos tipo *\"Para (`for`)\"*"
   ]
  },
  {
   "cell_type": "raw",
   "metadata": {
    "slideshow": {
     "slide_type": "fragment"
    }
   },
   "source": [
    "Para i = 1 hasta n hacer\n",
    "    Sentencias\n",
    "Fin Para"
   ]
  },
  {
   "cell_type": "markdown",
   "metadata": {
    "slideshow": {
     "slide_type": "fragment"
    }
   },
   "source": [
    "se puede expresar como un ciclo *\"Mientras (`while`)\"* con un ciclo equivalente de la siguiente forma"
   ]
  },
  {
   "cell_type": "raw",
   "metadata": {
    "slideshow": {
     "slide_type": "fragment"
    }
   },
   "source": [
    "i = 1\n",
    "Mientras i <= n hacer\n",
    "    Sentencias\n",
    "Fin Mientras"
   ]
  },
  {
   "cell_type": "markdown",
   "metadata": {
    "slideshow": {
     "slide_type": "slide"
    }
   },
   "source": [
    "### Buscando la eficiencia"
   ]
  },
  {
   "cell_type": "markdown",
   "metadata": {
    "slideshow": {
     "slide_type": "subslide"
    }
   },
   "source": [
    "**_\"Adquirir un mejor computador o intentar mejorar el algoritmo... he ahí la cuestión\"_**\n",
    "\n",
    "**[Ley de Moore](https://es.wikipedia.org/wiki/Ley_de_Moore \"Ley de Moore\"):** _\"El poder de cómputo de las máquinas se duplica cada año o cada dos años en promedio, mientras que su costo disminuye considerablemente.\"_"
   ]
  },
  {
   "cell_type": "markdown",
   "metadata": {
    "slideshow": {
     "slide_type": "subslide"
    }
   },
   "source": [
    "El desarrollo de un algoritmo tiene varias etapas:\n",
    "\n",
    "![Imagen](https://github.com/carlosalvarezh/Analisis_de_Algoritmos/blob/master/images/MooresLaw.jpg?raw=true \"\")"
   ]
  },
  {
   "cell_type": "markdown",
   "metadata": {
    "slideshow": {
     "slide_type": "subslide"
    }
   },
   "source": [
    "- No sería más simple esperar simplemente a que salga una nueva generación de procesadores más potente que pensar en cómo mejorar un determinado algoritmo?\n",
    "\n",
    "Veamos este ejemplo:\n",
    "\n",
    "Supóngase que para resolver un problema se dispone de un algoritmo exponencial y de un computador que puede ejecutar el algoritmo para casos de tamaño $n$ en $10^{-4} \\times 2^n$ segundos. El computador puede ejecutar un problema de tamaño $10$ en $10^{-4} \\times 2^{10}$ segundos (o $1/10$ de segundo). Resolver un problema de tamaño $20$ requerirá un tiempo mil veces mayor, dos minutos aprox. Resolver un problema de tamaño $30$ requeriría otras mil veces más de tiempo que el problema anterior, eso es más de un día de cómputo. Si se pudiera poner a ejecutar el problema por un año sin interrupción, el tamaño máximo del problema sería de $n=38$.\n",
    "\n",
    "Ahora supóngase que se adquiere otro computador que puede resolver un problema de orden $n$ en $10^{-6} \\times 2^n$ segundos. Poniendo el computador a trabajar todo el año, el tamaño máximo del problema sería de $n=45$.\n",
    "\n",
    "Con esto, si antes se podía resolver un problema de tamaño $n$ en un determinado tiempo, la nueva máquina podría resolver problemas de tamaño como mucho $n+log(100)$ o aproximadamente $n+7$, en el mismo periodo de tiempo."
   ]
  },
  {
   "cell_type": "markdown",
   "metadata": {
    "slideshow": {
     "slide_type": "subslide"
    }
   },
   "source": [
    "Ahora, si se decide invertir en buscar una mejora en el algoritmo, por ejemplo, de orden cúbico y suponiendo que se usa la máquina original y este nuevo algoritmo para resolver un problema de tamaño $n$ en $10^{-2}\\times n^3$ segundos. Entonces, para resolver un problema de tamaño $10$ se necesitarían 10 segundos, y un problema de tamaño $20$ entre uno y dos minutos. Un problema de tamaño $30$ se podría resolver en algo más de cuatro minutos, y en un día se podría resolver un problema de tamaño mayor que $200$. En un año, el tamaño sería de $n = 1500$.\n",
    "\n",
    "Ahora, si se puede dar el lujo de invertir tanto en la mejora del algoritmo como de la máquina podría resolver problemas cuatro o cinco veces mayores en la misma unidad de tiempo.\n",
    "\n",
    "Será así para cualquier tamaño del problema? qué pasa si se usa el nuevo algoritmo para problemas con tamaño $n<20$?"
   ]
  },
  {
   "cell_type": "code",
   "execution_count": 2,
   "metadata": {
    "code_folding": [],
    "slideshow": {
     "slide_type": "subslide"
    }
   },
   "outputs": [],
   "source": [
    "def tiempo(a, b, c):\n",
    "    return 10**(-a)*b**c"
   ]
  },
  {
   "cell_type": "code",
   "execution_count": 3,
   "metadata": {
    "code_folding": [],
    "slideshow": {
     "slide_type": "subslide"
    }
   },
   "outputs": [
    {
     "data": {
      "image/png": "[encoded data removed]",
      "text/plain": [
       "<Figure size 432x288 with 1 Axes>"
      ]
     },
     "metadata": {
      "needs_background": "light"
     },
     "output_type": "display_data"
    }
   ],
   "source": [
    "import numpy as np\n",
    "import matplotlib.pyplot as plt\n",
    "\n",
    "def grafica(c1,c2,a1,a2,n):\n",
    "    x = np.arange(1, n)\n",
    "    #plt.figure(figsize=(10, 8))\n",
    "    plt.semilogy(x,c1, label = \"$2^n x 10^{-4}$\")\n",
    "    plt.semilogy(x,c2, label = \"$2^n x 10^{-6}$\")\n",
    "    plt.semilogy(x,a1, label = \"$n^3 x 10^{-2}$\")\n",
    "    plt.semilogy(x,a2, label = \"$n^3 x 10^{-4}$\")\n",
    "    plt.legend()\n",
    "    plt.title(\"Algoritmo vs hardware\")\n",
    "    plt.xlabel(\"Tamaño $n$ del problema\")\n",
    "    plt.ylabel(\"Tiempo de ejecución (seg)\")  # Colocamos la etiqueta en el eje y\n",
    "    plt.axhline(y=0, color='k')\n",
    "    plt.xlim(1, n-1) \n",
    "    plt.grid(True)\n",
    "    plt.show()\n",
    "\n",
    "c1,c2,a1,a2,n = [],[],[],[],41\n",
    "\n",
    "for i in range(1,n):\n",
    "    c1.append(tiempo(4,2,i))\n",
    "    c2.append(tiempo(6,2,i))\n",
    "    a1.append(tiempo(2,i,3))\n",
    "    a2.append(tiempo(4,i,3))   \n",
    "grafica(c1,c2,a1,a2,n)"
   ]
  },
  {
   "cell_type": "markdown",
   "metadata": {
    "slideshow": {
     "slide_type": "slide"
    }
   },
   "source": [
    "### Desafío 1:\n",
    "\n",
    "Revisar los ejemplos propuestos en (Brassard y Bratley, 1998. Sección 2.7 pp. 85 ss.) \n",
    "\n",
    "\n",
    "- Cálculo de determinantes\n",
    "\n",
    "\n",
    "- Ordenación\n",
    "\n",
    "\n",
    "- Multiplicación de enteros muy grandes\n",
    "\n",
    "\n",
    "- Cálculo del MCD\n",
    "\n",
    "\n",
    "- Cálculo de la sucesión de Fibonacci\n",
    "\n",
    "\n",
    "- Transformada de Fourier\n",
    "\n",
    "\n",
    "Buscar algunos algoritmos creados para resolver uno de ellos, codificarlos en algún lenguaje y presentar un análisis de complejidad, graficando el comportamiento de los mismos a medida que los tamaños de los problemas crecen. Cuáles son sus conclusiones a la luz de lo visto en la clase?"
   ]
  },
  {
   "cell_type": "code",
   "execution_count": null,
   "metadata": {},
   "outputs": [],
   "source": []
  }
 ],
 "metadata": {
  "kernelspec": {
   "display_name": "Python 3",
   "language": "python",
   "name": "python3"
  },
  "language_info": {
   "codemirror_mode": {
    "name": "ipython",
    "version": 3
   },
   "file_extension": ".py",
   "mimetype": "text/x-python",
   "name": "python",
   "nbconvert_exporter": "python",
   "pygments_lexer": "ipython3",
   "version": "3.6.13"
  },
  "toc": {
   "base_numbering": "2",
   "nav_menu": {},
   "number_sections": true,
   "sideBar": true,
   "skip_h1_title": true,
   "title_cell": "Tabla de Contenidos",
   "title_sidebar": "Contenidos",
   "toc_cell": true,
   "toc_position": {},
   "toc_section_display": true,
   "toc_window_display": true
  }
 },
 "nbformat": 4,
 "nbformat_minor": 2
}
