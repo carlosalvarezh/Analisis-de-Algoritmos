{
 "cells": [
  {
   "cell_type": "markdown",
   "metadata": {
    "slideshow": {
     "slide_type": "slide"
    }
   },
   "source": [
    "<h1 align=\"center\">ANÁLISIS DE ALGORITMOS</h1>\n",
    "\n",
    "<h1 align=\"center\">Sesión 04: Análisis de Algoritmos\n",
    "\n",
    "<h1 align=\"center\">MEDELLÍN - COLOMBIA </h1>\n",
    "\n",
    "<h1 align=\"center\">2021 </h1>"
   ]
  },
  {
   "cell_type": "markdown",
   "metadata": {},
   "source": [
    "<table>\n",
    " <tr align=left><td><img align=left src=\"https://github.com/carlosalvarezh/Analisis_de_Algoritmos/blob/master/images/CC-BY.png?raw=true\">\n",
    " <td>Text provided under a Creative Commons Attribution license, CC-BY. All code is made available under the FSF-approved MIT license.(c) Carlos Alberto Alvarez Henao</td>\n",
    "</table>"
   ]
  },
  {
   "cell_type": "markdown",
   "metadata": {},
   "source": [
    "*** \n",
    "\n",
    "***Docente:*** Carlos Alberto Álvarez Henao, I.C. D.Sc.\n",
    "\n",
    "***e-mail:*** carlosalvarezh@gmail.com\n",
    "\n",
    "***skype:*** carlos.alberto.alvarez.henao\n",
    "\n",
    "***Linkedin:*** https://www.linkedin.com/in/carlosalvarez5/\n",
    "\n",
    "***github:*** https://github.com/carlosalvarezh/Metodos_Numericos\n",
    "\n",
    "***Herramienta:*** [Jupyter](http://jupyter.org/)\n",
    "\n",
    "***Kernel:*** Python 3.8\n",
    "\n",
    "\n",
    "***"
   ]
  },
  {
   "cell_type": "markdown",
   "metadata": {},
   "source": [
    "<a id='TOC'></a>"
   ]
  },
  {
   "cell_type": "markdown",
   "metadata": {
    "toc": true
   },
   "source": [
    "<h1>Tabla de Contenidos<span class=\"tocSkip\"></span></h1>\n",
    "<div class=\"toc\"><ul class=\"toc-item\"><li><span><a href=\"#Por-qué-analizar-un-algoritmo?\" data-toc-modified-id=\"Por-qué-analizar-un-algoritmo?-4\"><span class=\"toc-item-num\">4&nbsp;&nbsp;</span>Por qué analizar un algoritmo?</a></span><ul class=\"toc-item\"><li><span><a href=\"#Analytic-Engine\" data-toc-modified-id=\"Analytic-Engine-4.1\"><span class=\"toc-item-num\">4.1&nbsp;&nbsp;</span>Analytic Engine</a></span></li><li><span><a href=\"#Estructuras-de-control\" data-toc-modified-id=\"Estructuras-de-control-4.2\"><span class=\"toc-item-num\">4.2&nbsp;&nbsp;</span>Estructuras de control</a></span><ul class=\"toc-item\"><li><span><a href=\"#Secuencia\" data-toc-modified-id=\"Secuencia-4.2.1\"><span class=\"toc-item-num\">4.2.1&nbsp;&nbsp;</span>Secuencia</a></span></li><li><span><a href=\"#Ciclos-&quot;Para&quot;--(for)\" data-toc-modified-id=\"Ciclos-&quot;Para&quot;--(for)-4.2.2\"><span class=\"toc-item-num\">4.2.2&nbsp;&nbsp;</span>Ciclos \"Para\"  (<code>for</code>)</a></span></li><li><span><a href=\"#Ciclos-&quot;Mientras&quot;-(while)\" data-toc-modified-id=\"Ciclos-&quot;Mientras&quot;-(while)-4.2.3\"><span class=\"toc-item-num\">4.2.3&nbsp;&nbsp;</span>Ciclos \"Mientras\" (<code>while</code>)</a></span></li><li><span><a href=\"#Estructura-condicional-Si-(if)\" data-toc-modified-id=\"Estructura-condicional-Si-(if)-4.2.4\"><span class=\"toc-item-num\">4.2.4&nbsp;&nbsp;</span>Estructura condicional Si (<code>if</code>)</a></span></li></ul></li><li><span><a href=\"#Llamadas-recursivas\" data-toc-modified-id=\"Llamadas-recursivas-4.3\"><span class=\"toc-item-num\">4.3&nbsp;&nbsp;</span>Llamadas recursivas</a></span><ul class=\"toc-item\"><li><span><a href=\"#Recurrencias-homogéneas:\" data-toc-modified-id=\"Recurrencias-homogéneas:-4.3.1\"><span class=\"toc-item-num\">4.3.1&nbsp;&nbsp;</span>Recurrencias homogéneas:</a></span></li><li><span><a href=\"#Recurrencias-no-homogéneas\" data-toc-modified-id=\"Recurrencias-no-homogéneas-4.3.2\"><span class=\"toc-item-num\">4.3.2&nbsp;&nbsp;</span>Recurrencias no homogéneas</a></span></li></ul></li><li><span><a href=\"#Analisis-de-caso-medio-y-amortizado\" data-toc-modified-id=\"Analisis-de-caso-medio-y-amortizado-4.4\"><span class=\"toc-item-num\">4.4&nbsp;&nbsp;</span>Analisis de caso medio y amortizado</a></span></li></ul></li></ul></div>"
   ]
  },
  {
   "cell_type": "markdown",
   "metadata": {
    "slideshow": {
     "slide_type": "slide"
    }
   },
   "source": [
    "## Por qué analizar un algoritmo?"
   ]
  },
  {
   "cell_type": "markdown",
   "metadata": {
    "slideshow": {
     "slide_type": "subslide"
    }
   },
   "source": [
    "Como vimos en un apartado anterior, el objetivo del *análisis* es el de determinar cuál, entre diferentes posibles algoritmos, sería el más eficiente para resolver un problema dado. - Clasificar problemas y algoritmos por dificultad\n",
    "\n",
    "\n",
    "- Predecir el desempeño, comparar algoritmos, sintonizar parámetros\n",
    "\n",
    "\n",
    "- Mejorar la comprensión y la implementación de los algoritmos\n",
    "\n",
    "\n",
    "La razón por la que muchas personas analizan algoritmos es debido al desafío intelectual.\n",
    "\n",
    "\n",
    "- Analizar un algoritmos es más interesante y divertido que programarlo"
   ]
  },
  {
   "cell_type": "markdown",
   "metadata": {},
   "source": [
    "### Analytic Engine"
   ]
  },
  {
   "cell_type": "markdown",
   "metadata": {
    "slideshow": {
     "slide_type": "subslide"
    }
   },
   "source": [
    "\"As soon as an Analytical Engine exists, it will necessarily guide the future course of the science. Whenever any result is sought by its aid, the question will then arise — **by what course of calculation can these results be arrived at by the machine in the shortest time?**\"\n",
    "\n",
    "— Charles Babbage, Passages from the Life of a Philosopher (1864)"
   ]
  },
  {
   "cell_type": "markdown",
   "metadata": {
    "slideshow": {
     "slide_type": "subslide"
    }
   },
   "source": [
    "![Imagen](https://github.com/carlosalvarezh/Analisis_de_Algoritmos/blob/master/images/AnalyticEngine.JPG?raw=true \"\")"
   ]
  },
  {
   "cell_type": "markdown",
   "metadata": {
    "slideshow": {
     "slide_type": "fragment"
    }
   },
   "source": [
    "Resulta una pregunta de vital importancia: ***Cuántas veces hay qué mover la manivela hasta encontrar un resultado \"aceptable\"?***"
   ]
  },
  {
   "cell_type": "markdown",
   "metadata": {
    "slideshow": {
     "slide_type": "subslide"
    }
   },
   "source": [
    "- La anterior pregunta no es muy diferente a la pregunta que se hace hoy en día acerca de cómo optimizar el recurso disponible para desempeñar una tarea específica.\n",
    "\n",
    "\n",
    "- *Turing* (que era considerado un teórico) en un artículo de 1947, vió conveniente medir la cantidad de trabajo involucrado en un proceso de cómputo, incluso así sea muy burdo."
   ]
  },
  {
   "cell_type": "code",
   "execution_count": 1,
   "metadata": {
    "scrolled": false,
    "slideshow": {
     "slide_type": "subslide"
    }
   },
   "outputs": [
    {
     "data": {
      "text/html": [
       "\n",
       "        <iframe\n",
       "            width=\"100%\"\n",
       "            height=\"600px\"\n",
       "            src=\"https://academic.oup.com/qjmam/article-pdf/1/1/287/5323145/1-1-287.pdf\"\n",
       "            frameborder=\"0\"\n",
       "            allowfullscreen\n",
       "        ></iframe>\n",
       "        "
      ],
      "text/plain": [
       "<IPython.lib.display.IFrame at 0x26f9671c358>"
      ]
     },
     "metadata": {},
     "output_type": "display_data"
    }
   ],
   "source": [
    "from IPython.display import IFrame\n",
    "display(IFrame('https://academic.oup.com/qjmam/article-pdf/1/1/287/5323145/1-1-287.pdf', '100%', '600px'))"
   ]
  },
  {
   "cell_type": "markdown",
   "metadata": {
    "slideshow": {
     "slide_type": "subslide"
    }
   },
   "source": [
    "El análisis de algoritmos realmente entró a la \"*escena científica*\" a partir de los años $60's$ luego de la publicación por parte de [Donald E. Knuth](https://www-cs-faculty.stanford.edu/~knuth/ \"Donald E. Knuth's home page\") de su serie de siete volúmenes de *El Arte de la Programación de Computadores ([The Art of Programming Computers - TAOCP](https://www-cs-faculty.stanford.edu/~knuth/taocp.html \"The Art of Programming Computers home page\"))*."
   ]
  },
  {
   "cell_type": "markdown",
   "metadata": {
    "slideshow": {
     "slide_type": "fragment"
    }
   },
   "source": [
    "\n",
    "![Imagen](https://github.com/carlosalvarezh/Analisis_de_Algoritmos/blob/master/images/taocp.jpg?raw=true \"\")\n",
    "\n",
    "Recuperado de: https://www-cs-faculty.stanford.edu/~knuth/taocp.html"
   ]
  },
  {
   "cell_type": "markdown",
   "metadata": {
    "slideshow": {
     "slide_type": "subslide"
    }
   },
   "source": [
    "- **Puso las bases científicas del tema:** Antes se pensaba que iba a ser demasiado complicado averiguar realmente qué tipo de recursos consumían los programas."
   ]
  },
  {
   "cell_type": "markdown",
   "metadata": {
    "slideshow": {
     "slide_type": "subslide"
    }
   },
   "source": [
    "Para analizar un algoritmo, ***Knuth*** presentó una serie de pasos bastante simples acerca de lo que hay que hacer:\n",
    "\n",
    "- Desarrolle una buena implementación.\n",
    "\n",
    "\n",
    "- Identifique cantidades desconocidas que representan las operaciones básicas.\n",
    "\n",
    "\n",
    "- Determine el costo de cada operación básica.\n",
    "\n",
    "\n",
    "- Desarrollar un modelo realista para la entrada.\n",
    "\n",
    "\n",
    "- Analice la frecuencia de ejecución de las cantidades desconocidas.\n",
    "\n",
    "\n",
    "- Calcular el tiempo total de ejecución: $\\sum \\limits_q Frecuencia(q) \\times costo(q)$."
   ]
  },
  {
   "cell_type": "markdown",
   "metadata": {
    "slideshow": {
     "slide_type": "subslide"
    }
   },
   "source": [
    "***Pros:***\n",
    "\n",
    "- **Fundamentación científica del *AofA*:** Nos brinda un proceso mediante el cual podemos desarrollar modelos matemáticos, desarrollar hipótesis sobre el rendimiento y comparar algoritmos, y luego probar esas hipótesis científicamente.\n",
    "\n",
    "***Cons:***\n",
    "\n",
    "- El modelo puede ser poco realista y necesitar de demasiados detalles para su análisis."
   ]
  },
  {
   "cell_type": "markdown",
   "metadata": {
    "slideshow": {
     "slide_type": "subslide"
    }
   },
   "source": [
    "Para hacerle frente a los inconvenientes de las ideas de *Knuth*, desde los $70's \\ldots$ hasta hoy, el estudio de los algoritmos ha girado en torno a los libros de *Aho, Hopcroft y Ullman*; *Cormen, Leiserson, Rivest y Stein*, y otros. \n",
    "\n",
    "- Analizan el peor de los casos. Lo que hace es \"*sacarle una foto\"* al modelo y tener garantía sobre el peor tiempo de ejecución de un algoritmo.\n",
    "\n",
    "\n",
    "- Usa la notación $\\mathcal{O}(n)$ y se intenta obtener un límite superior en el peor de los casos. Esta es una idea para obtener muchos de los detalles del análisis."
   ]
  },
  {
   "cell_type": "markdown",
   "metadata": {
    "slideshow": {
     "slide_type": "subslide"
    }
   },
   "source": [
    "***Pros:***\n",
    "\n",
    "- Enfoque exitoso que desencadenó una era de *Diseño de Algoritmos*, donde se probaron todo tipo de nuevas ideas para reducir costos garantizados por el *peor caso*, con el objetivo final de poder desarrollar algoritmos óptimo donde el peor de los costos es igual al mejor posible.\n",
    "\n",
    "\n",
    "***Cons:***\n",
    "\n",
    "- Por lo general, no se puede usar para predecir el rendimiento o comparar algoritmos. "
   ]
  },
  {
   "cell_type": "markdown",
   "metadata": {
    "slideshow": {
     "slide_type": "slide"
    }
   },
   "source": [
    "### Estructuras de control"
   ]
  },
  {
   "cell_type": "markdown",
   "metadata": {
    "slideshow": {
     "slide_type": "fragment"
    }
   },
   "source": [
    "Las estructuras de control son empleadas en la formulación de algoritmos para determinar el flujo de la información, o instrucciones, de un problema dado.\n",
    "\n",
    "El análisis del tiempo de ejecución de cada estructura se efectúa de adentro hacia afuera: \n",
    "\n",
    "- Primero, se determina el tiempo requerido por las instrucciones de forma individual (por lo general acotada por una constante).\n",
    "\n",
    "\n",
    "- Luego se combinan estos tiempos de acuerdo a la estructura de control que enlaza las instrucciones del programa.\n",
    "\n",
    "\n",
    "- En algoritmos se tienen principalmente tres estructuras: \n",
    "    - Secuencia\n",
    "    - Ciclos *Para* (`for`) y *Mientras* (`while`)\n",
    "    - Condicionales (`if`)"
   ]
  },
  {
   "cell_type": "markdown",
   "metadata": {},
   "source": [
    "#### Secuencia"
   ]
  },
  {
   "cell_type": "markdown",
   "metadata": {
    "slideshow": {
     "slide_type": "subslide"
    }
   },
   "source": [
    "En esta estructura cada instrucción se ejecuta una detrás de la otra.\n",
    "\n",
    "Sean $P_1$ y $P_2$ dos fragmentos de un algoritmo. Sean $t_1$ y $t_2$ los tiempos requeridos respectivamente. La ***regla de composición secuencial*** indica que el tiempo necesario para calcular $\"P_1;P_2\"$ (primero $P_1$ y luego $P_2$) es simplemente $t_1 + t_2$. por la ***regla del máximo*** este tiempo está en $\\mathcal{O}(max(t_1,t_2))$\n",
    "\n",
    "\n",
    "- No siempre el análisis \"$P_1;P_2$\" se puede considerar con $P_1$ y $P_2$ independientes, ya que alguno de los parámetros que controla el tiempo de $t_2$ puede depender del resultado de $P_1$."
   ]
  },
  {
   "cell_type": "markdown",
   "metadata": {},
   "source": [
    "#### Ciclos \"Para\"  (`for`)"
   ]
  },
  {
   "cell_type": "markdown",
   "metadata": {
    "slideshow": {
     "slide_type": "slide"
    }
   },
   "source": [
    "Son ciclos del tipo"
   ]
  },
  {
   "cell_type": "raw",
   "metadata": {
    "slideshow": {
     "slide_type": "fragment"
    }
   },
   "source": [
    "Para i = 1 hasta m hacer:\n",
    "    P(i)"
   ]
  },
  {
   "cell_type": "markdown",
   "metadata": {
    "slideshow": {
     "slide_type": "subslide"
    }
   },
   "source": [
    "- Se asumirá que el ciclo hace parte de un algoritmo más extenso que trabaja para un ejemplar de tamaño $n$\n",
    "\n",
    "\n",
    "- $m$ no necesariamente es igual a $n$, es solo la cantidad de veces que hay qué repetir las instrucciones $P(i)$.\n",
    "\n",
    "\n",
    "- Si $P(i)$ no depende de $i$, se tendría el caso más sencillo, ya que se efectuará $m$ veces con un costo de tiempo de $t$, para un total de $l=mt$ (cota inferior)"
   ]
  },
  {
   "cell_type": "markdown",
   "metadata": {
    "slideshow": {
     "slide_type": "subslide"
    }
   },
   "source": [
    "Se debe tener mucho cuidado al realizar un análisis para un ciclo `for`, pues en este breve análisis no se contabilizó el tiempo necesario para el control del ciclo. Para evitar esto, se debe considerar el ciclo `for` como si fuera una abreviación de un ciclo ***mientras*** (`while`) de la siguiente forma:"
   ]
  },
  {
   "cell_type": "raw",
   "metadata": {
    "slideshow": {
     "slide_type": "fragment"
    }
   },
   "source": [
    "i = 1\n",
    "mientras i <= m hacer\n",
    "    P(i)\n",
    "    i = i+1"
   ]
  },
  {
   "cell_type": "markdown",
   "metadata": {
    "slideshow": {
     "slide_type": "fragment"
    }
   },
   "source": [
    "Una estructura `for` se compone de una asignación, una comparación y un incremento, cada una de ellas consume un determinado tiempo.\n",
    "\n",
    "\n",
    "- Se puede asignar un costo unitario a la comprobación $i \\leq m$, a las instrucciones $i=1$ e $i=i+1$ y a las instrucciones de salto (implícitas) en el ciclo `while`."
   ]
  },
  {
   "cell_type": "markdown",
   "metadata": {
    "slideshow": {
     "slide_type": "subslide"
    }
   },
   "source": [
    "- Sea $c$ una cota superior del tiempo requerido por cada una de las operaciones. \n",
    "\n",
    "\n",
    "- El tiempo $l$ requerido por el ciclo es acotado superiormente por:"
   ]
  },
  {
   "cell_type": "markdown",
   "metadata": {
    "slideshow": {
     "slide_type": "fragment"
    }
   },
   "source": [
    "$$l \\leq \\underbrace{c}_{i \\leftarrow 1} + \\underbrace{(m+1)c}_{i \\leq m} + \\underbrace{mt}_{P(i)} + \\underbrace{mc}_{i \\leftarrow i+1} + \\underbrace{mc}_{instruccion \\hspace{0.1cm} salto} \\leq (t+3c)m+2c$$"
   ]
  },
  {
   "cell_type": "markdown",
   "metadata": {
    "slideshow": {
     "slide_type": "fragment"
    }
   },
   "source": [
    "Si $c$ es despreciable en comparación con $t$, entonces la estimación inicial del tiempo $l=mt$ era adecuada, salvo una situación crucial:\n",
    "\n",
    "- $l\\approx mt$ es incorrecto si $m=0$. Esta es la situación cuando el ciclo no se ejecutaría ni una sola vez. (se ampliará sobre esta idea más adelante)"
   ]
  },
  {
   "cell_type": "markdown",
   "metadata": {
    "slideshow": {
     "slide_type": "subslide"
    }
   },
   "source": [
    "***Reglas de la estructura Para (`for`)***\n"
   ]
  },
  {
   "cell_type": "markdown",
   "metadata": {
    "slideshow": {
     "slide_type": "subslide"
    }
   },
   "source": [
    "***Regla 1:*** \n",
    "\n",
    "- El tiempo de ejecución de un ciclo `for` es a lo sumo el tiempo de ejecución de las instrucciones que están en el interior del ciclo más el tiempo del control, multiplicado todo por el número total de iteraciones, $n$.\n",
    "\n",
    "$$T=(T_{interior} + T_{for})\\times n$$\n",
    "\n",
    "***Ej.***"
   ]
  },
  {
   "cell_type": "raw",
   "metadata": {
    "slideshow": {
     "slide_type": "fragment"
    }
   },
   "source": [
    "Para i desde 0 hasta n hacer:\n",
    "    i += 1                        O(1)"
   ]
  },
  {
   "cell_type": "markdown",
   "metadata": {},
   "source": [
    "``` python\n",
    "n = 10\n",
    "for i in range(2,n):\n",
    "    i += 1\n",
    "    print(\"incremento\",i)\n",
    "print(\"total\",i)\n",
    "```"
   ]
  },
  {
   "cell_type": "markdown",
   "metadata": {},
   "source": [
    "Del algoritmo mostrado, se tiene:\n",
    "\n",
    "- ***Asignación:*** 1\n",
    "\n",
    "- ***Comparaciones:*** $\\sum \\limits_{i=1}^n (1) + 1 = n + 1$\n",
    "\n",
    "- ***Incrementos:*** $n$\n",
    "\n",
    "con esto: $1 + (n+1) +n = 2n+2$ es la complejidad de un ciclo `for` básico sin modificaciones."
   ]
  },
  {
   "cell_type": "markdown",
   "metadata": {
    "slideshow": {
     "slide_type": "fragment"
    }
   },
   "source": [
    "$$\\sum \\limits_{i=1}^n (4) + 3 = 4n + 3$$"
   ]
  },
  {
   "cell_type": "markdown",
   "metadata": {
    "slideshow": {
     "slide_type": "subslide"
    }
   },
   "source": [
    "***Regla 2:*** \n",
    "\n",
    "- El tiempo de un grupo de ciclos `for`es a lo más el tiempo de ejecución de las instrucciones que están en el interior del ciclo multiplicado por el producto de los tamaños de todos los ciclos `for`.\n",
    "\n",
    "***Ej1:***"
   ]
  },
  {
   "cell_type": "raw",
   "metadata": {
    "slideshow": {
     "slide_type": "fragment"
    }
   },
   "source": [
    "Para i desde 1 hasta n hacer:\n",
    "    Para j desde 1 hasta n hacer:\n",
    "        k <-- k + 1                   O(2)"
   ]
  },
  {
   "cell_type": "markdown",
   "metadata": {
    "slideshow": {
     "slide_type": "fragment"
    }
   },
   "source": [
    "***ej 2:***\n",
    "\n",
    "$$\\sum \\limits_{i=1}^n \\left ( \\left ( \\sum \\limits_{j=1}^n 5+3\\right ) +3 \\right ) +3 = \\sum \\limits_{i=1}^n (5n+6) + 3 = (5n+6)n+3=5n^2+6n+3$$"
   ]
  },
  {
   "cell_type": "markdown",
   "metadata": {
    "slideshow": {
     "slide_type": "subslide"
    }
   },
   "source": [
    "#### Ciclos \"Mientras\" (`while`)"
   ]
  },
  {
   "cell_type": "markdown",
   "metadata": {
    "slideshow": {
     "slide_type": "subslide"
    }
   },
   "source": [
    "El tiempo en una estructura *Mientras* (`while`) es la multiplicación del tiempo de la estructura interior por el número de ciclos de esta estructura `while`, $n$.\n",
    "\n",
    "$$T = (T_{interior} + T_{while}) \\times n$$"
   ]
  },
  {
   "cell_type": "markdown",
   "metadata": {
    "slideshow": {
     "slide_type": "fragment"
    }
   },
   "source": [
    "Por el tipo de estructura, no hay forma de conocer, a priori, cuántas veces se pasará por el ciclo. El procedimiento de cálculo sería entonces:\n",
    "\n",
    "- Hallar una función de las variables implicadas en el control del ciclo.\n",
    "\n",
    "\n",
    "- Determinar el valor para el cual los ciclos de la estructura llegan a su final.\n",
    "\n",
    "\n",
    "- Determinar la forma en que disminuyen las variables de control del ciclo.\n",
    "\n",
    "\n",
    "***Ej.***"
   ]
  },
  {
   "cell_type": "raw",
   "metadata": {
    "slideshow": {
     "slide_type": "subslide"
    }
   },
   "source": [
    "j <-- 1                           O(1)\n",
    "Mientras j <= n hacer:\n",
    "    modulo(A)                     O(m)\n",
    "    j <-- j * B                   O(2)"
   ]
  },
  {
   "cell_type": "markdown",
   "metadata": {
    "slideshow": {
     "slide_type": "fragment"
    }
   },
   "source": [
    "Resolviendo el ciclo para llevar las cuentas\n",
    "\n",
    "$$T = n - j + 1$$\n",
    "$$j > n$$\n",
    "$$j \\leftarrow 1, B, B^2, B^3, \\ldots, B^k$$\n",
    "\n",
    "por lo tanto, $mod(A)$ se repite $k$ veces\n",
    "\n",
    "$$B^k>n \\rightarrow log_B(B^k)>log_B(n) \\rightarrow k > log_B(n) \\rightarrow k = log_B(n) + c$$\n",
    "\n",
    "con esto,\n",
    "\n",
    "\n",
    "$$T_{while} = (m+4)\\times (log_B(n)+c) + 3$$"
   ]
  },
  {
   "cell_type": "markdown",
   "metadata": {
    "slideshow": {
     "slide_type": "subslide"
    }
   },
   "source": [
    "#### Estructura condicional Si (`if`)"
   ]
  },
  {
   "cell_type": "markdown",
   "metadata": {
    "slideshow": {
     "slide_type": "subslide"
    }
   },
   "source": [
    "***Regla 1:***\n",
    "\n",
    "- El tiempo de ejecución del condicional es la suma del tiempo de ejecucion del condicional y el mayor de los tiempos de ejecución de las alternativas (dos ejecuciones simples o una compuesta y una simple)\n",
    "\n",
    "$$T = T_{if} + max(T_{then}, T_{else})$$"
   ]
  },
  {
   "cell_type": "markdown",
   "metadata": {
    "slideshow": {
     "slide_type": "subslide"
    }
   },
   "source": [
    "***Regla 2:***\n",
    "\n",
    "- El tiempo nunca es mayor que el tiempo de ejecución del condicional más el mayor de los tiempos de ejecución de las alternativas (dos instrucciones compuestas)\n",
    "\n",
    "\n",
    "***Ej.***"
   ]
  },
  {
   "cell_type": "raw",
   "metadata": {
    "slideshow": {
     "slide_type": "fragment"
    }
   },
   "source": [
    "Si i = j entonces:              O(1)\n",
    "    suma <-- suma + 1           O(2)\n",
    "Sino\n",
    "    suma <-- suma + i * j       O(3)"
   ]
  },
  {
   "cell_type": "markdown",
   "metadata": {
    "slideshow": {
     "slide_type": "fragment"
    }
   },
   "source": [
    "$$T(n) = 1 + max(2 , 3) = 4$$"
   ]
  },
  {
   "cell_type": "raw",
   "metadata": {
    "slideshow": {
     "slide_type": "subslide"
    }
   },
   "source": [
    "Se tomará el caso peor posible\n",
    "\n",
    "Si condición 1 entonces:\n",
    "    Tratamiento 1\n",
    "Sino condición 2 entonces:\n",
    "    Tratamiento 2\n",
    ":\n",
    ":\n",
    "Sino si condición n entonces:\n",
    "    Tratamiento n"
   ]
  },
  {
   "cell_type": "markdown",
   "metadata": {
    "slideshow": {
     "slide_type": "fragment"
    }
   },
   "source": [
    "$$T(n) = max(\\mathcal{O}(Trat_1),\\mathcal{O}(Trat_2), \\ldots, \\mathcal{O}(Trat_n))$$"
   ]
  },
  {
   "cell_type": "markdown",
   "metadata": {},
   "source": [
    "Resumiendo, de forma general, las reglas que permiten obtener el orden de complejidad de un algoritmo serían (entre otras menos comunes):\n",
    "\n",
    "- ***Operaciones aritméticas elementales sobre números:*** suma, resta, producto y división, se considerará que cada una tiene un costo constante, por lo que se dice que todas ellas están en $\\Theta(1)$.\n",
    "\n",
    "\n",
    "- **Comparaciones entre datos:** *p.ej.* decidir si un número es mayor que otro, cada test de esta forma tiene costo constante también.\n",
    "\n",
    "\n",
    "- ***Asignaciones de la forma $x \\leftarrow f(a)$:*** Suponiendo que las operaciones que pueden aparecer en $f(a)$ tienen costo constante, el costo de toda la asignación también será constante. Si no, el costo de la asignación será el costo de la evaluación de $f(a)$. Igual sucede en el caso de asignaciones múltiples.\n",
    "\n",
    "\n",
    "- ***Instrucciones condicionales (`if` $A$ `then` $I_1$ `else` $I_2$):*** El costo total es la suma del costo de evaluar las condiciones booleanas $A$ (generalmente constante) más el costo de evaluar $I_1$ o $I_2$.\n",
    "\n",
    "\n",
    "- ***Ciclos `while`***: Se calcula primero el costo de cada pasada y después sumar el costo de todas las pasadas que hagan parte del ciclo. El número de estas dependerá de lo que tarde en hacerse falso $A$, teniendo en cuenta los datos concretos sobre los que se ejecute el programa y lo grandes que sean."
   ]
  },
  {
   "cell_type": "markdown",
   "metadata": {
    "slideshow": {
     "slide_type": "slide"
    }
   },
   "source": [
    "### Llamadas recursivas"
   ]
  },
  {
   "cell_type": "markdown",
   "metadata": {},
   "source": [
    "<iframe src=\"https://giphy.com/embed/3ov9jQX2Ow4bM5xxuM\" width=\"480\" height=\"390\" frameBorder=\"0\" class=\"giphy-embed\" allowFullScreen></iframe><p><a href=\"https://giphy.com/gifs/homer-simpson-the-simpsons-3ov9jQX2Ow4bM5xxuM\">via GIPHY</a></p>"
   ]
  },
  {
   "cell_type": "markdown",
   "metadata": {
    "slideshow": {
     "slide_type": "subslide"
    }
   },
   "source": [
    "Un algoritmo recursivo es aquel que se llama así mismo para ejecutarse. El análisis de un algoritmo recursivo suele dar lugar a una ecuación de recurrencia que imita el flujo de control dentro del algoritmo. Una vez obtenida la ecuación de recurrencia, se pueden aplicar algunas técnicas generales para transformar la ecuación en una ecuación asintótica no recursiva, que es más sencilla.\n",
    "\n",
    "\n",
    "Una relación lineal de recurrencia implica que $t(n)$ se expresa de la siguiente forma:\n",
    "\n",
    "$$t(n)=F(n) + a_1t(n-1)+ a_2t(n-2)+\\ldots + a_kt(n-k)$$\n",
    "\n",
    "\n",
    "De forma particulas, si una relación lineal de recurrencia tiene que $F(n)=0$, se dice que es homogénea, lo contrario es no homogénea.\n",
    "\n",
    "\n",
    "\n",
    "En el análisis de un algoritmo recursivo se espera que la función esté planteada únicamente en términos del tamaño del problema $n$."
   ]
  },
  {
   "cell_type": "markdown",
   "metadata": {},
   "source": [
    "#### Recurrencias homogéneas:"
   ]
  },
  {
   "cell_type": "markdown",
   "metadata": {
    "slideshow": {
     "slide_type": "subslide"
    }
   },
   "source": [
    "- Intuir o predecir cuál es el tipo de función que puede describir el comportamiento de la recurrencia.\n",
    "\n",
    "\n",
    "- Se sustituye la función predicción en la recurrencia obteniendo la ecuación característica, la cual corresponde a las raíces de un polinomio.\n",
    "\n",
    "\n",
    "- La solución de la ecuación característica permite encontrar un conjunto de soluciones particulares, de las cuales se puede inferir una familia de posibles soluciones.\n",
    "\n",
    "\n",
    "- Se aplican las condiciones iniciales (correspondientes a las salidas no recursivas del algoritmo), con el fin de seleccionar el ejemplar más apropiado para esa familia, obteniéndose así la relación de la recurrencia."
   ]
  },
  {
   "cell_type": "markdown",
   "metadata": {
    "slideshow": {
     "slide_type": "subslide"
    }
   },
   "source": [
    "Tomemos como ejemplo el algoritmo clásico de la serie de *Fibonacci*\n",
    "\n",
    "- recordemos que la forma general de la sucesión de *Fibonacci*\n",
    "\n",
    "$$F_{i}=F_{i-1}+F_{i-2}$$\n",
    "\n",
    "- es decir, el valor de la sucesión en $i$ se obtiene sumando los valores de la sucesión en los dos pasos anteriores, $i-1$ y $i-2$.\n",
    "\n",
    "El algoritmo para el cálculo del valor $n$ de la sucesión de *Fibonacci* sería entonces:"
   ]
  },
  {
   "cell_type": "raw",
   "metadata": {
    "slideshow": {
     "slide_type": "subslide"
    }
   },
   "source": [
    "funcion Fibrec(n):\n",
    "    si n < 2 entonces\n",
    "        devolver n\n",
    "    sino:\n",
    "        devolver Fibrec(n-1) + Fibrec(n-2)"
   ]
  },
  {
   "cell_type": "code",
   "execution_count": null,
   "metadata": {
    "slideshow": {
     "slide_type": "subslide"
    }
   },
   "outputs": [],
   "source": [
    "def Fibrec(n):\n",
    "    if n < 2:\n",
    "        return n\n",
    "    else:\n",
    "        return Fibrec(n-1) + Fibrec(n-2)"
   ]
  },
  {
   "cell_type": "code",
   "execution_count": null,
   "metadata": {
    "slideshow": {
     "slide_type": "fragment"
    }
   },
   "outputs": [],
   "source": [
    "print(Fibrec(5))"
   ]
  },
  {
   "cell_type": "markdown",
   "metadata": {
    "slideshow": {
     "slide_type": "subslide"
    }
   },
   "source": [
    "Sea $T(n)$ el tiempo requerido por una llamada a `Fibrec(n)`. Si $n<2$, el algoritmo devuevuelve el valor de $n$, que lo realiza en un tiempo constante $a$.\n",
    "\n",
    "El resto del trabajo se realiza en las dos llamadas recursivas que requieren de un tiempo $T(n-1)$ y $T(n-2)$, más el tiempo de realizar las sumas de $f_{n-1}$ y $f_{n-2}$, más el control de la recursividad y la comprobación del $si$ $n<2$.\n",
    "\n",
    "Sea $h(n)$ el trabajo implicado en esta suma y en el control, esto es, el tiempo requerido para una llamada a `Fibrec(n)` ignorando los tiempos invertidos dentro de las dos llamadas recursivas. \n",
    "\n",
    "Por definición de $T(n)$ y de $h(n)$, se obtiene la siguiente recurrencia:\n",
    "\n",
    "\n",
    "$$T(n)=\\left\\{ \\begin{array}{ccc}\n",
    "a,                        & \\text{si } n=0 \\text{ o } n = 1, \\\\\n",
    "T(n-1) + T(n-2) + h(n) ,  & \\text{en caso contrario}  \n",
    "\\end{array}\n",
    "\\right. $$"
   ]
  },
  {
   "cell_type": "markdown",
   "metadata": {
    "slideshow": {
     "slide_type": "subslide"
    }
   },
   "source": [
    "Si se cuentan las sumas con costo unitario, $h(n)$ está acotado por una constante y la ecuación de recurrencia para $T(n)$ es muy similar\n",
    "\n",
    "\n",
    "- Al ver el comportamiento del algoritmo se intuye que la función de recurrencia debe ser de orden exponencial. Por lo tanto se realiza una predicción de la forma $t(n) = a^n$, $a>0$.\n",
    "\n",
    "\n",
    "- La recurrencia de la ecuación anterior es homogenea, dado que se puede escribir como $t(n)-t(n-1)-t(n-2) = 0$ para el caso general, $n>1$.\n",
    "\n",
    "\n",
    "- Sustituyendo $t(n)=a^n$ en la ecuación homogénea se tiene: \n",
    "\n",
    "$$a^n - a^{n-1} - a^{n-2} = 0$$\n",
    "\n",
    "\n",
    "  que equivale a $a^{n-2}(a^2-a-1)=0$. Aplicando la condición $a>0$ se reduce a la llamada ecuación característica $a^2-a-1=0$\n",
    "\n",
    "\n",
    "- Las soluciones particulares de esta ecuación son:\n",
    "\n",
    "$$t_1(n) = \\left( \\frac{1-\\sqrt{5}}{2} \\right) ^n \\text{ y, } t_2(n) = \\left( \\frac{1+\\sqrt{5}}{2} \\right) ^n$$"
   ]
  },
  {
   "cell_type": "markdown",
   "metadata": {
    "slideshow": {
     "slide_type": "subslide"
    }
   },
   "source": [
    "- A partir de las ecuaciones anteriores se expresa la familia de soluciones mediante:\n",
    "\n",
    "$$t(n)=C_1 \\left( \\frac{1-\\sqrt{5}}{2} \\right) ^n + C_2 \\left( \\frac{1+\\sqrt{5}}{2} \\right) ^n$$\n",
    "\n",
    "\n",
    "- Como $t(n)$ debe satisfacer las condiciones iniciales $t(0)=0$ y $t(1)=1$, y al sustituir en la ecuación anterior se encuentra la solución general:\n",
    "\n",
    "$$t(n)= \\frac{1}{\\sqrt{5}} \\left( \\frac{1+\\sqrt{5}}{2} \\right) ^n - \\frac{1}{\\sqrt{5}} \\left( \\frac{1-\\sqrt{5}}{2} \\right) ^n$$\n",
    "\n",
    "\n",
    "Esta fórmula es llamada de *Moivre* para la *sucesión de Fibonacci*."
   ]
  },
  {
   "cell_type": "markdown",
   "metadata": {
    "slideshow": {
     "slide_type": "subslide"
    }
   },
   "source": [
    "Este método se puede aplicar a todas las recurrencias homogéneas y es un proceso algebráico, aplicable sin mayores inconvenientes."
   ]
  },
  {
   "cell_type": "markdown",
   "metadata": {},
   "source": [
    "#### Recurrencias no homogéneas"
   ]
  },
  {
   "cell_type": "markdown",
   "metadata": {
    "slideshow": {
     "slide_type": "slide"
    }
   },
   "source": [
    "Las recurrencias no homogéneas son las que se presentan con mayor frecuencia en algoritmos recursivos. Para su análisis es necesario convertirlas a recurrencias homogéneas mediantea algún tratamiento matemático, que varia dependiendo de la forma que tenga la recurrencia."
   ]
  },
  {
   "cell_type": "markdown",
   "metadata": {
    "slideshow": {
     "slide_type": "subslide"
    }
   },
   "source": [
    "Veamos como ejemplo la recurrencia del factorial.\n",
    "\n",
    "El algoritmo para calcular recursivamente el factorial de un número entero mayor o igual a cero da lugar a la recurrencia \n",
    "\n",
    "$$t(n)-t(n-1)=1$$\n",
    "\n",
    "si $n>0$ y con $t(n)=0$ si $n=0$.\n",
    "\n",
    "Al no ser homogénea, por el término independiente constante, la ecuación anterior se puede desarrollar de la siguiente forma:\n",
    "\n",
    "\n",
    "- Se reemplaza $n$ por $n-1$, convirtiéndose la recurrencia en:\n",
    "\n",
    "\n",
    "$$t(n-1)-t(n-2)=1$$\n",
    "\n",
    "\n",
    "- restando estas dos últimas ecuaciones se tiene:\n",
    "\n",
    "$$t(n)-2t(n-1)+t(n-2)=0$$"
   ]
  },
  {
   "cell_type": "markdown",
   "metadata": {
    "slideshow": {
     "slide_type": "subslide"
    }
   },
   "source": [
    "Teniéndose entonces una ecuación homogénea con ecuación característica $x^2-2x+1=0$.\n",
    "\n",
    "La solución de esta ecuación es de raíces múltiples, con $x=1$. La solución general se expresa:\n",
    "\n",
    "$$t(n)=c_11^n + nc_21^n$$\n",
    "\n",
    "o de forma más simple:\n",
    "\n",
    "$$t(n) = c_1 + c_2 n$$\n",
    "\n",
    "Únicamente contamos con una condición inicial pero se requerirían dos para poder determinar las dos constantes en esta ecuación. Aplicando el mismo concepto de recurrencia podemos hallar $t(1) = t(0) +1=1$.\n",
    "\n",
    "\n",
    "Por tanto, $c_1=0$ y $c_2=1$ y al sustituir en la ecuación anterior se tiene que\n",
    "\n",
    "$$t(n)=n$$."
   ]
  },
  {
   "cell_type": "markdown",
   "metadata": {
    "slideshow": {
     "slide_type": "slide"
    }
   },
   "source": [
    "### Analisis de caso medio y amortizado"
   ]
  },
  {
   "cell_type": "markdown",
   "metadata": {
    "slideshow": {
     "slide_type": "subslide"
    }
   },
   "source": [
    "En la mayoría de los casos, los análisis para el caso medio se hacen con la suposición de que todos los ejemplares de un tamaño dado son igualmente probables. En el caso de problemas de ordenación, resulta más simple suponer que todos los elementos que hay qué ordenar son distintos (no hay elementos repetidos).\n",
    "\n",
    "\n",
    "- Supongamos que se tiene qué ordenar $n$ elementos distintos por *insersión*, y qué las $n!$ permitaciones de estos elementos son igualmente probables.\n",
    "\n",
    "\n",
    "- Para determinar el tiempo requerido en el caso medio por el algoritmo, se podría sumar los tiempos requeridos para ordenar todas y cada una de las permutaciones posibles y dividir entonces por $n!$ la respuesta obtenida."
   ]
  },
  {
   "cell_type": "markdown",
   "metadata": {
    "slideshow": {
     "slide_type": "subslide"
    }
   },
   "source": [
    "Otra alternativa, más simple en este caso, es analizar directamente el tiempo requerido por el algoritmo, razonando probabilísticamente a medida que se vaya avanzando. (se verá más adelante en el capítulo de algoritmos probabilísticos)."
   ]
  },
  {
   "cell_type": "markdown",
   "metadata": {},
   "source": [
    "***Desafios***\n",
    "\n",
    "Resuelva las siguientes relaciones de recurrencia\n",
    "\n",
    "1. $x(n)=x(n-1)+5$ para $n>1$, $x(1)=0$\n",
    "\n",
    "\n",
    "2. $x(n)=3x(n-1)$ para $n>1$, $x(1)=4$\n",
    "\n",
    "\n",
    "3. $x(n)=x(n-1)+n$ para $n>0$, $x(0)=0$\n",
    "\n",
    "\n",
    "4. $x(n)=x(n/2)+n$ para $n>1$, $x(1)=1$ (resolver para $n=2^k$)"
   ]
  },
  {
   "cell_type": "code",
   "execution_count": null,
   "metadata": {},
   "outputs": [],
   "source": []
  }
 ],
 "metadata": {
  "kernelspec": {
   "display_name": "Python 3",
   "language": "python",
   "name": "python3"
  },
  "language_info": {
   "codemirror_mode": {
    "name": "ipython",
    "version": 3
   },
   "file_extension": ".py",
   "mimetype": "text/x-python",
   "name": "python",
   "nbconvert_exporter": "python",
   "pygments_lexer": "ipython3",
   "version": "3.6.13"
  },
  "toc": {
   "base_numbering": "4",
   "nav_menu": {},
   "number_sections": true,
   "sideBar": true,
   "skip_h1_title": true,
   "title_cell": "Tabla de Contenidos",
   "title_sidebar": "Contenidos",
   "toc_cell": true,
   "toc_position": {
    "height": "calc(100% - 180px)",
    "left": "10px",
    "top": "150px",
    "width": "165px"
   },
   "toc_section_display": true,
   "toc_window_display": true
  }
 },
 "nbformat": 4,
 "nbformat_minor": 2
}
