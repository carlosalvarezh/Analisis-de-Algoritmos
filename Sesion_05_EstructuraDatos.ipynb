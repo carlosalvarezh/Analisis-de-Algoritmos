{
 "cells": [
  {
   "cell_type": "markdown",
   "metadata": {
    "slideshow": {
     "slide_type": "slide"
    }
   },
   "source": [
    "<h1 align=\"center\">ANÁLISIS DE ALGORITMOS</h1>\n",
    "\n",
    "<h1 align=\"center\">Sesión 05: Estructuras de datos</h1>\n",
    "\n",
    "<h1 align=\"center\">MEDELLÍN - COLOMBIA </h1>\n",
    "\n",
    "<h1 align=\"center\">2021 </h1>"
   ]
  },
  {
   "cell_type": "markdown",
   "metadata": {},
   "source": [
    "<table>\n",
    " <tr align=left><td><img align=left src=\"https://github.com/carlosalvarezh/Analisis_de_Algoritmos/blob/master/images/CC-BY.png?raw=true\">\n",
    " <td>Text provided under a Creative Commons Attribution license, CC-BY. All code is made available under the FSF-approved MIT license.(c) Carlos Alberto Alvarez Henao</td>\n",
    "</table>"
   ]
  },
  {
   "cell_type": "markdown",
   "metadata": {},
   "source": [
    "*** \n",
    "\n",
    "***Docente:*** Carlos Alberto Álvarez Henao, I.C. D.Sc.\n",
    "\n",
    "***e-mail:*** carlosalvarezh@gmail.com\n",
    "\n",
    "***skype:*** carlos.alberto.alvarez.henao\n",
    "\n",
    "***Linkedin:*** https://www.linkedin.com/in/carlosalvarez5/\n",
    "\n",
    "***github:*** https://github.com/carlosalvarezh/Metodos_Numericos\n",
    "\n",
    "***Herramienta:*** [Jupyter](http://jupyter.org/)\n",
    "\n",
    "***Kernel:*** Python 3.8\n",
    "\n",
    "\n",
    "***"
   ]
  },
  {
   "cell_type": "markdown",
   "metadata": {},
   "source": [
    "<a id='TOC'></a>"
   ]
  },
  {
   "cell_type": "markdown",
   "metadata": {
    "toc": true
   },
   "source": [
    "<h1>Table of Contents<span class=\"tocSkip\"></span></h1>\n",
    "<div class=\"toc\"><ul class=\"toc-item\"><li><span><a href=\"#Estructuras-de-datos\" data-toc-modified-id=\"Estructuras-de-datos-1\"><span class=\"toc-item-num\">1&nbsp;&nbsp;</span>Estructuras de datos</a></span><ul class=\"toc-item\"><li><span><a href=\"#Definición:\" data-toc-modified-id=\"Definición:-1.1\"><span class=\"toc-item-num\">1.1&nbsp;&nbsp;</span>Definición:</a></span></li><li><span><a href=\"#Comportamientos-fundamentales-en-una-estructura-de-datos\" data-toc-modified-id=\"Comportamientos-fundamentales-en-una-estructura-de-datos-1.2\"><span class=\"toc-item-num\">1.2&nbsp;&nbsp;</span>Comportamientos fundamentales en una estructura de datos</a></span></li></ul></li><li><span><a href=\"#Arreglos,-Listas,-Pilas-y-Colas\" data-toc-modified-id=\"Arreglos,-Listas,-Pilas-y-Colas-2\"><span class=\"toc-item-num\">2&nbsp;&nbsp;</span>Arreglos, Listas, Pilas y Colas</a></span><ul class=\"toc-item\"><li><span><a href=\"#Arreglos-(array)\" data-toc-modified-id=\"Arreglos-(array)-2.1\"><span class=\"toc-item-num\">2.1&nbsp;&nbsp;</span>Arreglos (array)</a></span><ul class=\"toc-item\"><li><span><a href=\"#Arreglos-1-D\" data-toc-modified-id=\"Arreglos-1-D-2.1.1\"><span class=\"toc-item-num\">2.1.1&nbsp;&nbsp;</span>Arreglos 1-D</a></span></li><li><span><a href=\"#Arreglos-n-D\" data-toc-modified-id=\"Arreglos-n-D-2.1.2\"><span class=\"toc-item-num\">2.1.2&nbsp;&nbsp;</span>Arreglos n-D</a></span></li><li><span><a href=\"#Arreglos-irregulares\" data-toc-modified-id=\"Arreglos-irregulares-2.1.3\"><span class=\"toc-item-num\">2.1.3&nbsp;&nbsp;</span>Arreglos irregulares</a></span></li></ul></li><li><span><a href=\"#Listas-(list)\" data-toc-modified-id=\"Listas-(list)-2.2\"><span class=\"toc-item-num\">2.2&nbsp;&nbsp;</span>Listas (list)</a></span><ul class=\"toc-item\"><li><span><a href=\"#Definición-y-operaciones-básicas-en-Listas\" data-toc-modified-id=\"Definición-y-operaciones-básicas-en-Listas-2.2.1\"><span class=\"toc-item-num\">2.2.1&nbsp;&nbsp;</span>Definición y operaciones básicas en Listas</a></span></li><li><span><a href=\"#Arreglos-vs-Listas\" data-toc-modified-id=\"Arreglos-vs-Listas-2.2.2\"><span class=\"toc-item-num\">2.2.2&nbsp;&nbsp;</span>Arreglos vs Listas</a></span></li><li><span><a href=\"#Acceso-Secuencial-vs-Directo\" data-toc-modified-id=\"Acceso-Secuencial-vs-Directo-2.2.3\"><span class=\"toc-item-num\">2.2.3&nbsp;&nbsp;</span>Acceso Secuencial vs Directo</a></span></li><li><span><a href=\"#Diferencia-entre-Arreglos-y-Listas\" data-toc-modified-id=\"Diferencia-entre-Arreglos-y-Listas-2.2.4\"><span class=\"toc-item-num\">2.2.4&nbsp;&nbsp;</span>Diferencia entre Arreglos y Listas</a></span></li></ul></li><li><span><a href=\"#Pilas-(Stacks)\" data-toc-modified-id=\"Pilas-(Stacks)-2.3\"><span class=\"toc-item-num\">2.3&nbsp;&nbsp;</span>Pilas (Stacks)</a></span><ul class=\"toc-item\"><li><span><a href=\"#Operaciones-Básicas-en-Pilas:\" data-toc-modified-id=\"Operaciones-Básicas-en-Pilas:-2.3.1\"><span class=\"toc-item-num\">2.3.1&nbsp;&nbsp;</span>Operaciones Básicas en Pilas:</a></span></li><li><span><a href=\"#Aplicaciones-de-las-pilas\" data-toc-modified-id=\"Aplicaciones-de-las-pilas-2.3.2\"><span class=\"toc-item-num\">2.3.2&nbsp;&nbsp;</span>Aplicaciones de las pilas</a></span></li><li><span><a href=\"#Implementación-de-las-Pilas\" data-toc-modified-id=\"Implementación-de-las-Pilas-2.3.3\"><span class=\"toc-item-num\">2.3.3&nbsp;&nbsp;</span>Implementación de las Pilas</a></span></li></ul></li><li><span><a href=\"#Cola-(queue)\" data-toc-modified-id=\"Cola-(queue)-2.4\"><span class=\"toc-item-num\">2.4&nbsp;&nbsp;</span>Cola (queue)</a></span><ul class=\"toc-item\"><li><span><a href=\"#Operaciones-Básicas-en-Colas:\" data-toc-modified-id=\"Operaciones-Básicas-en-Colas:-2.4.1\"><span class=\"toc-item-num\">2.4.1&nbsp;&nbsp;</span>Operaciones Básicas en Colas:</a></span></li><li><span><a href=\"#Aplicaciones-de-las-colas\" data-toc-modified-id=\"Aplicaciones-de-las-colas-2.4.2\"><span class=\"toc-item-num\">2.4.2&nbsp;&nbsp;</span>Aplicaciones de las colas</a></span></li><li><span><a href=\"#Implementación-de-la-estructura-cola\" data-toc-modified-id=\"Implementación-de-la-estructura-cola-2.4.3\"><span class=\"toc-item-num\">2.4.3&nbsp;&nbsp;</span>Implementación de la estructura cola</a></span></li></ul></li></ul></li><li><span><a href=\"#Árboles-(Trees)\" data-toc-modified-id=\"Árboles-(Trees)-3\"><span class=\"toc-item-num\">3&nbsp;&nbsp;</span>Árboles (Trees)</a></span></li><li><span><a href=\"#Grafos-(Graphs)\" data-toc-modified-id=\"Grafos-(Graphs)-4\"><span class=\"toc-item-num\">4&nbsp;&nbsp;</span>Grafos (Graphs)</a></span><ul class=\"toc-item\"><li><span><a href=\"#Introducción\" data-toc-modified-id=\"Introducción-4.1\"><span class=\"toc-item-num\">4.1&nbsp;&nbsp;</span>Introducción</a></span></li><li><span><a href=\"#Grafos-simples---Notación-estándar\" data-toc-modified-id=\"Grafos-simples---Notación-estándar-4.2\"><span class=\"toc-item-num\">4.2&nbsp;&nbsp;</span>Grafos simples - Notación estándar</a></span></li><li><span><a href=\"#Grafos-simples---Notación-matricial\" data-toc-modified-id=\"Grafos-simples---Notación-matricial-4.3\"><span class=\"toc-item-num\">4.3&nbsp;&nbsp;</span>Grafos simples - Notación matricial</a></span><ul class=\"toc-item\"><li><span><a href=\"#Matriz-de-Adyacencia\" data-toc-modified-id=\"Matriz-de-Adyacencia-4.3.1\"><span class=\"toc-item-num\">4.3.1&nbsp;&nbsp;</span>Matriz de Adyacencia</a></span></li><li><span><a href=\"#Matriz-de-Incidencia\" data-toc-modified-id=\"Matriz-de-Incidencia-4.3.2\"><span class=\"toc-item-num\">4.3.2&nbsp;&nbsp;</span>Matriz de Incidencia</a></span></li><li><span><a href=\"#Diferencias\" data-toc-modified-id=\"Diferencias-4.3.3\"><span class=\"toc-item-num\">4.3.3&nbsp;&nbsp;</span>Diferencias</a></span></li></ul></li><li><span><a href=\"#Propiedades-comunes-en-Grafos\" data-toc-modified-id=\"Propiedades-comunes-en-Grafos-4.4\"><span class=\"toc-item-num\">4.4&nbsp;&nbsp;</span>Propiedades comunes en Grafos</a></span><ul class=\"toc-item\"><li><span><a href=\"#Grafos-no-dirigidos-vs-dirigidos\" data-toc-modified-id=\"Grafos-no-dirigidos-vs-dirigidos-4.4.1\"><span class=\"toc-item-num\">4.4.1&nbsp;&nbsp;</span>Grafos no dirigidos vs dirigidos</a></span></li><li><span><a href=\"#Grafcos-ponderados-y-no-ponderados\" data-toc-modified-id=\"Grafcos-ponderados-y-no-ponderados-4.4.2\"><span class=\"toc-item-num\">4.4.2&nbsp;&nbsp;</span>Grafcos ponderados y no ponderados</a></span></li><li><span><a href=\"#Múltiples-bordes-y-ciclos\" data-toc-modified-id=\"Múltiples-bordes-y-ciclos-4.4.3\"><span class=\"toc-item-num\">4.4.3&nbsp;&nbsp;</span>Múltiples bordes y ciclos</a></span></li><li><span><a href=\"#Grafos-acíclicos-vs-cíclicos\" data-toc-modified-id=\"Grafos-acíclicos-vs-cíclicos-4.4.4\"><span class=\"toc-item-num\">4.4.4&nbsp;&nbsp;</span>Grafos acíclicos vs cíclicos</a></span></li></ul></li><li><span><a href=\"#Ejemplo-de-aplicación\" data-toc-modified-id=\"Ejemplo-de-aplicación-4.5\"><span class=\"toc-item-num\">4.5&nbsp;&nbsp;</span>Ejemplo de aplicación</a></span><ul class=\"toc-item\"><li><span><a href=\"#Grafos-dirigidos-y-no-dirigidos.\" data-toc-modified-id=\"Grafos-dirigidos-y-no-dirigidos.-4.5.1\"><span class=\"toc-item-num\">4.5.1&nbsp;&nbsp;</span>Grafos dirigidos y no dirigidos.</a></span></li><li><span><a href=\"#Ponderación\" data-toc-modified-id=\"Ponderación-4.5.2\"><span class=\"toc-item-num\">4.5.2&nbsp;&nbsp;</span>Ponderación</a></span></li><li><span><a href=\"#El-tipo-abstracto-de-datos-grafo\" data-toc-modified-id=\"El-tipo-abstracto-de-datos-grafo-4.5.3\"><span class=\"toc-item-num\">4.5.3&nbsp;&nbsp;</span>El tipo abstracto de datos grafo</a></span></li><li><span><a href=\"#Matriz-de-adyacencia\" data-toc-modified-id=\"Matriz-de-adyacencia-4.5.4\"><span class=\"toc-item-num\">4.5.4&nbsp;&nbsp;</span>Matriz de adyacencia</a></span></li><li><span><a href=\"#Codificando\" data-toc-modified-id=\"Codificando-4.5.5\"><span class=\"toc-item-num\">4.5.5&nbsp;&nbsp;</span>Codificando</a></span></li></ul></li></ul></li></ul></div>"
   ]
  },
  {
   "cell_type": "markdown",
   "metadata": {},
   "source": [
    "## Estructuras de datos"
   ]
  },
  {
   "cell_type": "markdown",
   "metadata": {},
   "source": [
    "<p float=\"center\">\n",
    "  <img src=\"https://github.com/carlosalvarezh/Analisis_de_Algoritmos/blob/master/images/DataStructures00.jpg?raw=true\" width=\"500\" />\n",
    "</p>\n",
    "\n",
    "\n",
    "Pensamos en estructuras de forma natural."
   ]
  },
  {
   "cell_type": "markdown",
   "metadata": {
    "slideshow": {
     "slide_type": "slide"
    }
   },
   "source": [
    "Cuando desarrollamos un problema de programación, nos sumergimos en el algoritmo, pero descuidamos la estructura de datos al rededor. Peor aún, creemos que emplear cualquier estructura de datos da igual, sin pensar mucho en el desempeño de nuestro código.\n",
    "\n",
    "La selección de una estructura de datos adecuada es un factor crucial en el diseño de algoritmos eficientes. Sin pretender de que este capítulo sea un manual de estructura de datos, se espera que el estudiante tenga nociones básicas de lo que es un arreglo, fila, cola, grafos, etc, y adquiera los criterios necesarios y suficientes para su elección y aplicabilidad."
   ]
  },
  {
   "cell_type": "markdown",
   "metadata": {},
   "source": [
    "[Volver a la Tabla de Contenido](#TOC)"
   ]
  },
  {
   "cell_type": "markdown",
   "metadata": {},
   "source": [
    "### Definición:"
   ]
  },
  {
   "cell_type": "markdown",
   "metadata": {},
   "source": [
    "Para empezar, debemos preguntarnos ***¿Qué es una estructura de datos?*** \n",
    "\n",
    "Veamos qué se dice en [Wikipedia](https://en.wikipedia.org/wiki/Data_structure#cite_note-1)\n",
    "\n",
    "> <center><i>In computer science, a data structure is a data organization, management, and storage format that enables efficient access and modification. More precisely, a data structure is a collection of data values, the relationships among them, and the functions or operations that can be applied to the data.</i> </center>\n",
    "\n",
    "Es un arreglo intencional de una colección de datos que hemos creado. El arreglo intencional significa el arreglo hecho a propósito para imponer, hacer cumplir, algún tipo de organización sistemática sobre los datos.\n",
    "\n",
    "***Estructuras de datos en nuestra vidas cotidianas:*** Lista de compras, directorio telefónico, un diccionario, etc.\n",
    "\n",
    "Para quienes piensan en Programación Orientada a Objetos (POO), efectivamente, los Objetos son un cierto tipo de estructura de datos, pero no los únicos."
   ]
  },
  {
   "cell_type": "markdown",
   "metadata": {},
   "source": [
    "### Comportamientos fundamentales en una estructura de datos"
   ]
  },
  {
   "cell_type": "markdown",
   "metadata": {},
   "source": [
    "Cómo acceder, insertar, borrar, encontrar y ordenar. Son algunas de las operaciones básicas escenciales que se realizan frecuentemente en un programa. Por increíble que parezca, no todas las estructuras de datos permiten realizar algunas de estas operaciones. Algunas estructuras no permiten comportamientos de búsqueda, son simplemente una colección de datos, un contenedor de información. Otras estructuras no permiten clasificar, otras, clasifican naturalmente.\n",
    "\n",
    "Cada estructura plantea su propia forma de ordener, insertar, buscar, etc. Esto es debido a su propia naturaleza. Entre más eficiente y adecuado sea un algoritmo, más optimizada será su estructura de datos."
   ]
  },
  {
   "cell_type": "markdown",
   "metadata": {
    "slideshow": {
     "slide_type": "subslide"
    }
   },
   "source": [
    "## Arreglos, Listas, Pilas y Colas"
   ]
  },
  {
   "cell_type": "markdown",
   "metadata": {},
   "source": [
    "### Arreglos (array)"
   ]
  },
  {
   "cell_type": "markdown",
   "metadata": {},
   "source": [
    "#### Arreglos 1-D"
   ]
  },
  {
   "cell_type": "markdown",
   "metadata": {
    "slideshow": {
     "slide_type": "subslide"
    }
   },
   "source": [
    "Un arreglo es una estructura de datos, o más técnicamente, un espacio de memoria que permite almacenar una colección de elementos, todos del mismo tipo. Conviene imaginar un arreglo como una secuencia contigua de celdas (espacios de memoria), o *casillas*, en cada una de las cuales se puede guardar un elemento de la colección. Además, es usual dibujarlo como lo ilustra la figura siguiente:"
   ]
  },
  {
   "cell_type": "markdown",
   "metadata": {},
   "source": [
    "<p float=\"center\">\n",
    "  <img src=\"https://github.com/carlosalvarezh/Analisis_de_Algoritmos/blob/master/images/Array01.png?raw=true\" width=\"400\" />\n",
    "</p>\n"
   ]
  },
  {
   "cell_type": "markdown",
   "metadata": {
    "slideshow": {
     "slide_type": "fragment"
    }
   },
   "source": [
    "La figura representa un arreglo de diez casillas, cada una de las cuales se puede utilizar para guardar un dato. La *dimensión* o tamaño de un arreglo es el número de casillas que lo conforman. Debe ser claro, entonces, que la figura anterior corresponde a un arreglo de dimensión $10$. "
   ]
  },
  {
   "cell_type": "markdown",
   "metadata": {
    "slideshow": {
     "slide_type": "subslide"
    }
   },
   "source": [
    "Cada una de las casillas de un arreglo tiene asociado un número que la identifica de manera única. A este número se le llama índice o dirección. En la figura anterior, arriba de cada casilla, aparece su índice. En lenguajes como `C`, `C++`, `Java` y `Python`, la primera casilla del arreglo tiene índice $0$, la segunda tiene índice $1$, la tercera índice $2$, y así sucesivamente. Es muy importante tener presente que si el arreglo es de dimensión $N$, la última casilla tiene índice $N-1$. En lenguajes como el `Fortran`, `Matlab`, y otros, la primera casilla de un arreglo tiene índice $1$ y el de la última es $N$."
   ]
  },
  {
   "cell_type": "markdown",
   "metadata": {
    "slideshow": {
     "slide_type": "fragment"
    }
   },
   "source": [
    "Los lenguajes de programación, permiten que el programador declare arreglos de cualquier tipo y prácticamente de cualquier tamaño. En seudolenguaje, un arreglo se declara usando el siguiente formato:"
   ]
  },
  {
   "cell_type": "raw",
   "metadata": {
    "slideshow": {
     "slide_type": "fragment"
    }
   },
   "source": [
    "<Nombre>: arreglo [N] de <Tipo>"
   ]
  },
  {
   "cell_type": "markdown",
   "metadata": {
    "slideshow": {
     "slide_type": "fragment"
    }
   },
   "source": [
    "si se quiere declarar un arreglo con nombre \"letras\", de dimensión $15$ y que pueda almacenar datos de tipo caracter, se debe escribir la siguiente línea."
   ]
  },
  {
   "cell_type": "raw",
   "metadata": {
    "slideshow": {
     "slide_type": "fragment"
    }
   },
   "source": [
    "letras: arreglo [15] de caracter"
   ]
  },
  {
   "cell_type": "markdown",
   "metadata": {
    "slideshow": {
     "slide_type": "subslide"
    }
   },
   "source": [
    "Los índices se crearon para permitir que el programador se pueda referir, de forma específica, a una cualquiera de las casillas del arreglo, tanto para guardar un dato en esa casilla, como para obtener el dato guardado. Para referirse a una casilla particular de un arreglo se debe seguir el siguiente formato: "
   ]
  },
  {
   "cell_type": "raw",
   "metadata": {
    "slideshow": {
     "slide_type": "fragment"
    }
   },
   "source": [
    "<NOMBRE>[<INDICE>]"
   ]
  },
  {
   "cell_type": "markdown",
   "metadata": {
    "slideshow": {
     "slide_type": "fragment"
    }
   },
   "source": [
    "como ejemplo:"
   ]
  },
  {
   "cell_type": "raw",
   "metadata": {
    "slideshow": {
     "slide_type": "fragment"
    }
   },
   "source": [
    "datos: arreglo[10] de real\n",
    "datos[1] := 100"
   ]
  },
  {
   "cell_type": "markdown",
   "metadata": {
    "slideshow": {
     "slide_type": "subslide"
    }
   },
   "source": [
    "***Ejemplo:*** Como se crea un arreglo en *Python*:"
   ]
  },
  {
   "cell_type": "code",
   "execution_count": null,
   "metadata": {
    "slideshow": {
     "slide_type": "subslide"
    }
   },
   "outputs": [],
   "source": [
    "import numpy as np\n",
    "\n",
    "datos = np.zeros([10],dtype=int)\n",
    "datos[1] = 100\n",
    "i = 5\n",
    "while (i<10):\n",
    "    datos[i] = 550\n",
    "    i += 1\n",
    "print(datos)\n",
    "type(datos)"
   ]
  },
  {
   "cell_type": "code",
   "execution_count": null,
   "metadata": {},
   "outputs": [],
   "source": [
    "a = [1,\"Hola\",3,\"4\",5]\n",
    "b = [6,7,8,True,10.]\n",
    "\n",
    "c = a + b\n",
    "print(c)\n",
    "type(c)"
   ]
  },
  {
   "cell_type": "markdown",
   "metadata": {
    "slideshow": {
     "slide_type": "subslide"
    }
   },
   "source": [
    "Se entiende que los elementos están dispuestos (*ordered*) de izquierda a derecha.\n",
    "\n",
    "- La propiedad esencial de un arreglo es que se puede calcular la dirección de cualquier elemento dado en un tiempo constante.\n",
    "\n",
    "\n",
    "- El tiempo necesario para leer el valor de un solo elemento, o cambiarlo de valor, es de $\\mathcal{O}(1)$, es decir, se pueden tratar estas operaciones como si fueran elementales.\n",
    "\n",
    "\n",
    "- Toda operación que implique a todos los elementos de un arreglo requerirá más tiempo a medida que el tamaño de $n$ crece (el tamaño del arreglo).\n",
    "\n",
    "\n",
    "- Una operación como dar valor inicial a todos los elementos de un arreglo $1D$ o buscar el mayor elemento, requerirá un tiempo proporcional al número de elementos a examinar ($t(n)=\\mathcal{O}(n)$). En un arreglo $2D$ es de $t(n)=\\mathcal{O}(n^2)$.\n",
    "\n",
    "Los arreglos unidimensionales permiten implementar de forma eficiente las estructuras de datos denominadas *pilas* y *colas*.\n",
    "\n",
    "[Volver a la Tabla de Contenido](#TOC)"
   ]
  },
  {
   "cell_type": "markdown",
   "metadata": {},
   "source": [
    "#### Arreglos n-D"
   ]
  },
  {
   "cell_type": "markdown",
   "metadata": {},
   "source": [
    "Un arreglo bi-dimensional, o $2-D$, es básicamente un arreglo de arreglos, en donde cada término del arreglo es en sí un arreglo. Para acceder a un elemento se debe indicar con dos índices. A este tipo de estructuras se les denomina matriz o tabla, porque se puede entender como una información organizada en filas y columnas.\n",
    "\n",
    "Esta idea se puede generalizar para obtener arreglos $n$-dimensionales\n",
    "\n",
    "[Volver a la Tabla de Contenido](#TOC)"
   ]
  },
  {
   "cell_type": "markdown",
   "metadata": {},
   "source": [
    "#### Arreglos irregulares"
   ]
  },
  {
   "cell_type": "markdown",
   "metadata": {},
   "source": [
    "Son arreglos, o matrices, que no cuenta con una regularidad en la cantidad de elementos en sus filas. Es decir, la cantidad de elementos de una fila es diferente a las de las otras. Un ejemplo básico de arreglos irregulares puede ser el calendario anual, en donde no todos los meses tienen la misma cantidad de días. \n",
    "\n",
    "[Volver a la Tabla de Contenido](#TOC)"
   ]
  },
  {
   "cell_type": "markdown",
   "metadata": {
    "slideshow": {
     "slide_type": "slide"
    }
   },
   "source": [
    "### Listas (list)"
   ]
  },
  {
   "cell_type": "markdown",
   "metadata": {},
   "source": [
    "#### Definición y operaciones básicas en Listas"
   ]
  },
  {
   "cell_type": "markdown",
   "metadata": {},
   "source": [
    "Una *lista* es una colección de elementos (nodos) de información dispuestos en un cierto orden secuencial. A diferencia de los *arreglos*, el número de elementos de una *lista* no se prefija ni es limitado con anterioridad.\n",
    "\n",
    "Se define como una serie de $N$ elementos $E_1, E_2, \\ldots, E_N$, ordenados de manera consecutiva, es decir, el elemento $E_k$ (que se denomina elemento $k$*-ésimo*) es previo al elemento $E_{k+1}$. Si la lista contiene $0$ elementos se denomina como lista vacía.\n",
    "\n",
    "Es una estructura *lineal* en la que cada elemento de la lista, excepto el primero, tiene un único predecesor y cada elemento de la lista, excepto el último, tiene un único sucesor. La estructura de datos deberá permitir determinar cuál es el primer elemento, cuál el último y cuáles el predecesor y sucesor de cualquier elemento dado. Los nodos no necesitan estar localizados uno al lado del otro en la memoria, tal como se exige en un arreglo."
   ]
  },
  {
   "cell_type": "markdown",
   "metadata": {},
   "source": [
    "Con las listas se pueden realizar muchas operaciones:\n",
    "\n",
    "- construirla\n",
    "\n",
    "- obtener su tamaño\n",
    "\n",
    "- verificar si está vacía\n",
    "\n",
    "- obtener su primer elemento, usualmente llamado *head* o *cabeza*\n",
    "\n",
    "- insertar/eliminar un nuevo elemento en la posición $k$.\n",
    "\n",
    "- obtener el elemento para un índice dado.\n",
    "\n",
    "Entre muchas otras operaciones"
   ]
  },
  {
   "cell_type": "code",
   "execution_count": 22,
   "metadata": {},
   "outputs": [
    {
     "name": "stdout",
     "output_type": "stream",
     "text": [
      "<class 'list'>\n"
     ]
    }
   ],
   "source": [
    "# construcción de una lista no vacía\n",
    "lista0 = [0,1,2,3,4]\n",
    "print(type(lista))"
   ]
  },
  {
   "cell_type": "code",
   "execution_count": 23,
   "metadata": {},
   "outputs": [
    {
     "name": "stdout",
     "output_type": "stream",
     "text": [
      "5\n"
     ]
    }
   ],
   "source": [
    "# tamaño de una lista\n",
    "n = len(lista0)\n",
    "print(n)"
   ]
  },
  {
   "cell_type": "code",
   "execution_count": 24,
   "metadata": {},
   "outputs": [],
   "source": [
    "# Construcción lista vacia\n",
    "lista1 = []\n"
   ]
  },
  {
   "cell_type": "code",
   "execution_count": 25,
   "metadata": {},
   "outputs": [
    {
     "data": {
      "text/plain": [
       "0"
      ]
     },
     "execution_count": 25,
     "metadata": {},
     "output_type": "execute_result"
    }
   ],
   "source": [
    "# tamaño de una lista\n",
    "len(lista1)"
   ]
  },
  {
   "cell_type": "code",
   "execution_count": 26,
   "metadata": {},
   "outputs": [
    {
     "name": "stdout",
     "output_type": "stream",
     "text": [
      "lista1 es una lista vacía!\n"
     ]
    }
   ],
   "source": [
    "# verificación si es vacía o no\n",
    "if not lista1:\n",
    "    print(\"lista1 es una lista vacía!\")\n",
    "else:\n",
    "    print(\"lista1 no es una lista vacía!\")"
   ]
  },
  {
   "cell_type": "code",
   "execution_count": 27,
   "metadata": {},
   "outputs": [
    {
     "name": "stdout",
     "output_type": "stream",
     "text": [
      "0\n"
     ]
    }
   ],
   "source": [
    "#obtención primer elemento (cabeza, head)\n",
    "a0 = lista0[0]\n",
    "print(a0)"
   ]
  },
  {
   "cell_type": "code",
   "execution_count": 29,
   "metadata": {},
   "outputs": [
    {
     "name": "stdout",
     "output_type": "stream",
     "text": [
      "[0, 1, 'a', 2, 3, 4]\n"
     ]
    }
   ],
   "source": [
    "lista0.insert(2, 'a')\n",
    "print(lista0)"
   ]
  },
  {
   "cell_type": "markdown",
   "metadata": {},
   "source": [
    "Dos operaciones comunes son la indexación y la asignación a una posición indexada. Ambas operaciones toman la misma cantidad de tiempo sin importar cuán grande sea la lista. Cuando una operación como ésta es independiente del tamaño de la lista, se dice que es $\\mathcal{O}(1)$.\n",
    "\n",
    "Otra tarea de programación muy común es hacer crecer una lista. Hay dos maneras de crear una lista más larga. En `Python` puede utilizar el método `append` o el operador de concatenación, `+`. El método `append` es $\\mathcal{O}(1)$. Sin embargo, el operador de concatenación es $\\mathcal{O}(k)$ donde $k$ es el tamaño de la lista que está siendo concatenada. Es importante saber esto porque puede ayudar a hacer sus propios programas más eficientes eligiendo la herramienta de trabajo adecuada."
   ]
  },
  {
   "cell_type": "markdown",
   "metadata": {},
   "source": [
    "Veamos cuatro maneras diferentes de generar una lista de $n$ números comenzando con $0$. \n",
    "\n",
    "- Primero empleando un ciclo `for` y crear la lista por concatenación, \n",
    "\n",
    "\n",
    "- luego se usará `append` en lugar de la concatenación. \n",
    "\n",
    "\n",
    "- A continuación, se creará la lista utilizando comprensión de listas ([List Comprenhension](https://www.datacamp.com/community/tutorials/python-list-comprehension?utm_source=adwords_ppc \"List Comprenhension\")) y finalmente, y tal vez de la forma más obvia, \n",
    "\n",
    "\n",
    "- utilizando la función `range` envuelta por una llamada al constructor de la lista."
   ]
  },
  {
   "cell_type": "code",
   "execution_count": 35,
   "metadata": {},
   "outputs": [],
   "source": [
    "def prueba1():\n",
    "    l = []\n",
    "    for i in range(100):\n",
    "        l = l + [i]\n",
    "\n",
    "def prueba2():\n",
    "    l = []\n",
    "    for i in range(100):\n",
    "        l.append(i)\n",
    "\n",
    "def prueba3():\n",
    "    l = [i for i in range(100)]\n",
    "\n",
    "def prueba4():\n",
    "    l = list(range(100))"
   ]
  },
  {
   "cell_type": "code",
   "execution_count": 36,
   "metadata": {
    "collapsed": true
   },
   "outputs": [
    {
     "name": "stdout",
     "output_type": "stream",
     "text": [
      "Concatenación:  22.6675811\n",
      "Append:  6.596847200000003\n",
      "List Comprenhension 2.8783340000000024\n"
     ]
    },
    {
     "ename": "TypeError",
     "evalue": "'list' object is not callable",
     "output_type": "error",
     "traceback": [
      "\u001b[1;31m---------------------------------------------------------------------------\u001b[0m",
      "\u001b[1;31mTypeError\u001b[0m                                 Traceback (most recent call last)",
      "\u001b[1;32m<ipython-input-36-56383e2af78b>\u001b[0m in \u001b[0;36m<module>\u001b[1;34m\u001b[0m\n\u001b[0;32m      9\u001b[0m     \u001b[0mprint\u001b[0m\u001b[1;33m(\u001b[0m\u001b[1;34m\"List Comprenhension\"\u001b[0m\u001b[1;33m,\u001b[0m\u001b[0mtimeit\u001b[0m\u001b[1;33m.\u001b[0m\u001b[0mtimeit\u001b[0m\u001b[1;33m(\u001b[0m\u001b[1;34m\"prueba3()\"\u001b[0m\u001b[1;33m,\u001b[0m \u001b[0msetup\u001b[0m\u001b[1;33m=\u001b[0m\u001b[1;34m\"from __main__ import prueba3\"\u001b[0m\u001b[1;33m)\u001b[0m\u001b[1;33m)\u001b[0m\u001b[1;33m\u001b[0m\u001b[1;33m\u001b[0m\u001b[0m\n\u001b[0;32m     10\u001b[0m \u001b[1;33m\u001b[0m\u001b[0m\n\u001b[1;32m---> 11\u001b[1;33m     \u001b[0mprint\u001b[0m\u001b[1;33m(\u001b[0m\u001b[1;34m\"Range: \"\u001b[0m\u001b[1;33m,\u001b[0m \u001b[0mtimeit\u001b[0m\u001b[1;33m.\u001b[0m\u001b[0mtimeit\u001b[0m\u001b[1;33m(\u001b[0m\u001b[1;34m\"prueba4()\"\u001b[0m\u001b[1;33m,\u001b[0m \u001b[0msetup\u001b[0m\u001b[1;33m=\u001b[0m\u001b[1;34m\"from __main__ import prueba4\"\u001b[0m\u001b[1;33m)\u001b[0m\u001b[1;33m)\u001b[0m\u001b[1;33m\u001b[0m\u001b[1;33m\u001b[0m\u001b[0m\n\u001b[0m",
      "\u001b[1;32m~\\Anaconda3\\lib\\timeit.py\u001b[0m in \u001b[0;36mtimeit\u001b[1;34m(stmt, setup, timer, number, globals)\u001b[0m\n\u001b[0;32m    231\u001b[0m            number=default_number, globals=None):\n\u001b[0;32m    232\u001b[0m     \u001b[1;34m\"\"\"Convenience function to create Timer object and call timeit method.\"\"\"\u001b[0m\u001b[1;33m\u001b[0m\u001b[1;33m\u001b[0m\u001b[0m\n\u001b[1;32m--> 233\u001b[1;33m     \u001b[1;32mreturn\u001b[0m \u001b[0mTimer\u001b[0m\u001b[1;33m(\u001b[0m\u001b[0mstmt\u001b[0m\u001b[1;33m,\u001b[0m \u001b[0msetup\u001b[0m\u001b[1;33m,\u001b[0m \u001b[0mtimer\u001b[0m\u001b[1;33m,\u001b[0m \u001b[0mglobals\u001b[0m\u001b[1;33m)\u001b[0m\u001b[1;33m.\u001b[0m\u001b[0mtimeit\u001b[0m\u001b[1;33m(\u001b[0m\u001b[0mnumber\u001b[0m\u001b[1;33m)\u001b[0m\u001b[1;33m\u001b[0m\u001b[1;33m\u001b[0m\u001b[0m\n\u001b[0m\u001b[0;32m    234\u001b[0m \u001b[1;33m\u001b[0m\u001b[0m\n\u001b[0;32m    235\u001b[0m def repeat(stmt=\"pass\", setup=\"pass\", timer=default_timer,\n",
      "\u001b[1;32m~\\Anaconda3\\lib\\timeit.py\u001b[0m in \u001b[0;36mtimeit\u001b[1;34m(self, number)\u001b[0m\n\u001b[0;32m    176\u001b[0m         \u001b[0mgc\u001b[0m\u001b[1;33m.\u001b[0m\u001b[0mdisable\u001b[0m\u001b[1;33m(\u001b[0m\u001b[1;33m)\u001b[0m\u001b[1;33m\u001b[0m\u001b[1;33m\u001b[0m\u001b[0m\n\u001b[0;32m    177\u001b[0m         \u001b[1;32mtry\u001b[0m\u001b[1;33m:\u001b[0m\u001b[1;33m\u001b[0m\u001b[1;33m\u001b[0m\u001b[0m\n\u001b[1;32m--> 178\u001b[1;33m             \u001b[0mtiming\u001b[0m \u001b[1;33m=\u001b[0m \u001b[0mself\u001b[0m\u001b[1;33m.\u001b[0m\u001b[0minner\u001b[0m\u001b[1;33m(\u001b[0m\u001b[0mit\u001b[0m\u001b[1;33m,\u001b[0m \u001b[0mself\u001b[0m\u001b[1;33m.\u001b[0m\u001b[0mtimer\u001b[0m\u001b[1;33m)\u001b[0m\u001b[1;33m\u001b[0m\u001b[1;33m\u001b[0m\u001b[0m\n\u001b[0m\u001b[0;32m    179\u001b[0m         \u001b[1;32mfinally\u001b[0m\u001b[1;33m:\u001b[0m\u001b[1;33m\u001b[0m\u001b[1;33m\u001b[0m\u001b[0m\n\u001b[0;32m    180\u001b[0m             \u001b[1;32mif\u001b[0m \u001b[0mgcold\u001b[0m\u001b[1;33m:\u001b[0m\u001b[1;33m\u001b[0m\u001b[1;33m\u001b[0m\u001b[0m\n",
      "\u001b[1;32m~\\Anaconda3\\lib\\timeit.py\u001b[0m in \u001b[0;36minner\u001b[1;34m(_it, _timer)\u001b[0m\n",
      "\u001b[1;32m<ipython-input-35-e93d7c90e482>\u001b[0m in \u001b[0;36mprueba4\u001b[1;34m()\u001b[0m\n\u001b[0;32m     13\u001b[0m \u001b[1;33m\u001b[0m\u001b[0m\n\u001b[0;32m     14\u001b[0m \u001b[1;32mdef\u001b[0m \u001b[0mprueba4\u001b[0m\u001b[1;33m(\u001b[0m\u001b[1;33m)\u001b[0m\u001b[1;33m:\u001b[0m\u001b[1;33m\u001b[0m\u001b[1;33m\u001b[0m\u001b[0m\n\u001b[1;32m---> 15\u001b[1;33m     \u001b[0ml\u001b[0m \u001b[1;33m=\u001b[0m \u001b[0mlist\u001b[0m\u001b[1;33m(\u001b[0m\u001b[0mrange\u001b[0m\u001b[1;33m(\u001b[0m\u001b[1;36m100\u001b[0m\u001b[1;33m)\u001b[0m\u001b[1;33m)\u001b[0m\u001b[1;33m\u001b[0m\u001b[1;33m\u001b[0m\u001b[0m\n\u001b[0m",
      "\u001b[1;31mTypeError\u001b[0m: 'list' object is not callable"
     ]
    }
   ],
   "source": [
    "if __name__ == '__main__':\n",
    "    \n",
    "    import timeit\n",
    "    \n",
    "    print(\"Concatenación: \",timeit.timeit(\"prueba1()\", setup=\"from __main__ import prueba1\"))\n",
    "    \n",
    "    print(\"Append: \", timeit.timeit(\"prueba2()\", setup=\"from __main__ import prueba2\"))\n",
    "    \n",
    "    print(\"List Comprenhension\",timeit.timeit(\"prueba3()\", setup=\"from __main__ import prueba3\"))\n",
    "  \n",
    "    print(\"Range: \", timeit.timeit(\"prueba4()\", setup=\"from __main__ import prueba4\"))    "
   ]
  },
  {
   "cell_type": "markdown",
   "metadata": {
    "slideshow": {
     "slide_type": "subslide"
    }
   },
   "source": [
    "Es interesante poder determinar el desempeño de las operaciones básicas aplicadas a las listas (en este caso las implementadas en *Python*). "
   ]
  },
  {
   "cell_type": "markdown",
   "metadata": {
    "slideshow": {
     "slide_type": "subslide"
    }
   },
   "source": [
    "| Operación            | $\\mathcal{O}$          |\n",
    "|:---------------------|:----------------------:|\n",
    "| Indización           | $\\mathcal{O}(1)$       |\n",
    "| Asignación indizada  | $\\mathcal{O}(1)$       |\n",
    "| append               | $\\mathcal{O}(1)$       |\n",
    "| pop()                | $\\mathcal{O}(1)$       |\n",
    "| pop(i)               | $\\mathcal{O}(n)$       |\n",
    "| insert(i,item)       | $\\mathcal{O}(n)$       |\n",
    "| del                  | $\\mathcal{O}(n)$       |\n",
    "| iteración            | $\\mathcal{O}(n)$       |\n",
    "| in                   | $\\mathcal{O}(n)$       |\n",
    "| slicing: [x:y]       | $\\mathcal{O}(k)$       |\n",
    "| eliminar una porción | $\\mathcal{O}(n)$       |\n",
    "| asignar una porción  | $\\mathcal{O}(n+k)$     |\n",
    "| reverse              | $\\mathcal{O}(n)$       |\n",
    "| concatenar           | $\\mathcal{O}(k)$       |\n",
    "| ordenar              | $\\mathcal{O}(n \\log n)$ |\n",
    "| multiplicar          | $\\mathcal{O}(nk)$      |"
   ]
  },
  {
   "cell_type": "markdown",
   "metadata": {
    "slideshow": {
     "slide_type": "subslide"
    }
   },
   "source": [
    "De esta tabla es de especial interés lo que sucede con la operación `pop` que presenta dos tiempos diferentes.\n",
    "\n",
    "- Cuando `pop` es llamado sobre el final de la lista se tarda $\\mathcal{O}(1)$\n",
    "\n",
    "\n",
    "- Cuando `pop`es llamado sobre el primer elemento de la lista, o en cualquier punto intermedio, es de $\\mathcal{O}(n)$.\n",
    "\n",
    "\n",
    "Esto es debido a la forma como *Python* elige implementar las listas.\n",
    "\n",
    "\n",
    "- Cuando un elemento se toma del frente de la lista, en la implementación de *Python*, todos los demás elementos de la lista se desplazan una posición más cerca del inicio. \n",
    "\n",
    "\n",
    "- Esto puede parecer tonto ahora, pero si nos fijamos en la Tabla veremos que esta implementación también permite que la operación de indización sea $\\mathcal{O}(1)$. Éste es un sacrificio mutuo que los implementadores de *Python* pensaron que era bueno."
   ]
  },
  {
   "cell_type": "markdown",
   "metadata": {},
   "source": [
    "[Volver a la Tabla de Contenido](#TOC)"
   ]
  },
  {
   "cell_type": "markdown",
   "metadata": {},
   "source": [
    "#### Arreglos vs Listas"
   ]
  },
  {
   "cell_type": "markdown",
   "metadata": {},
   "source": [
    "De lo que hemos visto tanto las listas como los arreglos se utilizan para almacenar datos. Además, ambas estructuras de datos permiten indexar, particionar (*slicing*) e iterar.Hasta aquí pareciera que las listas y los arreglos son lo mismo. La mayor diferencia está en la idea de acceso directo versus acceso secuencial. Los arreglos permiten ambos; acceso directo y secuencial, mientras que las listas solo permiten el acceso secuencial. Y esto se debe a la forma en que estas estructuras de datos se almacenan en la memoria. La estructura de la lista no admite índices numéricos como sí lo permite un arreglo.\n"
   ]
  },
  {
   "cell_type": "markdown",
   "metadata": {},
   "source": [
    "[Volver a la Tabla de Contenido](#TOC)"
   ]
  },
  {
   "cell_type": "markdown",
   "metadata": {},
   "source": [
    "#### Acceso Secuencial vs Directo"
   ]
  },
  {
   "cell_type": "markdown",
   "metadata": {},
   "source": [
    "El acceso secuencial debe comenzar desde el principio y acceder a cada elemento en orden, uno tras otro. El acceso directo permite el acceso de cualquier elemento directamente ubicándolo por su número de índice o dirección. Las matrices permiten el acceso directo. La cinta magnética solo tiene acceso secuencial, pero los CD tienen acceso directo. Si está en un tren de ferrocarril, para ir de un vagón a otro debe utilizar el acceso secuencial. Pero cuando subes al tren inicialmente tienes acceso directo. El acceso directo es más rápido que el acceso secuencial, pero requiere algún mecanismo externo (índice de matriz, número de byte de archivo, plataforma de ferrocarril)\n",
    "\n",
    "<p float=\"center\">\n",
    "  <img src=\"https://github.com/carlosalvarezh/Analisis_de_Algoritmos/blob/master/images/DirectSequentialAccess.png?raw=true\" width=\"750\" />\n",
    "</p>\n",
    "\n"
   ]
  },
  {
   "cell_type": "markdown",
   "metadata": {},
   "source": [
    "[Volver a la Tabla de Contenido](#TOC)"
   ]
  },
  {
   "cell_type": "markdown",
   "metadata": {},
   "source": [
    "#### Diferencia entre Arreglos y Listas"
   ]
  },
  {
   "cell_type": "markdown",
   "metadata": {},
   "source": [
    "Ahora que conocemos sus definiciones y características, podemos hablar sobre las diferencias entre listas y arreglos (en `Python`):\n",
    "\n",
    "- Los arreglos deben declararse. Las listas no, ya que están integradas en `Python`. En los ejemplos anteriores, vio que las listas se crean simplemente encerrando una secuencia de elementos entre corchetes. La creación de un arreglo, por otro lado, requiere una función específica del módulo `array` (es decir, `array.array()`) o del paquete `NumPy` (es decir, `numpy.array()`). Debido a esto, las listas se utilizan con más frecuencia que los arreglos.\n",
    "\n",
    "\n",
    "- Los arreglos pueden almacenar datos de forma muy compacta y son más eficientes para almacenar grandes cantidades de datos.\n",
    "\n",
    "\n",
    "- Los arreglos son ideales para operaciones numéricas; las listas no pueden manejar directamente operaciones matemáticas. Por ejemplo, puede dividir cada elemento de un arreglo por el mismo número con solo una línea de código. Si intenta lo mismo con una lista, obtendrá un error."
   ]
  },
  {
   "cell_type": "markdown",
   "metadata": {},
   "source": [
    "***Ejemplo:*** Para tratar de ver mejor la diferencia entre el comportamiento de una lista y el de un arreglo, realizaremos el siguiente ejemplo.\n",
    "\n",
    "Queremos sumar dos vectores, $\\vec{c} = \\vec{a} + \\vec{b}$. Recordemos que la suma vectorial se da término a término, es decir: $c_i = a_i + b_i$. \n",
    "\n",
    "Se desarrollará este ejemplo empleando primero listas y luego arreglos"
   ]
  },
  {
   "cell_type": "code",
   "execution_count": 32,
   "metadata": {},
   "outputs": [
    {
     "name": "stdout",
     "output_type": "stream",
     "text": [
      "<class 'list'>\n",
      "<class 'list'>\n",
      "[1, 2, 3, 4, 5, 6]\n"
     ]
    }
   ],
   "source": [
    "# Ejemplo suma vectorial empleando listas\n",
    "\n",
    "a = [1,2,3]\n",
    "b = [4,5,6]\n",
    "\n",
    "print(type(a))\n",
    "print(type(b))\n",
    "\n",
    "c = a + b\n",
    "print(c)\n"
   ]
  },
  {
   "cell_type": "markdown",
   "metadata": {},
   "source": [
    "Como se observa, empleando solo listas el resultado del operando suma es el de una concatenación de las listas $a$ y $b$. Para poder desarrollar la suma, deberá hacerse explícitamente término a término, más o menos así:"
   ]
  },
  {
   "cell_type": "code",
   "execution_count": 37,
   "metadata": {},
   "outputs": [
    {
     "name": "stdout",
     "output_type": "stream",
     "text": [
      "[5, 7, 9]\n",
      "<class 'list'>\n"
     ]
    }
   ],
   "source": [
    "a = [1,2,3]                # lista a\n",
    "b = [4,5,6]                # lista b\n",
    "c = []                     # lista vacía que almacenará el resultado de la suma\n",
    "\n",
    "for i in range(len(a)):\n",
    "    ci = a[i] + b[i]       # valor de la suma en la posición i\n",
    "    c.append(ci)           # adiciono el término al vector c\n",
    "print(c)\n",
    "print(type(c))"
   ]
  },
  {
   "cell_type": "markdown",
   "metadata": {},
   "source": [
    "Para desarrollar dicha suma, deberá realizarse la suma de forma explícita, empleando un ciclo `for`. \n",
    "\n",
    "Vamos ahora a realizar la suma empleando arreglos. Para ello, debemos cargar la biblioteca numérica `numpy` que contiene las funciones para crear arregos, `array`."
   ]
  },
  {
   "cell_type": "code",
   "execution_count": 38,
   "metadata": {},
   "outputs": [
    {
     "name": "stdout",
     "output_type": "stream",
     "text": [
      "[5 7 9]\n",
      "<class 'numpy.ndarray'>\n"
     ]
    }
   ],
   "source": [
    "import numpy as np\n",
    "\n",
    "a = np.array([1,2,3])      # arreglo a\n",
    "b = np.array([4,5,6])      # arreglo b\n",
    "\n",
    "c = a + b\n",
    "print(c)\n",
    "print(type(c))"
   ]
  },
  {
   "cell_type": "markdown",
   "metadata": {},
   "source": [
    "[Volver a la Tabla de Contenido](#TOC)"
   ]
  },
  {
   "cell_type": "markdown",
   "metadata": {
    "slideshow": {
     "slide_type": "subslide"
    }
   },
   "source": [
    "### Pilas (Stacks)"
   ]
  },
  {
   "cell_type": "markdown",
   "metadata": {
    "slideshow": {
     "slide_type": "slide"
    }
   },
   "source": [
    "Al igual que los arreglos y las listas, las pilas (*stacks*) son una colección de elementos. Son solo diferentes formas en las que podemos guardar varios elementos. Es una estructura de datos que siguen el principio *LIFO* (*last-in / first-out*): último en entrar, primero en salir, sin importar los índices numéricos. Su nombre se deriva de la metáfora de una pila de platos en una cocina. \n",
    "\n",
    "<p float=\"center\">\n",
    "  <img src=\"https://github.com/carlosalvarezh/Analisis_de_Algoritmos/blob/master/images/Stacks02.jpg?raw=true\" width=\"200\" />\n",
    "</p>\n"
   ]
  },
  {
   "cell_type": "markdown",
   "metadata": {},
   "source": [
    "La implementación de una pila es relativamente simple, basta con usar una lista o un arreglo. Los datos se insertan o se retiran por el mismo extremo llamado “parte superior” de la *pila*, o \"tope\". El último elemento en entrar es el único accesible en cada momento.\n",
    "\n",
    "<p float=\"center\">\n",
    "  <img src=\"https://github.com/carlosalvarezh/Analisis_de_Algoritmos/blob/master/images/Pila01.png?raw=true\" width=\"200\" />\n",
    "</p>\n"
   ]
  },
  {
   "cell_type": "markdown",
   "metadata": {},
   "source": [
    "[Volver a la Tabla de Contenido](#TOC)"
   ]
  },
  {
   "cell_type": "markdown",
   "metadata": {},
   "source": [
    "#### Operaciones Básicas en Pilas:"
   ]
  },
  {
   "cell_type": "markdown",
   "metadata": {
    "slideshow": {
     "slide_type": "subslide"
    }
   },
   "source": [
    "- ***Push***\n",
    "\n",
    "Existe solamente un lugar en donde cualquier elemento puede ser agregado a la pila.\n",
    "\n",
    "<p float=\"center\">\n",
    "  <img src=\"https://github.com/carlosalvarezh/Analisis_de_Algoritmos/blob/master/images/Pila03.png?raw=true\" width=\"200\" />\n",
    "</p>\n",
    "\n",
    "Después de haber insertado el nuevo elemento, $G$ ahora es el elemento en la cima."
   ]
  },
  {
   "cell_type": "markdown",
   "metadata": {
    "slideshow": {
     "slide_type": "subslide"
    }
   },
   "source": [
    "- ***Pop***\n",
    "\n",
    "Basta indicar que sea retirado un elemento. \n",
    "\n",
    "<p float=\"center\">\n",
    "  <img src=\"https://github.com/carlosalvarezh/Analisis_de_Algoritmos/blob/master/images/Pila04.png?raw=true\" width=\"300\" />\n",
    "</p>\n",
    "\n",
    "No podemos decir “*retirar* $C$”, porque $C$ no está en la cima de la pila."
   ]
  },
  {
   "cell_type": "markdown",
   "metadata": {},
   "source": [
    "[Volver a la Tabla de Contenido](#TOC)"
   ]
  },
  {
   "cell_type": "markdown",
   "metadata": {},
   "source": [
    "#### Aplicaciones de las pilas"
   ]
  },
  {
   "cell_type": "markdown",
   "metadata": {},
   "source": [
    "El uso de las pilas no se limita a modelar solo las situaciones del mundo real.\n",
    "\n",
    "***Evaluación de expresiones y análisis sintáctico***\n",
    "\n",
    "- Análisis de código o expresiones, donde necesita hacer algo como validar la cantidad correcta de llaves, corchetes o paréntesis de apertura y cierre.\n",
    "\n",
    "\n",
    "***Navegador Web***\n",
    "\n",
    "- Se almacenan los sitios previamente visitados\n",
    "\n",
    "- Cuando el usuario quiere regresar (presiona el botón de retroceso), simplemente se extrae la última dirección (pop) de la pila de sitios visitados.\n",
    "\n",
    "***Editores de texto***\n",
    "\n",
    "- Los cambios efectuados se almacenan en una pila.\n",
    "\n",
    "-  Usualmente implementada como arreglo.\n",
    "\n",
    "- Usuario puede deshacer los cambios mediante la operación “undo”, la cual extraer el estado del texto antes del último cambio realizado."
   ]
  },
  {
   "cell_type": "markdown",
   "metadata": {
    "slideshow": {
     "slide_type": "subslide"
    }
   },
   "source": [
    "***Ejemplo:***\n",
    "\n",
    "<p float=\"center\">\n",
    "  <img src=\"https://github.com/carlosalvarezh/Analisis_de_Algoritmos/blob/master/images/Pila05.png?raw=true\" width=\"500\" />\n",
    "</p>\n"
   ]
  },
  {
   "cell_type": "markdown",
   "metadata": {},
   "source": [
    "[Volver a la Tabla de Contenido](#TOC)"
   ]
  },
  {
   "cell_type": "markdown",
   "metadata": {},
   "source": [
    "#### Implementación de las Pilas"
   ]
  },
  {
   "cell_type": "markdown",
   "metadata": {},
   "source": [
    "Una *pila* está conformada por dos elementos:\n",
    "\n",
    "- Un espacio suficiente para almacenar los elementos insertados en la *pila*.\n",
    "\n",
    "\n",
    "- Una elemento que indique cuál es el elemento en la cima de la *pila*.\n",
    "\n",
    "Vamos a implementar ahora una pila en `Python` empleando listas"
   ]
  },
  {
   "cell_type": "code",
   "execution_count": 49,
   "metadata": {},
   "outputs": [
    {
     "name": "stdout",
     "output_type": "stream",
     "text": [
      "pila inicial:  ['a', 'b', 'c']\n"
     ]
    }
   ],
   "source": [
    "pila = []\n",
    "\n",
    "pila.append('a')\n",
    "pila.append('b')\n",
    "pila.append('c')\n",
    "\n",
    "print('pila inicial: ', pila)"
   ]
  },
  {
   "cell_type": "code",
   "execution_count": 50,
   "metadata": {},
   "outputs": [
    {
     "name": "stdout",
     "output_type": "stream",
     "text": [
      "\n",
      "Elementos retirados de la pila:\n",
      "c\n",
      "b\n",
      "a\n",
      "\n",
      "pila después del retiro de los elements:\n",
      "[]\n"
     ]
    }
   ],
   "source": [
    "print('\\nElementos retirados de la pila:')\n",
    "print(pila.pop())\n",
    "print(pila.pop())\n",
    "print(pila.pop())\n",
    " \n",
    "print('\\npila después del retiro de los elements:')\n",
    "print(pila)"
   ]
  },
  {
   "cell_type": "markdown",
   "metadata": {},
   "source": [
    "La estructura de datos `list` incorporada de `Python` se puede usar como una pila. En lugar de `push()`, se usa `append()` para agregar elementos a la parte superior de la pila, mientras que `pop()` elimina el elemento en orden *LIFO*.\n",
    "\n",
    "Desafortunadamente, la lista tiene algunas deficiencias. El mayor problema es que puede tener problemas de velocidad a medida que crece. Los elementos de la lista se almacenan uno al lado del otro en la memoria, si la pila crece más que el bloque de memoria que lo contiene actualmente, entonces Python necesita hacer algunas asignaciones de memoria. Esto puede hacer que algunas llamadas de `append()` tarden mucho más que otras.\n",
    "\n",
    "Veamos ahora otro ejemplo empleando una biblioteca especializada en `python` para trabar como arreglos"
   ]
  },
  {
   "cell_type": "code",
   "execution_count": 59,
   "metadata": {},
   "outputs": [
    {
     "name": "stdout",
     "output_type": "stream",
     "text": [
      "pila inicial:\n",
      "deque(['a', 'b', 'c'])\n",
      "<class 'collections.deque'>\n"
     ]
    }
   ],
   "source": [
    "from collections import deque\n",
    " \n",
    "pila = deque()\n",
    " \n",
    "# función append() para empujar (push)el elemento en la pila\n",
    "pila.append('a')\n",
    "pila.append('b')\n",
    "pila.append('c')\n",
    " \n",
    "print('pila inicial:')\n",
    "print(pila)\n",
    "print(type(pila))"
   ]
  },
  {
   "cell_type": "code",
   "execution_count": 60,
   "metadata": {},
   "outputs": [
    {
     "name": "stdout",
     "output_type": "stream",
     "text": [
      "\n",
      "Elementos salidos de la pila:\n",
      "c\n",
      "b\n",
      "a\n",
      "\n",
      "Pila después de retirados los elementos:\n",
      "deque([])\n"
     ]
    }
   ],
   "source": [
    "# función pop () para sacar el elemento de la pila en orden LIFO\n",
    "print('\\nElementos salidos de la pila:')\n",
    "print(pila.pop())\n",
    "print(pila.pop())\n",
    "print(pila.pop())\n",
    " \n",
    "print('\\nPila después de retirados los elementos:')\n",
    "print(pila)"
   ]
  },
  {
   "cell_type": "markdown",
   "metadata": {},
   "source": [
    "[Volver a la Tabla de Contenido](#TOC)"
   ]
  },
  {
   "cell_type": "markdown",
   "metadata": {},
   "source": [
    "### Cola (queue)"
   ]
  },
  {
   "cell_type": "markdown",
   "metadata": {
    "slideshow": {
     "slide_type": "subslide"
    }
   },
   "source": [
    "De manera similar a las *pilas*, las *colas* definen una estructura no estándar, de manera que se debe crear un nuevo tipo de dado, el tipo *cola*, que debe tener los\n",
    "siguientes elementos:\n",
    "\n",
    "\n",
    "- Un arreglo de $n$ elementos de algún tipo específico, puede incluso ser un tipo estándar o no.\n",
    "\n",
    "\n",
    "- Un número que indica el elemento que está en la posición del frente de la *cola*.\n",
    "\n",
    "\n",
    "- Un número que indica el elemento que está en la posición trasera de la *cola*."
   ]
  },
  {
   "cell_type": "markdown",
   "metadata": {},
   "source": [
    "[Volver a la Tabla de Contenido](#TOC)"
   ]
  },
  {
   "cell_type": "markdown",
   "metadata": {
    "slideshow": {
     "slide_type": "slide"
    }
   },
   "source": [
    "Su nombre se deriva de la metáfora de una cola de personas en una taquilla. La inserción y extracción de elementos de la cola siguen el principio *FIFO* (*first-in/first-out*). El elemento con más tiempo en la cola es el que puede ser extraído.\n",
    "\n",
    "<p float=\"center\">\n",
    "  <img src=\"https://github.com/carlosalvarezh/Analisis_de_Algoritmos/blob/master/images/Cola00.png?raw=true\" width=\"150\" />\n",
    "</p>\n"
   ]
  },
  {
   "cell_type": "markdown",
   "metadata": {
    "slideshow": {
     "slide_type": "subslide"
    }
   },
   "source": [
    "En una cola hay dos extremos, uno es llamado la parte delantera y el otro extremo se llama la parte trasera de la cola. En una cola, los elementos se retiran por la parte delantera y se agregan por la parte trasera.\n",
    "\n",
    "<p float=\"center\">\n",
    "  <img src=\"https://github.com/carlosalvarezh/Analisis_de_Algoritmos/blob/master/images/Cola01.png?raw=true\" width=\"250\" />\n",
    "</p>\n"
   ]
  },
  {
   "cell_type": "markdown",
   "metadata": {},
   "source": [
    "[Volver a la Tabla de Contenido](#TOC)"
   ]
  },
  {
   "cell_type": "markdown",
   "metadata": {},
   "source": [
    "#### Operaciones Básicas en Colas:"
   ]
  },
  {
   "cell_type": "markdown",
   "metadata": {
    "slideshow": {
     "slide_type": "subslide"
    }
   },
   "source": [
    "- ***Enqueue (meter):*** añade un nuevo elemento al final de la cola.\n",
    "\n",
    "\n",
    "- ***Dequeue: (sacar):*** elimina (saca) el primer elemento de la cola."
   ]
  },
  {
   "cell_type": "markdown",
   "metadata": {
    "slideshow": {
     "slide_type": "subslide"
    }
   },
   "source": [
    "***Ejemplo***\n",
    "\n",
    "<p float=\"center\">\n",
    "  <img src=\"https://github.com/carlosalvarezh/Analisis_de_Algoritmos/blob/master/images/Cola02.png?raw=true\" width=\"350\" />\n",
    "</p>\n"
   ]
  },
  {
   "cell_type": "markdown",
   "metadata": {},
   "source": [
    "[Volver a la Tabla de Contenido](#TOC)"
   ]
  },
  {
   "cell_type": "markdown",
   "metadata": {},
   "source": [
    "#### Aplicaciones de las colas"
   ]
  },
  {
   "cell_type": "markdown",
   "metadata": {
    "slideshow": {
     "slide_type": "subslide"
    }
   },
   "source": [
    "En general, operaciones en redes de computadoras.\n",
    "\n",
    "- Trabajos enviados a una impresora\n",
    "\n",
    "- Solicitudes a un servidor.\n",
    "\n",
    "Clientes solicitando ser atendidos por una telefonista."
   ]
  },
  {
   "cell_type": "markdown",
   "metadata": {},
   "source": [
    "[Volver a la Tabla de Contenido](#TOC)"
   ]
  },
  {
   "cell_type": "markdown",
   "metadata": {},
   "source": [
    "#### Implementación de la estructura cola"
   ]
  },
  {
   "cell_type": "markdown",
   "metadata": {},
   "source": [
    "***Próximamente***"
   ]
  },
  {
   "cell_type": "markdown",
   "metadata": {},
   "source": [
    "[Volver a la Tabla de Contenido](#TOC)"
   ]
  },
  {
   "cell_type": "markdown",
   "metadata": {},
   "source": [
    "## Árboles (Trees)"
   ]
  },
  {
   "cell_type": "markdown",
   "metadata": {},
   "source": [
    "***Próximamente***"
   ]
  },
  {
   "cell_type": "markdown",
   "metadata": {},
   "source": [
    "[Volver a la Tabla de Contenido](#TOC)"
   ]
  },
  {
   "cell_type": "markdown",
   "metadata": {
    "slideshow": {
     "slide_type": "slide"
    }
   },
   "source": [
    "## Grafos (Graphs)"
   ]
  },
  {
   "cell_type": "markdown",
   "metadata": {},
   "source": [
    "### Introducción"
   ]
  },
  {
   "cell_type": "markdown",
   "metadata": {},
   "source": [
    "Es una colección de nodos, donde un nodo puede vincularse a varios otros nodos, sin una secuencia específica, sin un nodo raíz.\n",
    "\n",
    "La idea básica de los grafos fue introducida por primera vez en el siglo XVIII por el matemático suizo Leonhard Euler. Sus intentos y la eventual solución al famoso problema del puente de Königsberg (actualmente llamada Kalingrado, Rusia) es enunciado comúnmente como origen de la teoría de grafos:\n",
    "\n",
    "\n",
    "<p float=\"center\">\n",
    "  <img src=\"https://github.com/carlosalvarezh/Analisis_de_Algoritmos/blob/master/images/Konigsberg.PNG?raw=true\" width=\"700\" />\n",
    "</p>\n",
    "\n",
    "El trazado geográfico está compuesto por cuatro cuerpos principales de tierra conectados por un total de siete puentes. La pregunta que se le hizo a Euler fue: \n",
    "\n",
    "***¿es posible dar un paseo por la ciudad de tal manera que se cruzara cada puente una vez, y solo una vez ?***\n",
    "\n",
    "Euler, reconociendo que las limitaciones relevantes eran los cuatro cuerpos de tierra y los siete puentes, dibujó la primera representación visual conocida de un grafo moderno. Un grafo moderno, como se ve en la tercera imagen, está representado por un conjunto de puntos, conocidos como *vértices* o *nodos* (*nodes*), conectados por un conjunto de líneas de conexión conocidas como *bordes* (*edges*)."
   ]
  },
  {
   "cell_type": "markdown",
   "metadata": {},
   "source": [
    "[Volver a la Tabla de Contenido](#TOC)"
   ]
  },
  {
   "cell_type": "markdown",
   "metadata": {},
   "source": [
    "### Grafos simples - Notación estándar"
   ]
  },
  {
   "cell_type": "markdown",
   "metadata": {},
   "source": [
    "El primer grafo de ejemplo que revisaremos contiene propiedades específicas que lo clasifican como un grafo simple. Los grafo simples son grafo cuyos vértices no están ponderados, no están dirigidos y no tienen múltiples aristas y bucles autodirigidos. Está bien no comprender los términos anteriores, ya que cubriremos las propiedades de los grafo en profundidad más adelante."
   ]
  },
  {
   "cell_type": "markdown",
   "metadata": {},
   "source": [
    "Por ahora, comencemos con una visualización de ejemplo a continuación:\n",
    "\n",
    "<p float=\"center\">\n",
    "  <img src=\"https://github.com/carlosalvarezh/Analisis_de_Algoritmos/blob/master/images/Graph01.png?raw=true\" width=\"250\" />\n",
    "</p>\n",
    "\n",
    "Las representaciones visual de un grafo, como la que se muestra arriba, contienen una gran cantidad de información útil; sin embargo, para descubrir estos datos de una manera que sea operativa, necesitamos una forma diferente de describir el grafo. Primero, sigamos adelante y anotemos el grafo anterior para comprender mejor la fórmula inicial $G = <V, E>$. Para comenzar a anotar, dado que a nuestros vértices les faltan etiquetas, seguimos adelante y asignamos a cualquier nodo aleatorio la etiqueta \"$A$\", luego recorremos el grafo etiquetando cada nodo con un carácter alfanumérico más grande que el anterior. "
   ]
  },
  {
   "cell_type": "markdown",
   "metadata": {},
   "source": [
    "Aún no es nada sofisticado, todo lo que hicimos fue asignar un carácter representativo a los vértices en el grafo anterior:\n",
    "\n",
    "<p float=\"center\">\n",
    "  <img src=\"https://github.com/carlosalvarezh/Analisis_de_Algoritmos/blob/master/images/Graph02.png?raw=true\" width=\"250\" />\n",
    "</p>\n"
   ]
  },
  {
   "cell_type": "markdown",
   "metadata": {},
   "source": [
    "Ahora, sigamos adelante y construyamos la notación numérica del grafo creando nuestros dos conjuntos de números: *vértices* y *aristas*. El primer conjunto del grafo de ejemplo, los vértices, es bastante sencillo: es un conjunto de caracteres $A – F$ (inclusive). Pero, ¿qué hay de nuestro conjunto de bordes? Sencillo. Recuerde que un borde es lo que conecta dos nodos. Entonces, se deduce que un borde puede ser representado por los dos nodos que conecta; lo que significa que el conjunto de aristas contiene una lista de vértices en forma de coordenadas. Por ejemplo, nuestra primera arista entre el vértice $A$ y el vértice $B$ se expresa mejor como $AB$. Sigamos adelante y escribamos la representación del conjunto para el resto del grafo:\n",
    "\n",
    "<p float=\"center\">\n",
    "  <img src=\"https://github.com/carlosalvarezh/Analisis_de_Algoritmos/blob/master/images/Graph03.png?raw=true\" width=\"300\" />\n",
    "</p>\n"
   ]
  },
  {
   "cell_type": "markdown",
   "metadata": {},
   "source": [
    "Como muestra la imagen de arriba, la notación estándar para nuestro grafo $G$ se puede describir perfectamente mediante dos conjuntos separados, uno que representa los *vértices* y otro que representa los *bordes*.\n",
    "\n",
    "Sin embargo, ¿es esta la mejor manera de anotar el grafo para realizar operaciones matemáticas y analíticas? ¿Qué tal si lo alimenta para que lo procese una computadora? Resulta que las matrices proporcionan un vehículo poderoso para transcribir grafo para un conjunto de datos más amigable para las computadoras. Revisemos los dos métodos principales y anotemos nuestro grafo de ejemplo en consecuencia."
   ]
  },
  {
   "cell_type": "markdown",
   "metadata": {},
   "source": [
    "[Volver a la Tabla de Contenido](#TOC)"
   ]
  },
  {
   "cell_type": "markdown",
   "metadata": {},
   "source": [
    "### Grafos simples - Notación matricial"
   ]
  },
  {
   "cell_type": "markdown",
   "metadata": {},
   "source": [
    "Los computadores son más expertos en manipular números que en reconocer imágenes. Esta es una de las muchas razones por las que es más común comunicar las especificaciones de un grafo a una computadora en forma de matriz. Dos tipos principales de configuraciones de matriz son prácticas de la industria: *matrices de adyacencia* y *matrices de incidencia*."
   ]
  },
  {
   "cell_type": "markdown",
   "metadata": {},
   "source": [
    "[Volver a la Tabla de Contenido](#TOC)"
   ]
  },
  {
   "cell_type": "markdown",
   "metadata": {},
   "source": [
    "#### Matriz de Adyacencia"
   ]
  },
  {
   "cell_type": "markdown",
   "metadata": {},
   "source": [
    "Los vértices conectados se conocen como vecinos o adyacentes entre sí. Por tanto, una matriz de adyacencia describe si dos vértices son adyacentes (1) o no (0). Cada elemento de una matriz de adyacencia es simplemente un booleano que describe la conectividad.\n",
    "\n",
    "En una matriz de adyacencia, el grafo $G$ con el conjunto de *vértices* $V$ y el conjunto de *aristas* $E$ se traduce en una matriz de tamaño $V^2$. Las filas y las columnas están etiquetadas después del mismo conjunto único de vértices para cualquier grafo $G$. Dentro de la matriz encontramos un 0 o un 1 (un 1 denota que el vértice etiquetado en la fila y el vértice etiquetado en la columna están conectados o, en términos más apropiados, son adyacentes). Una matriz de adyacencia, por lo tanto, es un grafo representado como una matriz donde los vértices adyacentes son el único foco. Sigamos adelante y transcribamos nuestro grafo de ejemplo como una matriz de adyacencia a continuación:\n",
    "\n",
    "<p float=\"center\">\n",
    "  <img src=\"https://github.com/carlosalvarezh/Analisis_de_Algoritmos/blob/master/images/Graph04.png?raw=true\" width=\"500\" />\n",
    "</p>\n"
   ]
  },
  {
   "cell_type": "markdown",
   "metadata": {},
   "source": [
    "[Volver a la Tabla de Contenido](#TOC)"
   ]
  },
  {
   "cell_type": "markdown",
   "metadata": {},
   "source": [
    "#### Matriz de Incidencia"
   ]
  },
  {
   "cell_type": "markdown",
   "metadata": {},
   "source": [
    "La segunda sintaxis común para transcribir grafos como matrices es a través de una matriz de incidencia. En una matriz de incidencia, el grafo $G$ con el conjunto de *vértices* $V$ y el conjunto de *aristas* $E$ se traduce en una matriz de tamaño $V$ por $E$. Las filas y columnas están etiquetadas después de los vértices y aristas respectivamente. Dentro de la matriz, nuevamente encontramos que todos los elementos están etiquetados como 0 o 1, más booleanos. Esta vez, sin embargo, un 1 indica que el vértice etiquetado en la fila y el borde etiquetado en la columna están conectados.\n",
    "\n",
    "Una propiedad interesante de las matrices de incidencia: la suma de todos los elementos de una columna siempre suma dos. Esto debería tener sentido intuitivamente, ya que todos y cada uno de los bordes de un gráfico simple solo tienen dos vértices conectados. Sigamos adelante y escribamos nuestro grafo de ejemplo como una matriz de incidencia:\n",
    "\n",
    "<p float=\"center\">\n",
    "  <img src=\"https://github.com/carlosalvarezh/Analisis_de_Algoritmos/blob/master/images/Graph05.png?raw=true\" width=\"500\" />\n",
    "</p>\n"
   ]
  },
  {
   "cell_type": "markdown",
   "metadata": {},
   "source": [
    "[Volver a la Tabla de Contenido](#TOC)"
   ]
  },
  {
   "cell_type": "markdown",
   "metadata": {},
   "source": [
    "#### Diferencias"
   ]
  },
  {
   "cell_type": "markdown",
   "metadata": {},
   "source": [
    "Comparando ambas notaciones matriciales podemos deducir algunos diferenciadores. Por un lado, dado que siempre hay más aristas que vértices, se deduce que las matrices de adyacencia tienen menos columnas que las matrices de incidencia. En consecuencia, las matrices de incidencia son más escasas (0 a 1), por lo tanto, probablemente menos informativas por elemento de la matriz. Por último, las matrices de adyacencia siempre siguen un patrón de matriz cuadrada, mientras que es mucho más probable que las matrices de incidencia representen un rectángulo.\n",
    "\n",
    "*La diferencia clave es que en las primeras filas y columnas representan vértices, mientras que en las últimas, las filas y columnas representan vértices y bordes respectivamente*."
   ]
  },
  {
   "cell_type": "markdown",
   "metadata": {},
   "source": [
    "[Volver a la Tabla de Contenido](#TOC)"
   ]
  },
  {
   "cell_type": "markdown",
   "metadata": {},
   "source": [
    "### Propiedades comunes en Grafos"
   ]
  },
  {
   "cell_type": "markdown",
   "metadata": {},
   "source": [
    "Los grafos, al igual que los sistemas dinámicos de objetos que representan, adoptan una cantidad insondable de formas y tamaños; por lo tanto, ayuda a crear un conjunto de propiedades para especificar atributos de grafos únicos. Examinemos las propiedades definitorias de nuestro grafos simple de ejemplo:\n",
    "\n",
    "- Bordes no dirigidos\n",
    "\n",
    "- Bordes no ponderados\n",
    "\n",
    "- Excluyendo múltiples aristas y bucles"
   ]
  },
  {
   "cell_type": "markdown",
   "metadata": {},
   "source": [
    "[Volver a la Tabla de Contenido](#TOC)"
   ]
  },
  {
   "cell_type": "markdown",
   "metadata": {},
   "source": [
    "#### Grafos no dirigidos vs dirigidos"
   ]
  },
  {
   "cell_type": "markdown",
   "metadata": {},
   "source": [
    "Los bordes representados en el ejemplo anterior no tienen otra característica que la de conectar dos vértices. Claramente carecen de dirección.\n",
    "\n",
    "La forma más clara y más amplia de clasificación de grafos comienza con el tipo de aristas dentro de un grafo. Existen dos tipos principales de bordes: los que tienen dirección y los que no. Un grafo no dirigido, como el grafo simple de ejemplo, es un grafo compuesto por bordes no dirigidos. En un grafo dirigido, o un dígrafo, cada vértice tiene un mínimo de un borde entrante y un borde saliente, lo que significa la dirección estricta de cada borde en relación con sus dos vértices conectados.\n",
    "\n",
    "<p float=\"center\">\n",
    "  <img src=\"https://github.com/carlosalvarezh/Analisis_de_Algoritmos/blob/master/images/Graph06.png?raw=true\" width=\"500\" />\n",
    "</p>\n"
   ]
  },
  {
   "cell_type": "markdown",
   "metadata": {},
   "source": [
    "[Volver a la Tabla de Contenido](#TOC)"
   ]
  },
  {
   "cell_type": "markdown",
   "metadata": {},
   "source": [
    "#### Grafcos ponderados y no ponderados"
   ]
  },
  {
   "cell_type": "markdown",
   "metadata": {},
   "source": [
    "De manera similar, un borde ponderado es simplemente un borde con un número o valor asociado, alternativamente conocido como peso (generalmente en forma de números enteros no negativos). Los valores de peso permiten modelar problemas más complejos que representan con mayor precisión sistemas de la vida real a través de grafos. En muchas aplicaciones de la vida real, el peso de un borde también se conoce comúnmente como el costo del borde; Los ejemplos de la vida real de los pesos de los bordes en los grafos incluyen la medición de la longitud de una ruta, la capacidad de un cable o la energía requerida para moverse a través de una ruta determinada. La siguiente imagen proporciona una guía visual rápida de cómo se vería nuestro grafos de ejemplo si contuviera bordes ponderados:\n",
    "\n",
    "<p float=\"center\">\n",
    "  <img src=\"https://github.com/carlosalvarezh/Analisis_de_Algoritmos/blob/master/images/Graph07.png?raw=true\" width=\"500\" />\n",
    "</p>\n"
   ]
  },
  {
   "cell_type": "markdown",
   "metadata": {},
   "source": [
    "[Volver a la Tabla de Contenido](#TOC)"
   ]
  },
  {
   "cell_type": "markdown",
   "metadata": {},
   "source": [
    "#### Múltiples bordes y ciclos"
   ]
  },
  {
   "cell_type": "markdown",
   "metadata": {},
   "source": [
    "La tercera de las propiedades simples resaltadas en nuestro grafo de ejemplo, presenta dos relaciones de grafo separadas que se basan en la misma propiedad: la simplicidad del grafo basada en relaciones de vértice.\n",
    "\n",
    "En nuestro grafo de ejemplo, cada vértice tiene exactamente un borde que lo conecta con otro vértice; ningún vértice se conecta con otro vértice a través de varios bordes. Además, ningún vértice vuelve a sí mismo. Un grafo que contiene uno o ambos, varios bordes y ciclos propios, se conoce como multigrafo.\n",
    "\n",
    "La imagen a continuación destaca estas dos distinciones con el grafo de la derecha:\n",
    "\n",
    "<p float=\"center\">\n",
    "  <img src=\"https://github.com/carlosalvarezh/Analisis_de_Algoritmos/blob/master/images/Graph08.png?raw=true\" width=\"500\" />\n",
    "</p>\n"
   ]
  },
  {
   "cell_type": "markdown",
   "metadata": {},
   "source": [
    "[Volver a la Tabla de Contenido](#TOC)"
   ]
  },
  {
   "cell_type": "markdown",
   "metadata": {},
   "source": [
    "#### Grafos acíclicos vs cíclicos"
   ]
  },
  {
   "cell_type": "markdown",
   "metadata": {},
   "source": [
    "No enumeramos esta propiedad anteriormente porque tanto los grafos acíclicos como los cíclicos pueden contar como grafos simples; sin embargo, la propiedad cíclica de un grafo es una forma clave de clasificación que vale la pena cubrir. En teoría de grafos, un ciclo es un camino de aristas y vértices en el que un vértice es accesible desde sí mismo; en otras palabras, existe un ciclo si uno puede viajar desde un único vértice de regreso a sí mismo sin repetir (retroceder) un solo borde o vértice a lo largo de su trayectoria.\n",
    "\n",
    "Un grafo que contiene al menos un ciclo se conoce como *grafo cíclico*. Un grafo sin un solo ciclo se conoce como *grafo acíclico*. En nuestro ejemplo a continuación, resaltaremos uno de los muchos ciclos en nuestro grafo simple mientras mostramos un grafo acíclico en el lado derecho:\n",
    "\n",
    "<p float=\"center\">\n",
    "  <img src=\"https://github.com/carlosalvarezh/Analisis_de_Algoritmos/blob/master/images/Graph09.png?raw=true\" width=\"500\" />\n",
    "</p>\n"
   ]
  },
  {
   "cell_type": "markdown",
   "metadata": {},
   "source": [
    "[Volver a la Tabla de Contenido](#TOC)"
   ]
  },
  {
   "cell_type": "markdown",
   "metadata": {},
   "source": [
    "### Ejemplo de aplicación"
   ]
  },
  {
   "cell_type": "markdown",
   "metadata": {
    "slideshow": {
     "slide_type": "subslide"
    }
   },
   "source": [
    "Formalmente, un grafo $G$ consiste en dos conjuntos finitos $N$ y $A$. \n",
    "\n",
    "- $N$ es el conjunto de elementos del grafo, también denominados vértices o nodos. \n",
    "\n",
    "\n",
    "- $A$ es el conjunto de arcos, que son las conexiones que se encargan de relacionar los nodos para formar el grafo. \n",
    "\n",
    "\n",
    "- Los arcos también son llamados aristas o líneas.\n",
    "\n",
    "\n",
    "- Los nodos suelen usarse para representar objetos y los arcos para representar la relación entre ellos. Por ejemplo, los nodos pueden representar ciudades y los arcos la existencia de carreteras que las comunican.\n",
    "\n",
    "\n",
    "- Cada arco queda definido por un par de elementos $n_1, n_2 \\in N$ a los que conecta.\n",
    "\n",
    "\n",
    "Aunque habitualmente los elementos son distintos, permitiremos que sean el mismo nodo ($n_1 = n_2$). Representaremos gráficamente un arco como una línea que une los dos nodos asociados\n"
   ]
  },
  {
   "cell_type": "markdown",
   "metadata": {},
   "source": [
    "Si queremos representar mediante un grafo la red de vuelos de una compañía aérea entre diferentes ciudades, tendríamos el siguiente grafo $G = {N, A}$; $N = {Málaga, Zaragoza,\n",
    "Madrid, Barcelona}$; $A = {(Madrid, Málaga), (Madrid, Barcelona), (Málaga, Barcelona),(Zaragoza, Barcelona)}$"
   ]
  },
  {
   "cell_type": "markdown",
   "metadata": {
    "slideshow": {
     "slide_type": "subslide"
    }
   },
   "source": [
    "<p float=\"center\">\n",
    "  <img src=\"https://github.com/carlosalvarezh/Analisis_de_Algoritmos/blob/master/images/Grafos01.png?raw=true\" width=\"500\" />\n",
    "</p>"
   ]
  },
  {
   "cell_type": "markdown",
   "metadata": {
    "slideshow": {
     "slide_type": "subslide"
    }
   },
   "source": [
    "- Se dice que dos nodos son adyacentes o vecinos si hay un arco que los conecta. Los nodos adyacentes pueden ser representados por pares $(a, b)$.\n",
    "\n",
    "\n",
    "- Un camino es una secuencia de nodos $n_1, n_2, \\ldots, n_m$ tal que $\\forall i, 1 ≤ i ≤ (m-1)$, cada par de nodos $(n_i, n_{i+1})$ son adyacentes. Se dice que un camino es simple si cada uno de sus nodos, excepto tal vez el primero y el último, aparece sólo una vez en la secuencia.\n",
    "\n",
    "\n",
    "- La longitud de un camino es el número de arcos de ese camino. Se puede considerar como caso especial un nodo por sí mismo como un camino de longitud $0$.\n",
    "\n",
    "\n",
    "- Un ciclo es un camino simple en el que el primer y último nodos son el mismo ($n_1 = n_m$). Si un camino desde un nodo a él mismo no contiene otros nodos entonces decimos que es un ciclo degenerado.\n",
    "\n",
    "\n",
    "- Un grafo sin ciclos se dice acíclico.\n",
    "\n",
    "\n",
    "- Si en un grafo $G = {N,A}$, $N$ está formado por dos o más subconjuntos disjuntos de nodos (no hay arcos que conecten nodos de un subconjunto con nodos de otro subconjunto) entonces se dice que el grafo es *desconectado* o *inconexo*, en otro caso se dice que es *conectado* o *conexo*."
   ]
  },
  {
   "cell_type": "markdown",
   "metadata": {
    "slideshow": {
     "slide_type": "subslide"
    }
   },
   "source": [
    "<p float=\"center\">\n",
    "  <img src=\"https://github.com/carlosalvarezh/Analisis_de_Algoritmos/blob/master/images/Grafos02.png?raw=true\" width=\"500\" />\n",
    "</p>\n"
   ]
  },
  {
   "cell_type": "markdown",
   "metadata": {},
   "source": [
    "[Volver a la Tabla de Contenido](#TOC)"
   ]
  },
  {
   "cell_type": "markdown",
   "metadata": {},
   "source": [
    "#### Grafos dirigidos y no dirigidos."
   ]
  },
  {
   "cell_type": "markdown",
   "metadata": {
    "slideshow": {
     "slide_type": "subslide"
    }
   },
   "source": [
    "Hasta ahora hemos supuesto que un arco conecta dos nodos en ambos sentidos igualmente. Un grafo dirigido es aquel en el que los arcos tienen un único sentido. En este caso, un arco se dirige desde el nodo origen hasta el nodo destino. Se dice que el nodo origen precede al nodo destino, y que éste sucede al origen. Los arcos de un grafo dirigido se representan gráficamente con flechas.\n",
    "\n",
    "\n",
    "- Un grafo no dirigido es un grafo donde los arcos conectan a los nodos en ambos sentidos.\n",
    "\n",
    "\n",
    "- Un grafo dirigido se podría usar para representar bloques de un programa mediante los nodos y la transferencia del flujo de control mediante los arcos. Un grafo que representara el sentido del tráfico entre diferentes plazas podría ser:"
   ]
  },
  {
   "cell_type": "markdown",
   "metadata": {
    "slideshow": {
     "slide_type": "subslide"
    }
   },
   "source": [
    "<p float=\"center\">\n",
    "  <img src=\"https://github.com/carlosalvarezh/Analisis_de_Algoritmos/blob/master/images/Grafos03.png?raw=true\" width=\"500\" />\n",
    "</p>\n"
   ]
  },
  {
   "cell_type": "markdown",
   "metadata": {
    "slideshow": {
     "slide_type": "subslide"
    }
   },
   "source": [
    "- Un nodo $N$ se dice alcanzable desde un nodo $M$ si y sólo si existe un camino desde $M$ hasta $N$. Más formalmente, un nodo $W$ se dice alcanzable desde un nodo $M$ si:\n",
    "\n",
    "\n",
    "1. $N$ y $M$ son el mismo nodo, o\n",
    "\n",
    "\n",
    "2. $N$ es alcanzable desde algún nodo que sea sucesor de $M$.\n",
    "\n",
    "\n",
    "Para cada nodo de un grafo existe un conjunto de nodos alcanzables desde ese nodo, denominado *conjunto alcanzable*.\n",
    "\n",
    "Un nodo $N$ se dice directamente alcanzable desde un nodo $M$ si y sólo si son adyacentes y $N$ es el sucesor de $M$.\n",
    "\n",
    "Un grafo conexo acíclico no dirigido es un árbol libre. Un árbol libre puede convertirse en un árbol general si se elige cualquier nodo deseado como raíz y se orienta el cada arco desde ella."
   ]
  },
  {
   "cell_type": "markdown",
   "metadata": {},
   "source": [
    "[Volver a la Tabla de Contenido](#TOC)"
   ]
  },
  {
   "cell_type": "markdown",
   "metadata": {},
   "source": [
    "#### Ponderación"
   ]
  },
  {
   "cell_type": "markdown",
   "metadata": {
    "slideshow": {
     "slide_type": "slide"
    }
   },
   "source": [
    "- Las aristas pueden ponderarse para mostrar que hay un costo para ir de un vértice a otro. Por ejemplo, en un grafo de carreteras que conectan una ciudad con otra, la ponderación en la arista puede representar la distancia entre las dos ciudades.\n",
    "\n",
    "\n",
    "- Un grafo puede ser representado por $G=(V,E)$. Para el grafo $G$, $V$ es un conjunto de vértices y $E$ es un conjunto de aristas. Cada arista es una tupla $(v,w)$ donde $w,v \\in V$. Podemos añadir un tercer componente a la tupla de la arista para representar una ponderación. Un subgrafo $s$ es un conjunto de aristas $e$ y de vértices $v$ tales que $e⊂E$ y $v⊂V$."
   ]
  },
  {
   "cell_type": "markdown",
   "metadata": {
    "slideshow": {
     "slide_type": "subslide"
    }
   },
   "source": [
    "La Figura muestra otro ejemplo de un digrafo ponderado simple. Formalmente podemos representar este grafo como el conjunto de seis vértices:\n",
    "\n",
    "$$V= \\{V0,V1,V2,V3,V4,V5 \\}$$\n",
    "\n",
    "y el conjunto de nueve aristas:\n",
    "\n",
    "$$E=\\{(v0,v1,5),(v1,v2,4),(v2,v3,9),(v3,v4,7),(v4,v0,1),(v0,v5,2),(v5,v4,8),(v3,v5,3),(v5,v2,1) \\}$$\n",
    "\n",
    "<p float=\"center\">\n",
    "  <img src=\"https://github.com/carlosalvarezh/Analisis_de_Algoritmos/blob/master/images/Grafos04.png?raw=true\" width=\"250\" />\n",
    "</p>\n"
   ]
  },
  {
   "cell_type": "markdown",
   "metadata": {
    "slideshow": {
     "slide_type": "subslide"
    }
   },
   "source": [
    "- en la figura, la ruta desde $V3$ hasta $V1$ es la secuencia de vértices $(V3,V4,V0,V1)$. Las aristas son $\\{(v3,v4,7),(v4,v0,1),(v0,v1,5)\\}$.\n",
    "\n",
    "\n",
    "- en la figura, la ruta $(V5,V2,V3,V5)$ es un ciclo. Un grafo sin ciclos se denomina grafo acíclico. "
   ]
  },
  {
   "cell_type": "markdown",
   "metadata": {},
   "source": [
    "[Volver a la Tabla de Contenido](#TOC)"
   ]
  },
  {
   "cell_type": "markdown",
   "metadata": {},
   "source": [
    "#### El tipo abstracto de datos grafo"
   ]
  },
  {
   "cell_type": "markdown",
   "metadata": {
    "slideshow": {
     "slide_type": "slide"
    }
   },
   "source": [
    "- `Grafo()` crea un grafo nuevo y vacío.\n",
    "\n",
    "- `agregarVertice(vert)` agrega una instancia de Vertice al grafo.\n",
    "\n",
    "- `agregarArista(deVertice, aVertice)` agrega al grafo una nueva arista dirigida que conecta dos vértices.\n",
    "\n",
    "- `agregarArista(deVertice, aVertice, ponderacion)` agrega al grafo una nueva arista ponderada y dirigida que conecta dos vértices.\n",
    "\n",
    "- `obtenerVertice(claveVert)` encuentra el vértice en el grafo con nombre `claveVert`.\n",
    "\n",
    "- `obtenerVertices()` devuelve la lista de todos los vértices en el grafo.\n",
    "\n",
    "- `in` devuelve `True` para una instrucción de la forma `vertice in grafo`, si el vértice dado está en el grafo, `False` de lo contrario."
   ]
  },
  {
   "cell_type": "markdown",
   "metadata": {},
   "source": [
    "[Volver a la Tabla de Contenido](#TOC)"
   ]
  },
  {
   "cell_type": "markdown",
   "metadata": {},
   "source": [
    "#### Matriz de adyacencia"
   ]
  },
  {
   "cell_type": "markdown",
   "metadata": {
    "slideshow": {
     "slide_type": "subslide"
    }
   },
   "source": [
    "Una de las maneras más fáciles de implementar un grafo es usar una matriz bidimensional. \n",
    "\n",
    "- En esta implementación de matriz, cada una de las filas y columnas representa un vértice en el grafo. \n",
    "\n",
    "\n",
    "- El valor que se almacena en la celda en la intersección de la fila $v$ y la columna $w$ indica si hay una arista desde el vértice $v$ al vértice $w$. \n",
    "\n",
    "\n",
    "- Cuando dos vértices están conectados por una arista, decimos que son adyacentes. La siguiente figura ilustra la matriz de adyacencia para el grafo de la figura anterior. \n",
    "\n",
    "\n",
    "- Un valor en una celda representa la ponderación de la arista que une el vértice $v$ con el vértice $w$."
   ]
  },
  {
   "cell_type": "markdown",
   "metadata": {
    "slideshow": {
     "slide_type": "subslide"
    }
   },
   "source": [
    "<p float=\"center\">\n",
    "  <img src=\"https://github.com/carlosalvarezh/Analisis_de_Algoritmos/blob/master/images/Grafos05.png?raw=true\" width=\"250\" />\n",
    "</p>\n"
   ]
  },
  {
   "cell_type": "markdown",
   "metadata": {
    "slideshow": {
     "slide_type": "subslide"
    }
   },
   "source": [
    "La ventaja de la matriz de adyacencia es que es simple, y que para grafos pequeños es fácil ver qué nodos están conectados a otros nodos. Sin embargo, note que la mayoría de las celdas de la matriz están vacías. Dado que la mayoría de las celdas están vacías decimos que esta matriz es “*rala*”. Una matriz no es una forma muy eficiente de almacenar datos ralos.\n",
    "\n",
    "La matriz de adyacencia es una buena implementación para un grafo cuando el número de aristas es grande. Pero ¿qué entendemos por grande? ¿Cuántas aristas se necesitarían para llenar la matriz? Puesto que hay una fila y una columna para cada vértice en el grafo, el número de aristas requeridas para llenar la matriz es $\\mathcal{O}(n^2)$. Una matriz está llena cuando cada vértice está conectado a todos los otros vértices. Hay pocos problemas reales que se aproximan a este tipo de conectividad.\n",
    "\n",
    "Una forma más eficiente, respecto al uso del espacio, de implementar un grafo conectado de forma rala es usar una *lista de adyacencia*. En una implementación de lista de adyacencia mantenemos una lista maestra de todos los vértices en el objeto Grafo y además cada objeto Vértice en el grafo mantiene una lista de los otros vértices a los que está conectado. En nuestra implementación de la clase `Vertice` usaremos un diccionario en lugar de una lista donde las claves del diccionario son los vértices, y los valores son las ponderaciones. La figura siguiente ilustra la representación mediante una lista de adyacencia para el grafo de la figura inicial."
   ]
  },
  {
   "cell_type": "markdown",
   "metadata": {
    "slideshow": {
     "slide_type": "subslide"
    }
   },
   "source": [
    "<p float=\"center\">\n",
    "  <img src=\"https://github.com/carlosalvarezh/Analisis_de_Algoritmos/blob/master/images/Grafos06.png?raw=true\" width=\"250\" />\n",
    "</p>\n"
   ]
  },
  {
   "cell_type": "markdown",
   "metadata": {},
   "source": [
    "La ventaja de la implementación mediante una lista de adyacencia es que nos permite representar de forma compacta un grafo ralo. La lista de adyacencia también nos permite encontrar fácilmente todos los enlaces que están directamente conectados a un vértice particular."
   ]
  },
  {
   "cell_type": "markdown",
   "metadata": {},
   "source": [
    "#### Codificando"
   ]
  },
  {
   "cell_type": "code",
   "execution_count": 1,
   "metadata": {},
   "outputs": [],
   "source": [
    "class Vertice:\n",
    "    def __init__(self,clave):\n",
    "        self.id = clave\n",
    "        self.conectadoA = {}\n",
    "\n",
    "    def agregarVecino(self,vecino,ponderacion=0):\n",
    "        self.conectadoA[vecino] = ponderacion\n",
    "\n",
    "    def __str__(self):\n",
    "        return str(self.id) + ' conectadoA: ' + str([x.id for x in self.conectadoA])\n",
    "\n",
    "    def obtenerConexiones(self):\n",
    "        return self.conectadoA.keys()\n",
    "\n",
    "    def obtenerId(self):\n",
    "        return self.id\n",
    "\n",
    "    def obtenerPonderacion(self,vecino):\n",
    "        return self.conectadoA[vecino]"
   ]
  },
  {
   "cell_type": "code",
   "execution_count": 2,
   "metadata": {},
   "outputs": [],
   "source": [
    "class Grafo:\n",
    "    def __init__(self):\n",
    "        self.listaVertices = {}\n",
    "        self.numVertices = 0\n",
    "\n",
    "    def agregarVertice(self,clave):\n",
    "        self.numVertices = self.numVertices + 1\n",
    "        nuevoVertice = Vertice(clave)\n",
    "        self.listaVertices[clave] = nuevoVertice\n",
    "        return nuevoVertice\n",
    "\n",
    "    def obtenerVertice(self,n):\n",
    "        if n in self.listaVertices:\n",
    "            return self.listaVertices[n]\n",
    "        else:\n",
    "            return None\n",
    "\n",
    "    def __contains__(self,n):\n",
    "        return n in self.listaVertices\n",
    "\n",
    "    def agregarArista(self,de,a,costo=0):\n",
    "        if de not in self.listaVertices:\n",
    "            nv = self.agregarVertice(de)\n",
    "        if a not in self.listaVertices:\n",
    "            nv = self.agregarVertice(a)\n",
    "        self.listaVertices[de].agregarVecino(self.listaVertices[a], costo)\n",
    "\n",
    "    def obtenerVertices(self):\n",
    "        return self.listaVertices.keys()\n",
    "\n",
    "    def __iter__(self):\n",
    "        return iter(self.listaVertices.values())\n"
   ]
  },
  {
   "cell_type": "code",
   "execution_count": 4,
   "metadata": {},
   "outputs": [
    {
     "name": "stdout",
     "output_type": "stream",
     "text": [
      "<__main__.Grafo object at 0x00000279F8B39A90>\n"
     ]
    }
   ],
   "source": [
    "g = Grafo()\n",
    "print(g)"
   ]
  },
  {
   "cell_type": "code",
   "execution_count": 5,
   "metadata": {},
   "outputs": [],
   "source": [
    "for i in range(6):\n",
    "    g.agregarVertice(i)"
   ]
  },
  {
   "cell_type": "code",
   "execution_count": 6,
   "metadata": {},
   "outputs": [
    {
     "ename": "SyntaxError",
     "evalue": "invalid syntax (<ipython-input-6-a8904840ebb2>, line 2)",
     "output_type": "error",
     "traceback": [
      "\u001b[1;36m  File \u001b[1;32m\"<ipython-input-6-a8904840ebb2>\"\u001b[1;36m, line \u001b[1;32m2\u001b[0m\n\u001b[1;33m    {0: <__main__.Vertice object>,\u001b[0m\n\u001b[1;37m        ^\u001b[0m\n\u001b[1;31mSyntaxError\u001b[0m\u001b[1;31m:\u001b[0m invalid syntax\n"
     ]
    }
   ],
   "source": [
    "g.listaVertices\n",
    "{0: <__main__.Vertice object>, \n",
    " 1: <__main__.Vertice object>, \n",
    " 2: <__main__.Vertice object>,\n",
    " 3: <__main__.Vertice object>, \n",
    " 4: <__main__.Vertice object>, \n",
    " 5: <__main__.Vertice object>}"
   ]
  },
  {
   "cell_type": "code",
   "execution_count": 7,
   "metadata": {},
   "outputs": [
    {
     "name": "stdout",
     "output_type": "stream",
     "text": [
      "( 0 , 1 )\n",
      "( 0 , 5 )\n",
      "( 1 , 2 )\n",
      "( 2 , 3 )\n",
      "( 3 , 4 )\n",
      "( 3 , 5 )\n",
      "( 4 , 0 )\n",
      "( 5 , 4 )\n",
      "( 5 , 2 )\n"
     ]
    }
   ],
   "source": [
    "g.agregarArista(0,1,5)\n",
    "g.agregarArista(0,5,2)\n",
    "g.agregarArista(1,2,4)\n",
    "g.agregarArista(2,3,9)\n",
    "g.agregarArista(3,4,7)\n",
    "g.agregarArista(3,5,3)\n",
    "g.agregarArista(4,0,1)\n",
    "g.agregarArista(5,4,8)\n",
    "g.agregarArista(5,2,1)\n",
    "\n",
    "for v in g:\n",
    "    for w in v.obtenerConexiones():\n",
    "        print(\"( %s , %s )\" % (v.obtenerId(), w.obtenerId()))"
   ]
  },
  {
   "cell_type": "markdown",
   "metadata": {},
   "source": [
    "[Volver a la Tabla de Contenido](#TOC)"
   ]
  }
 ],
 "metadata": {
  "kernelspec": {
   "display_name": "Python 3",
   "language": "python",
   "name": "python3"
  },
  "language_info": {
   "codemirror_mode": {
    "name": "ipython",
    "version": 3
   },
   "file_extension": ".py",
   "mimetype": "text/x-python",
   "name": "python",
   "nbconvert_exporter": "python",
   "pygments_lexer": "ipython3",
   "version": "3.6.13"
  },
  "toc": {
   "base_numbering": 1,
   "nav_menu": {},
   "number_sections": true,
   "sideBar": true,
   "skip_h1_title": true,
   "title_cell": "Table of Contents",
   "title_sidebar": "Contents",
   "toc_cell": true,
   "toc_position": {
    "height": "calc(100% - 180px)",
    "left": "10px",
    "top": "150px",
    "width": "194.867px"
   },
   "toc_section_display": true,
   "toc_window_display": true
  }
 },
 "nbformat": 4,
 "nbformat_minor": 2
}
