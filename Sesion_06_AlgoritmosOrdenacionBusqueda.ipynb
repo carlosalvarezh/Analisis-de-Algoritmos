{
 "cells": [
  {
   "cell_type": "markdown",
   "metadata": {
    "slideshow": {
     "slide_type": "slide"
    }
   },
   "source": [
    "<h1 align=\"center\">ANÁLISIS DE ALGORITMOS</h1>\n",
    "\n",
    "<h1 align=\"center\">Sesión 06: Algoritmos de Ordenación y Búsqueda</h1>\n",
    "\n",
    "<h1 align=\"center\">MEDELLÍN - COLOMBIA </h1>\n",
    "\n",
    "<h1 align=\"center\">2021 </h1>"
   ]
  },
  {
   "cell_type": "markdown",
   "metadata": {
    "slideshow": {
     "slide_type": "subslide"
    }
   },
   "source": [
    "<table>\n",
    " <tr align=left><td><img align=left src=\"https://github.com/carlosalvarezh/Analisis_de_Algoritmos/blob/master/images/CC-BY.png?raw=true\">\n",
    " <td>Text provided under a Creative Commons Attribution license, CC-BY. All code is made available under the FSF-approved MIT license.(c) Carlos Alberto Alvarez Henao</td>\n",
    "</table>"
   ]
  },
  {
   "cell_type": "markdown",
   "metadata": {},
   "source": [
    "*** \n",
    "\n",
    "***Docente:*** Carlos Alberto Álvarez Henao, I.C. D.Sc.\n",
    "\n",
    "***e-mail:*** carlosalvarezh@gmail.com\n",
    "\n",
    "***skype:*** carlos.alberto.alvarez.henao\n",
    "\n",
    "***Linkedin:*** https://www.linkedin.com/in/carlosalvarez5/\n",
    "\n",
    "***github:*** https://github.com/carlosalvarezh/Metodos_Numericos\n",
    "\n",
    "***Herramienta:*** [Jupyter](http://jupyter.org/)\n",
    "\n",
    "***Kernel:*** Python 3.8\n",
    "\n",
    "\n",
    "***"
   ]
  },
  {
   "cell_type": "markdown",
   "metadata": {},
   "source": [
    "<a id='TOC'></a>"
   ]
  },
  {
   "cell_type": "markdown",
   "metadata": {
    "toc": true
   },
   "source": [
    "<h1>Table of Contents<span class=\"tocSkip\"></span></h1>\n",
    "<div class=\"toc\"><ul class=\"toc-item\"><li><span><a href=\"#Introducción\" data-toc-modified-id=\"Introducción-1\"><span class=\"toc-item-num\">1&nbsp;&nbsp;</span>Introducción</a></span></li><li><span><a href=\"#Algoritmos-de-Ordenamiento\" data-toc-modified-id=\"Algoritmos-de-Ordenamiento-2\"><span class=\"toc-item-num\">2&nbsp;&nbsp;</span>Algoritmos de Ordenamiento</a></span><ul class=\"toc-item\"><li><span><a href=\"#Ordenamiento-por-intercambio-(Bubble-sort)\" data-toc-modified-id=\"Ordenamiento-por-intercambio-(Bubble-sort)-2.1\"><span class=\"toc-item-num\">2.1&nbsp;&nbsp;</span>Ordenamiento por intercambio (Bubble sort)</a></span><ul class=\"toc-item\"><li><span><a href=\"#Ejemplo\" data-toc-modified-id=\"Ejemplo-2.1.1\"><span class=\"toc-item-num\">2.1.1&nbsp;&nbsp;</span>Ejemplo</a></span></li><li><span><a href=\"#Seudocódigo\" data-toc-modified-id=\"Seudocódigo-2.1.2\"><span class=\"toc-item-num\">2.1.2&nbsp;&nbsp;</span>Seudocódigo</a></span></li></ul></li><li><span><a href=\"#Ordenamiento-por-Selección-(Selection)\" data-toc-modified-id=\"Ordenamiento-por-Selección-(Selection)-2.2\"><span class=\"toc-item-num\">2.2&nbsp;&nbsp;</span>Ordenamiento por Selección (Selection)</a></span><ul class=\"toc-item\"><li><span><a href=\"#Algoritmo\" data-toc-modified-id=\"Algoritmo-2.2.1\"><span class=\"toc-item-num\">2.2.1&nbsp;&nbsp;</span>Algoritmo</a></span></li><li><span><a href=\"#Ejemplo\" data-toc-modified-id=\"Ejemplo-2.2.2\"><span class=\"toc-item-num\">2.2.2&nbsp;&nbsp;</span>Ejemplo</a></span></li><li><span><a href=\"#Seudocódigo\" data-toc-modified-id=\"Seudocódigo-2.2.3\"><span class=\"toc-item-num\">2.2.3&nbsp;&nbsp;</span>Seudocódigo</a></span></li></ul></li><li><span><a href=\"#Ordenamiento-por-Insersión-(Insertion)\" data-toc-modified-id=\"Ordenamiento-por-Insersión-(Insertion)-2.3\"><span class=\"toc-item-num\">2.3&nbsp;&nbsp;</span>Ordenamiento por Insersión (Insertion)</a></span><ul class=\"toc-item\"><li><span><a href=\"#Algoritmo\" data-toc-modified-id=\"Algoritmo-2.3.1\"><span class=\"toc-item-num\">2.3.1&nbsp;&nbsp;</span>Algoritmo</a></span></li><li><span><a href=\"#Ejemplo\" data-toc-modified-id=\"Ejemplo-2.3.2\"><span class=\"toc-item-num\">2.3.2&nbsp;&nbsp;</span>Ejemplo</a></span></li><li><span><a href=\"#Seudocódigo\" data-toc-modified-id=\"Seudocódigo-2.3.3\"><span class=\"toc-item-num\">2.3.3&nbsp;&nbsp;</span>Seudocódigo</a></span></li></ul></li><li><span><a href=\"#Ordenamiento-Shell\" data-toc-modified-id=\"Ordenamiento-Shell-2.4\"><span class=\"toc-item-num\">2.4&nbsp;&nbsp;</span>Ordenamiento Shell</a></span><ul class=\"toc-item\"><li><span><a href=\"#Ejemplo\" data-toc-modified-id=\"Ejemplo-2.4.1\"><span class=\"toc-item-num\">2.4.1&nbsp;&nbsp;</span>Ejemplo</a></span></li><li><span><a href=\"#Seudocódigo\" data-toc-modified-id=\"Seudocódigo-2.4.2\"><span class=\"toc-item-num\">2.4.2&nbsp;&nbsp;</span>Seudocódigo</a></span></li></ul></li><li><span><a href=\"#Ordenamiento-por-mezcla-(Merge-sort)\" data-toc-modified-id=\"Ordenamiento-por-mezcla-(Merge-sort)-2.5\"><span class=\"toc-item-num\">2.5&nbsp;&nbsp;</span>Ordenamiento por mezcla (Merge sort)</a></span></li><li><span><a href=\"#Ordenamiento-rápido-(Quick-sort)\" data-toc-modified-id=\"Ordenamiento-rápido-(Quick-sort)-2.6\"><span class=\"toc-item-num\">2.6&nbsp;&nbsp;</span>Ordenamiento rápido (Quick sort)</a></span></li><li><span><a href=\"#Comparación-entre-algoritmos-de-ordenamiento\" data-toc-modified-id=\"Comparación-entre-algoritmos-de-ordenamiento-2.7\"><span class=\"toc-item-num\">2.7&nbsp;&nbsp;</span>Comparación entre algoritmos de ordenamiento</a></span></li><li><span><a href=\"#Complejidad-en-algoritmos-de-ordenamiento\" data-toc-modified-id=\"Complejidad-en-algoritmos-de-ordenamiento-2.8\"><span class=\"toc-item-num\">2.8&nbsp;&nbsp;</span>Complejidad en algoritmos de ordenamiento</a></span></li></ul></li><li><span><a href=\"#Búsqueda\" data-toc-modified-id=\"Búsqueda-3\"><span class=\"toc-item-num\">3&nbsp;&nbsp;</span>Búsqueda</a></span><ul class=\"toc-item\"><li><span><a href=\"#Búsqueda-Secuencial\" data-toc-modified-id=\"Búsqueda-Secuencial-3.1\"><span class=\"toc-item-num\">3.1&nbsp;&nbsp;</span>Búsqueda Secuencial</a></span><ul class=\"toc-item\"><li><span><a href=\"#Seudocódigo\" data-toc-modified-id=\"Seudocódigo-3.1.1\"><span class=\"toc-item-num\">3.1.1&nbsp;&nbsp;</span>Seudocódigo</a></span></li><li><span><a href=\"#Eficiencia-y-Complejidad\" data-toc-modified-id=\"Eficiencia-y-Complejidad-3.1.2\"><span class=\"toc-item-num\">3.1.2&nbsp;&nbsp;</span>Eficiencia y Complejidad</a></span></li></ul></li><li><span><a href=\"#Búsqueda-Binaria\" data-toc-modified-id=\"Búsqueda-Binaria-3.2\"><span class=\"toc-item-num\">3.2&nbsp;&nbsp;</span>Búsqueda Binaria</a></span><ul class=\"toc-item\"><li><span><a href=\"#Algoritmo\" data-toc-modified-id=\"Algoritmo-3.2.1\"><span class=\"toc-item-num\">3.2.1&nbsp;&nbsp;</span>Algoritmo</a></span></li><li><span><a href=\"#Seudocódigo\" data-toc-modified-id=\"Seudocódigo-3.2.2\"><span class=\"toc-item-num\">3.2.2&nbsp;&nbsp;</span>Seudocódigo</a></span></li><li><span><a href=\"#Eficiencia-y-Complejidad\" data-toc-modified-id=\"Eficiencia-y-Complejidad-3.2.3\"><span class=\"toc-item-num\">3.2.3&nbsp;&nbsp;</span>Eficiencia y Complejidad</a></span></li></ul></li><li><span><a href=\"#Comparación:-Búsqueda-Binaria-y-Secuencial\" data-toc-modified-id=\"Comparación:-Búsqueda-Binaria-y-Secuencial-3.3\"><span class=\"toc-item-num\">3.3&nbsp;&nbsp;</span>Comparación: Búsqueda Binaria y Secuencial</a></span></li><li><span><a href=\"#Complejidad-en-algoritmos-de-búsqueda\" data-toc-modified-id=\"Complejidad-en-algoritmos-de-búsqueda-3.4\"><span class=\"toc-item-num\">3.4&nbsp;&nbsp;</span>Complejidad en algoritmos de búsqueda</a></span></li></ul></li><li><span><a href=\"#Desafío-de-clase\" data-toc-modified-id=\"Desafío-de-clase-4\"><span class=\"toc-item-num\">4&nbsp;&nbsp;</span>Desafío de clase</a></span></li><li><span><a href=\"#Solucionario-Programming-Lab2\" data-toc-modified-id=\"Solucionario-Programming-Lab2-5\"><span class=\"toc-item-num\">5&nbsp;&nbsp;</span>Solucionario Programming Lab2</a></span></li></ul></div>"
   ]
  },
  {
   "cell_type": "markdown",
   "metadata": {
    "slideshow": {
     "slide_type": "slide"
    }
   },
   "source": [
    "## Introducción"
   ]
  },
  {
   "cell_type": "markdown",
   "metadata": {},
   "source": [
    "<p float=\"center\">\n",
    "  <img src=\"https://github.com/carlosalvarezh/Analisis_de_Algoritmos/blob/master/images/Sorting01.PNG?raw=true\" width=\"500\" />\n",
    "</p>"
   ]
  },
  {
   "cell_type": "markdown",
   "metadata": {
    "slideshow": {
     "slide_type": "subslide"
    }
   },
   "source": [
    "**Ordenación o Clasificación de datos ($sort$, en inglés):** Operación consistente en disponer un conjunto —estructura— de datos en algún determinado orden con respecto a uno de los campos de elementos del conjunto. Una colección de datos (Estructura) puede ser almacenada en un archivo, un arreglo (lista, tupla, diccionario) u otra estructura especial.\n",
    "\n",
    "\n",
    "**Ejemplo:** cada elemento del conjunto de datos de una guía telefónica tiene un campo nombre, un campo dirección y un campo número de teléfono; la guía telefónica está dispuesta en orden alfabético de nombres; los elementos numéricos se pueden ordenar en orden creciente o decreciente de acuerdo al valor numérico del elemento. \n",
    "\n",
    "En terminología de ordenación, el elemento por el cual está ordenado un conjunto de datos (o se está buscando) se denomina clave. Un arreglo se dice que está ordenado por la clave $k$ si está en orden ascendente o descendente con respecto a la clave.\n",
    " \n",
    "  - El arreglo se dice que está en orden ascendente si: \n",
    "$𝑖<𝑗$, esto implica que $𝑘_𝑖 \\leq 𝑘_j$\n",
    "\n",
    "  - y se dice que está en orden descendente si:\n",
    "$𝑖>𝑗$, esto implica que $𝑘_𝑖 \\geq 𝑘_j$\n",
    " "
   ]
  },
  {
   "cell_type": "markdown",
   "metadata": {},
   "source": [
    "[Volver a la Tabla de Contenido](#TOC)"
   ]
  },
  {
   "cell_type": "markdown",
   "metadata": {
    "slideshow": {
     "slide_type": "slide"
    }
   },
   "source": [
    "## Algoritmos de Ordenamiento"
   ]
  },
  {
   "cell_type": "markdown",
   "metadata": {
    "slideshow": {
     "slide_type": "subslide"
    }
   },
   "source": [
    "Existen muchos algoritmos de ordenamiento, cuál es el “mejor”? \n",
    "\n",
    "***Eficiencia:*** factor que mide la calidad y rendimiento de un algoritmo. El más eficiente es el que:\n",
    "    - Resuelve en menor tiempo de ejecución en computador;\n",
    "    - Menor número de instrucciones.\n",
    "\n",
    "\n",
    "- A veces no se cuenta con un mecanismo que permita cuantificar la *eficiencia*.\n",
    "\n",
    "\n",
    "- El mejor criterio para medirla es aislar una operación específica clave en la ordenación.\n",
    "\n",
    "\n",
    "- Se empleará como medida de $eficiencia$ el número de comparaciones efectuada entre elementos.\n",
    "\n",
    "  - $A$ será más eficiente que $B$ si se requiere un menor número de comparaciones."
   ]
  },
  {
   "cell_type": "markdown",
   "metadata": {
    "slideshow": {
     "slide_type": "subslide"
    }
   },
   "source": [
    "- En el caso de ordenar elementos de un arreglo vectorial, el número de comparaciones será función del número de elementos, $n$, del arreglo: $n+4$, $n^2$, etc.\n",
    "\n",
    "- Los métodos de ordenación se suelen dividir en dos grandes grupos:\n",
    "\n",
    "  - **Directos:** `Burbuja, Selección, Inserción`.\n",
    "  \n",
    "  - **Indirectos:** `Shell, Ordenación Rápida, Ordenación por Mezcla, Radixsort`."
   ]
  },
  {
   "cell_type": "markdown",
   "metadata": {},
   "source": [
    "[Volver a la Tabla de Contenido](#TOC)"
   ]
  },
  {
   "cell_type": "markdown",
   "metadata": {
    "slideshow": {
     "slide_type": "slide"
    }
   },
   "source": [
    "### Ordenamiento por intercambio (Bubble sort)"
   ]
  },
  {
   "cell_type": "markdown",
   "metadata": {},
   "source": [
    "<p float=\"center\">\n",
    "  <img src=\"https://github.com/carlosalvarezh/Analisis_de_Algoritmos/blob/master/images/Sort_Bubble01.gif?raw=true\" width=\"500\" />\n",
    "</p>\n"
   ]
  },
  {
   "cell_type": "markdown",
   "metadata": {
    "slideshow": {
     "slide_type": "subslide"
    }
   },
   "source": [
    "- Basado en la lectura sucesiva de la lista a ordenar, comparando el elemento inferior de la lista con los restantes y efectuando el intercambio de posiciones cuando el orden de la comparación no sea el correcto."
   ]
  },
  {
   "cell_type": "markdown",
   "metadata": {},
   "source": [
    "[Volver a la Tabla de Contenido](#TOC)"
   ]
  },
  {
   "cell_type": "markdown",
   "metadata": {},
   "source": [
    "#### Ejemplo"
   ]
  },
  {
   "cell_type": "markdown",
   "metadata": {},
   "source": [
    "Ordenar el arreglo $[8, 4, 6, 2]$"
   ]
  },
  {
   "cell_type": "markdown",
   "metadata": {
    "slideshow": {
     "slide_type": "subslide"
    }
   },
   "source": [
    "<p float=\"center\">\n",
    "  <img src=\"https://github.com/carlosalvarezh/Analisis_de_Algoritmos/blob/master/images/Ordena_Intercambio0.PNG?raw=true\" width=\"600\" />\n",
    "</p>\n"
   ]
  },
  {
   "cell_type": "markdown",
   "metadata": {
    "slideshow": {
     "slide_type": "subslide"
    }
   },
   "source": [
    "- El elemento de índice $0$ se compara con cada elemento posterior del arreglo de índices $1$, $2$ y $3$.\n",
    "\n",
    "\n",
    "- En cada comparación se comprueba si el elemento siguiente es menor que el del índice $0$, en este caso se intercambian.\n",
    "\n",
    "\n",
    "- Después de terminar todas las comparaciones, el elemento menor se localiza en el índice $0$.\n"
   ]
  },
  {
   "cell_type": "markdown",
   "metadata": {
    "slideshow": {
     "slide_type": "subslide"
    }
   },
   "source": [
    "<p float=\"center\">\n",
    "  <img src=\"https://github.com/carlosalvarezh/Analisis_de_Algoritmos/blob/master/images/Ordena_Intercambio1.PNG?raw=true\" width=\"500\" />\n",
    "</p>\n"
   ]
  },
  {
   "cell_type": "markdown",
   "metadata": {
    "slideshow": {
     "slide_type": "subslide"
    }
   },
   "source": [
    "- El algoritmo continua comparando el elemento de índice $1$ con los elementos posteriores de índices $2$ y $3$. En cada comparación, si el elemento mayor está en el índice $1$ se intercambian los elementos.\n",
    "\n",
    "\n",
    "- Después de hacer todas las comparaciones, el segundo elemento de menor valor del arreglo se almacena en el índice $1$.\n"
   ]
  },
  {
   "cell_type": "markdown",
   "metadata": {
    "slideshow": {
     "slide_type": "subslide"
    }
   },
   "source": [
    "<p float=\"center\">\n",
    "  <img src=\"https://github.com/carlosalvarezh/Analisis_de_Algoritmos/blob/master/images/Ordena_Intercambio2.PNG?raw=true\" width=\"500\" />\n",
    "</p>\n"
   ]
  },
  {
   "cell_type": "markdown",
   "metadata": {
    "slideshow": {
     "slide_type": "subslide"
    }
   },
   "source": [
    "La sublista a considerar es $8$, $6$. Una única comparación produce el arreglo ordenado."
   ]
  },
  {
   "cell_type": "markdown",
   "metadata": {
    "slideshow": {
     "slide_type": "subslide"
    }
   },
   "source": [
    "- El método utiliza dos bucles anidados.\n",
    "\n",
    "\n",
    "- Suponiendo que el arreglo es de tamaño $n$, el rango del ciclo externo irá desde el índice $0$ hasta $n-2$.\n",
    "\n",
    "\n",
    "- Por cada índice $i$, se comparan los elementos posteriores de índices $j=i+1, i+2, \\ldots, n-1$."
   ]
  },
  {
   "cell_type": "markdown",
   "metadata": {
    "slideshow": {
     "slide_type": "subslide"
    }
   },
   "source": [
    "El intercambio ($swap$) de los elementos $a_i$, $a_j$ se realiza en un bloque:\n",
    "\n",
    "$$aux = a_i$$\n",
    "$$a_i = a_j$$\n",
    "$$a_j = aux$$\n"
   ]
  },
  {
   "cell_type": "markdown",
   "metadata": {},
   "source": [
    "[Volver a la Tabla de Contenido](#TOC)"
   ]
  },
  {
   "cell_type": "markdown",
   "metadata": {},
   "source": [
    "#### Seudocódigo"
   ]
  },
  {
   "cell_type": "markdown",
   "metadata": {
    "slideshow": {
     "slide_type": "subslide"
    }
   },
   "source": [
    "<p float=\"center\">\n",
    "  <img src=\"https://github.com/carlosalvarezh/Analisis_de_Algoritmos/blob/master/images/Ordena_Burbuja.PNG?raw=true\" width=\"400\" />\n",
    "</p>\n"
   ]
  },
  {
   "cell_type": "code",
   "execution_count": 1,
   "metadata": {},
   "outputs": [],
   "source": [
    "def burbuja(lista,n):\n",
    "    for i in range(1,n):\n",
    "        for j in range(n-i):\n",
    "            if lista[j] < lista[j+1]:\n",
    "                aux = lista[j]\n",
    "                lista[j] = lista[j+1]\n",
    "                lista[j+1] = aux\n",
    "    return lista"
   ]
  },
  {
   "cell_type": "code",
   "execution_count": 2,
   "metadata": {},
   "outputs": [],
   "source": [
    "# forma pythonist de hacer el swap\n",
    "\n",
    "def burbujap(lista,n):\n",
    "    for i in range(1,n):\n",
    "        for j in range(n-i):\n",
    "            if lista[j] > lista[j+1]:\n",
    "                lista[j], lista[j+1] = lista[j+1], lista[j] #swap pythonist\n",
    "    return lista"
   ]
  },
  {
   "cell_type": "code",
   "execution_count": 3,
   "metadata": {
    "slideshow": {
     "slide_type": "subslide"
    }
   },
   "outputs": [
    {
     "name": "stdout",
     "output_type": "stream",
     "text": [
      "Elapsed time:  0.0010192394256591797\n"
     ]
    }
   ],
   "source": [
    "import numpy.random as nprnd\n",
    "import time\n",
    "\n",
    "#m = nprnd.randint(100)\n",
    "#print(m)\n",
    "a = nprnd.randint(100, size=10)\n",
    "n = len(a)\n",
    "\n",
    "#print(a)\n",
    "t0 = time.time()\n",
    "lista = burbuja(a,n)\n",
    "t = time.time()-t0\n",
    "\n",
    "#print(lista)\n",
    "\n",
    "print(\"Elapsed time: \", t)"
   ]
  },
  {
   "cell_type": "markdown",
   "metadata": {},
   "source": [
    "[Volver a la Tabla de Contenido](#TOC)"
   ]
  },
  {
   "cell_type": "markdown",
   "metadata": {
    "slideshow": {
     "slide_type": "slide"
    }
   },
   "source": [
    "### Ordenamiento por Selección (Selection)"
   ]
  },
  {
   "cell_type": "markdown",
   "metadata": {},
   "source": [
    "<p float=\"center\">\n",
    "  <img src=\"https://github.com/carlosalvarezh/Analisis_de_Algoritmos/blob/master/images/Sort_Selection01.gif?raw=true\" width=\"500\" />\n",
    "</p>"
   ]
  },
  {
   "cell_type": "markdown",
   "metadata": {},
   "source": [
    "#### Algoritmo"
   ]
  },
  {
   "cell_type": "markdown",
   "metadata": {
    "slideshow": {
     "slide_type": "slide"
    }
   },
   "source": [
    "Los pasos del algoritmo son:\n",
    "\n",
    "1. Seleccionar el elemento de menor valor del arreglo, intercambiarlo con el primer elemento, $a_0$. Con esto, la entrada de menor valor está en la primera posición del arreglo.\n",
    "\n",
    "2. Considerar las posiciones del arreglo $a_1, a_2, \\ldots$, seleccionar el elemento de menor valor e intercambiarlo con $a_1$. Las dos primeras entradas están en orden.\n",
    "\n",
    "3. Continuar este proceso encontrando o seleccionando el elemento de menor valor de los restantes elementos del arreglo, intercambiándolos adecuadamente.\n"
   ]
  },
  {
   "cell_type": "markdown",
   "metadata": {},
   "source": [
    "[Volver a la Tabla de Contenido](#TOC)"
   ]
  },
  {
   "cell_type": "markdown",
   "metadata": {},
   "source": [
    "#### Ejemplo"
   ]
  },
  {
   "cell_type": "markdown",
   "metadata": {
    "slideshow": {
     "slide_type": "subslide"
    }
   },
   "source": [
    "Ordenar el arreglo $[51,  21,  39,  80,  36]$"
   ]
  },
  {
   "attachments": {
    "Ordena_Seleccion3.PNG": {
     "image/png": "[encoded data removed]"
    }
   },
   "cell_type": "markdown",
   "metadata": {
    "slideshow": {
     "slide_type": "subslide"
    }
   },
   "source": [
    "![Ordena_Seleccion3.PNG](attachment:Ordena_Seleccion3.PNG)"
   ]
  },
  {
   "cell_type": "markdown",
   "metadata": {},
   "source": [
    "[Volver a la Tabla de Contenido](#TOC)"
   ]
  },
  {
   "cell_type": "markdown",
   "metadata": {},
   "source": [
    "#### Seudocódigo"
   ]
  },
  {
   "cell_type": "markdown",
   "metadata": {
    "slideshow": {
     "slide_type": "subslide"
    }
   },
   "source": [
    "<p float=\"center\">\n",
    "  <img src=\"https://github.com/carlosalvarezh/Analisis_de_Algoritmos/blob/master/images/Ordena_Seleccion_Seudocodigo.PNG?raw=true\" width=\"500\" />\n",
    "</p>\n"
   ]
  },
  {
   "cell_type": "code",
   "execution_count": null,
   "metadata": {
    "slideshow": {
     "slide_type": "subslide"
    }
   },
   "outputs": [],
   "source": [
    "def seleccion(lista,n):\n",
    "    for i in range(1,n-1):\n",
    "        for j in range(n-i):\n",
    "            if lista[j] > lista[j+1]:\n",
    "                aux = lista[j]\n",
    "                lista[j] = lista[j+1]\n",
    "                lista[j+1] = aux\n",
    "    return lista\n"
   ]
  },
  {
   "cell_type": "markdown",
   "metadata": {},
   "source": [
    "[Volver a la Tabla de Contenido](#TOC)"
   ]
  },
  {
   "cell_type": "markdown",
   "metadata": {
    "slideshow": {
     "slide_type": "slide"
    }
   },
   "source": [
    "### Ordenamiento por Insersión (Insertion)"
   ]
  },
  {
   "cell_type": "markdown",
   "metadata": {},
   "source": [
    "<p float=\"center\">\n",
    "  <img src=\"https://github.com/carlosalvarezh/Analisis_de_Algoritmos/blob/master/images/Sort_Insertion01.gif?raw=true\" width=\"400\" />\n",
    "</p>"
   ]
  },
  {
   "cell_type": "markdown",
   "metadata": {},
   "source": [
    "#### Algoritmo"
   ]
  },
  {
   "cell_type": "markdown",
   "metadata": {
    "slideshow": {
     "slide_type": "subslide"
    }
   },
   "source": [
    "Los pasos del algoritmo son:\n",
    "\n",
    "1. El primer elemento, $a_0$ se considera ordenado; es decir el arreglo inicial consta de un elemento.\n",
    "\n",
    "2. Se inserta $a_1$ en la posición correcta, delante o detrás de $a_0$, dependiendo de que sea mayor o menor.\n",
    "\n",
    "3. Por cada ciclo o iteración $i$ (𝑑𝑒𝑠𝑑𝑒 $i = 1$ hasta $n-1$) se explora la sublista $a_{i-1} \\ldots, a_{0}$ buscando la posición correcta de inserción; a la vez se mueve hacia la derecha en la sublista una posición todos los elementos mayores que el elemento a insertar $a_i$, para dejar vacía esa posición.\n",
    "\n",
    "4. Insertar el elemento en la posición correcta."
   ]
  },
  {
   "cell_type": "markdown",
   "metadata": {},
   "source": [
    "[Volver a la Tabla de Contenido](#TOC)"
   ]
  },
  {
   "cell_type": "markdown",
   "metadata": {},
   "source": [
    "#### Ejemplo"
   ]
  },
  {
   "cell_type": "markdown",
   "metadata": {
    "slideshow": {
     "slide_type": "subslide"
    }
   },
   "source": [
    "Ordenar el arreglo $[50,  20,  40,  80,  30]$"
   ]
  },
  {
   "attachments": {
    "Ordena_Insersion.PNG": {
     "image/png": "[encoded data removed]"
    }
   },
   "cell_type": "markdown",
   "metadata": {
    "slideshow": {
     "slide_type": "subslide"
    }
   },
   "source": [
    "![Ordena_Insersion.PNG](attachment:Ordena_Insersion.PNG)"
   ]
  },
  {
   "cell_type": "markdown",
   "metadata": {},
   "source": [
    "[Volver a la Tabla de Contenido](#TOC)"
   ]
  },
  {
   "cell_type": "markdown",
   "metadata": {},
   "source": [
    "#### Seudocódigo"
   ]
  },
  {
   "cell_type": "markdown",
   "metadata": {
    "slideshow": {
     "slide_type": "subslide"
    }
   },
   "source": [
    "<p float=\"center\">\n",
    "  <img src=\"https://github.com/carlosalvarezh/Analisis_de_Algoritmos/blob/master/images/Ordena_Insersion_Seudocodigo.PNG?raw=true\" width=\"500\" />\n",
    "</p>\n"
   ]
  },
  {
   "cell_type": "code",
   "execution_count": null,
   "metadata": {
    "slideshow": {
     "slide_type": "subslide"
    }
   },
   "outputs": [],
   "source": [
    "# CODIFIQUE AQUÍ EL ALGORITMO ..."
   ]
  },
  {
   "cell_type": "markdown",
   "metadata": {},
   "source": [
    "[Volver a la Tabla de Contenido](#TOC)"
   ]
  },
  {
   "cell_type": "markdown",
   "metadata": {
    "slideshow": {
     "slide_type": "slide"
    }
   },
   "source": [
    "### Ordenamiento Shell"
   ]
  },
  {
   "cell_type": "markdown",
   "metadata": {
    "slideshow": {
     "slide_type": "subslide"
    }
   },
   "source": [
    "**Inserción directa:** Cada elemento se compara con los elementos contiguos a su izquierda, uno tras otro.\n",
    "\n",
    "- Si el elemento a insertar es el menor hay qué realizar muchas comparaciones antes de colocar en su lugar definitivo.\n",
    "\n",
    "**Shell:** modifica los saltos contiguos resultantes de las comparaciones por saltos de mayor tamaño.\n",
    "\n",
    "- Generalmente se toma como salto inicial $n/2$ ($n$, número de elementos), luego se reduce el salto a la mitad en cada repetición hasta que le salto es de tamaño $1$.\n"
   ]
  },
  {
   "cell_type": "markdown",
   "metadata": {},
   "source": [
    "[Volver a la Tabla de Contenido](#TOC)"
   ]
  },
  {
   "cell_type": "markdown",
   "metadata": {},
   "source": [
    "#### Ejemplo"
   ]
  },
  {
   "cell_type": "markdown",
   "metadata": {
    "slideshow": {
     "slide_type": "subslide"
    }
   },
   "source": [
    "ordenar el arreglo $[6, 1, 5, 2, 3, 4, 0]$\n",
    "- $n = 7$, salto inicial $n/2 \\approx 3$"
   ]
  },
  {
   "cell_type": "markdown",
   "metadata": {
    "slideshow": {
     "slide_type": "subslide"
    }
   },
   "source": [
    "<p float=\"center\">\n",
    "  <img src=\"https://github.com/carlosalvarezh/Analisis_de_Algoritmos/blob/master/images/Ordena_Shell.PNG?raw=true\" width=\"500\" />\n",
    "</p>"
   ]
  },
  {
   "cell_type": "markdown",
   "metadata": {},
   "source": [
    "[Volver a la Tabla de Contenido](#TOC)"
   ]
  },
  {
   "cell_type": "markdown",
   "metadata": {},
   "source": [
    "#### Seudocódigo"
   ]
  },
  {
   "cell_type": "markdown",
   "metadata": {
    "scrolled": false,
    "slideshow": {
     "slide_type": "subslide"
    }
   },
   "source": [
    "<p float=\"center\">\n",
    "  <img src=\"https://github.com/carlosalvarezh/Analisis_de_Algoritmos/blob/master/images/Ordena_Shell_Seudocodigo.PNG?raw=true\" width=\"750\" />\n",
    "</p>\n"
   ]
  },
  {
   "cell_type": "code",
   "execution_count": null,
   "metadata": {
    "slideshow": {
     "slide_type": "subslide"
    }
   },
   "outputs": [],
   "source": [
    "# CODIFIQUE AQUÍ EL ALGORITMO ..."
   ]
  },
  {
   "cell_type": "markdown",
   "metadata": {},
   "source": [
    "[Volver a la Tabla de Contenido](#TOC)"
   ]
  },
  {
   "cell_type": "markdown",
   "metadata": {},
   "source": [
    "### Ordenamiento por mezcla (Merge sort)"
   ]
  },
  {
   "cell_type": "markdown",
   "metadata": {},
   "source": [
    "<p float=\"center\">\n",
    "  <img src=\"https://github.com/carlosalvarezh/Analisis_de_Algoritmos/blob/master/images/Sort_Merge01.gif?raw=true\" width=\"400\" />\n",
    "</p>\n"
   ]
  },
  {
   "cell_type": "markdown",
   "metadata": {},
   "source": [
    "[Volver a la Tabla de Contenido](#TOC)"
   ]
  },
  {
   "cell_type": "markdown",
   "metadata": {},
   "source": [
    "### Ordenamiento rápido (Quick sort)"
   ]
  },
  {
   "cell_type": "markdown",
   "metadata": {},
   "source": [
    "<p float=\"center\">\n",
    "  <img src=\"https://github.com/carlosalvarezh/Analisis_de_Algoritmos/blob/master/images/Sort_Quick01.gif?raw=true\" width=\"400\" />\n",
    "</p>\n"
   ]
  },
  {
   "cell_type": "markdown",
   "metadata": {},
   "source": [
    "[Volver a la Tabla de Contenido](#TOC)"
   ]
  },
  {
   "cell_type": "markdown",
   "metadata": {},
   "source": [
    "### Comparación entre algoritmos de ordenamiento"
   ]
  },
  {
   "cell_type": "markdown",
   "metadata": {},
   "source": [
    "<p float=\"center\">\n",
    "  <img src=\"https://github.com/carlosalvarezh/Analisis_de_Algoritmos/blob/master/images/SortComparisson.gif?raw=true\" width=\"600\" />\n",
    "</p>\n",
    "\n",
    "\n",
    "<div style=\"text-align: right\"> Fuente: <a href=\"https://www.toptal.com/developers/sorting-algorithms\">Toptal</a> </div>"
   ]
  },
  {
   "cell_type": "markdown",
   "metadata": {},
   "source": [
    "[Volver a la Tabla de Contenido](#TOC)"
   ]
  },
  {
   "cell_type": "markdown",
   "metadata": {},
   "source": [
    "### Complejidad en algoritmos de ordenamiento"
   ]
  },
  {
   "cell_type": "markdown",
   "metadata": {},
   "source": [
    "<p float=\"center\">\n",
    "  <img src=\"https://github.com/carlosalvarezh/Analisis_de_Algoritmos/blob/master/images/ComplexitySortingAlgorithms.PNG?raw=true\" width=\"500\" />\n",
    "</p>\n",
    "\n",
    "\n",
    "<div style=\"text-align: right\"> Fuente: <a href=\"https://www.bigocheatsheet.com/\">Bigocheatsheet</a> </div>"
   ]
  },
  {
   "cell_type": "markdown",
   "metadata": {},
   "source": [
    "[Volver a la Tabla de Contenido](#TOC)"
   ]
  },
  {
   "cell_type": "markdown",
   "metadata": {
    "slideshow": {
     "slide_type": "slide"
    }
   },
   "source": [
    "## Búsqueda"
   ]
  },
  {
   "cell_type": "markdown",
   "metadata": {
    "slideshow": {
     "slide_type": "subslide"
    }
   },
   "source": [
    "Cuando se trabaja con grandes cantidades de datos es necesario determinar si una estructura contiene un valor que coincida con un cierto valor clave. El proceso de encontrar un elemento específico se denomina búsqueda. \n",
    "\n",
    " Se analizarán dos técnicas de búsqueda:\n",
    " \n",
    " - Lineal o secuencial: más sencilla, \n",
    " \n",
    " - Binaria o dicotómica: más eficiente.\n",
    "\n",
    "**Ejemplo:** encontrar un nombre en una guía telefónica para consultar su teléfono."
   ]
  },
  {
   "cell_type": "markdown",
   "metadata": {},
   "source": [
    "[Volver a la Tabla de Contenido](#TOC)"
   ]
  },
  {
   "cell_type": "markdown",
   "metadata": {},
   "source": [
    "### Búsqueda Secuencial"
   ]
  },
  {
   "cell_type": "markdown",
   "metadata": {
    "slideshow": {
     "slide_type": "subslide"
    }
   },
   "source": [
    "- El algoritmo de búsqueda secuencial compara cada elemento del conjunto de datos con la clave de búsqueda. \n",
    "\n",
    "\n",
    "- Dado que el conjunto no está en un orden particular, es probable que el elemento a buscar sea el primer elemento, el último o cualquier otro. \n",
    "\n",
    "\n",
    "- En promedio, el algoritmo tendrá que comparar la clave de búsqueda con al menos la mitad de los elementos. \n",
    "\n",
    "\n",
    "- Este método funciona bien con conjuntos pequeños o no ordenados. La eficiencia de la búsqueda secuencial o lineal es pobre."
   ]
  },
  {
   "cell_type": "markdown",
   "metadata": {
    "slideshow": {
     "slide_type": "subslide"
    }
   },
   "source": [
    "**Ejemplo:** Buscar el elemento `u`:\n",
    "\n",
    "<p float=\"center\">\n",
    "  <img src=\"https://github.com/carlosalvarezh/Analisis_de_Algoritmos/blob/master/images/Busqueda01.PNG?raw=true\" width=\"500\" />\n",
    "</p>"
   ]
  },
  {
   "cell_type": "markdown",
   "metadata": {},
   "source": [
    "[Volver a la Tabla de Contenido](#TOC)"
   ]
  },
  {
   "cell_type": "markdown",
   "metadata": {},
   "source": [
    "#### Seudocódigo"
   ]
  },
  {
   "cell_type": "markdown",
   "metadata": {
    "slideshow": {
     "slide_type": "subslide"
    }
   },
   "source": [
    "<p float=\"center\">\n",
    "  <img src=\"https://github.com/carlosalvarezh/Analisis_de_Algoritmos/blob/master/images/Busqueda03.PNG?raw=true\" width=\"500\" />\n",
    "</p>\n"
   ]
  },
  {
   "cell_type": "code",
   "execution_count": null,
   "metadata": {
    "slideshow": {
     "slide_type": "subslide"
    }
   },
   "outputs": [],
   "source": [
    "clave = input(\"Ingrese el elemento a encontrar\")\n",
    "#lista = ['c','o','m','p','u','t','a','c','i','o','n']\n",
    "lista = \"computacion\"\n",
    "n = len(lista)\n",
    "for i in range(n):\n",
    "    if lista[i] == clave:\n",
    "        print(\"la clave está en la posición: \", i)"
   ]
  },
  {
   "cell_type": "markdown",
   "metadata": {
    "slideshow": {
     "slide_type": "subslide"
    }
   },
   "source": [
    "<p float=\"center\">\n",
    "  <img src=\"https://github.com/carlosalvarezh/Analisis_de_Algoritmos/blob/master/images/Busqueda04.PNG?raw=true\" width=\"400\" />\n",
    "</p>\n"
   ]
  },
  {
   "cell_type": "code",
   "execution_count": null,
   "metadata": {
    "slideshow": {
     "slide_type": "subslide"
    }
   },
   "outputs": [],
   "source": [
    "mayor = lista[0]\n",
    "for i in range(1,n):\n",
    "    if lista[i] > mayor:\n",
    "        mayor = lista[i]\n",
    "print(\"el mayor es: \", mayor)"
   ]
  },
  {
   "cell_type": "markdown",
   "metadata": {},
   "source": [
    "[Volver a la Tabla de Contenido](#TOC)"
   ]
  },
  {
   "cell_type": "markdown",
   "metadata": {},
   "source": [
    "#### Eficiencia y Complejidad"
   ]
  },
  {
   "cell_type": "markdown",
   "metadata": {
    "slideshow": {
     "slide_type": "subslide"
    }
   },
   "source": [
    "Considerando la cantidad de comparaciones\n",
    "\n",
    "**- Mejor caso: 1.** El elemento buscado está en la primera posición, es decir, se hace una sola comparación.\n",
    "\n",
    "**- Peor caso: $n$.** El elemento buscado está en la última posición, necesitando igual número de comparaciones que la cantidad total de elementos en el arreglo.\n",
    "\n",
    "**- Caso promedio: $n/2$.** El elemento buscado estará cerca de la mitad, necesitando, en promedio, la mitad de comparaciones.\n",
    "\n",
    "La velocidad de ejecución depende linealmente del tamaño del arreglo."
   ]
  },
  {
   "cell_type": "markdown",
   "metadata": {},
   "source": [
    "[Volver a la Tabla de Contenido](#TOC)"
   ]
  },
  {
   "cell_type": "markdown",
   "metadata": {},
   "source": [
    "### Búsqueda Binaria"
   ]
  },
  {
   "cell_type": "markdown",
   "metadata": {
    "slideshow": {
     "slide_type": "slide"
    }
   },
   "source": [
    "- La búsqueda secuencial se aplica a cualquier lista. \n",
    "\n",
    "\n",
    "- Si la lista está ordenada, la búsqueda binaria proporciona una técnica de búsqueda mejorada. \n",
    "\n",
    "\n",
    "- Una búsqueda binaria típica es la búsqueda de una palabra en un diccionario. \n",
    "\n",
    "\n",
    "- Una idea similar se aplica en la búsqueda en una lista ordenada. \n",
    "\n",
    "  - Se sitúa la lectura en el centro de la lista y se comprueba si la clave coincide con el valor del elemento central. Si no se encuentra el valor de la clave, se sigue la búsqueda uno en la mitad inferior o superior del elemento central de la lista. \n",
    " \n",
    "  - En general, si los datos de la lista están ordenados se puede utilizar esa información para acortar el tiempo de búsqueda.\n"
   ]
  },
  {
   "cell_type": "markdown",
   "metadata": {},
   "source": [
    "[Volver a la Tabla de Contenido](#TOC)"
   ]
  },
  {
   "cell_type": "markdown",
   "metadata": {},
   "source": [
    "#### Algoritmo"
   ]
  },
  {
   "cell_type": "markdown",
   "metadata": {
    "slideshow": {
     "slide_type": "subslide"
    }
   },
   "source": [
    "Suponiendo la lista almacenada en un arreglo, los índices de la lista son: `bajo=0` y `alto=n-1`, y `n` es el número de elementos en el arreglo.\n",
    "\n",
    "1. Calcular el índice del punto central del arreglo: `central = mod((bajo+alto)/2)` (división entera)\n",
    "\n",
    "2. Comparar el valor de este elemento central con la clave:"
   ]
  },
  {
   "cell_type": "markdown",
   "metadata": {
    "slideshow": {
     "slide_type": "fragment"
    }
   },
   "source": [
    "<p float=\"center\">\n",
    "  <img src=\"https://github.com/carlosalvarezh/Analisis_de_Algoritmos/blob/master/images/Binaria01.PNG?raw=true\" width=\"500\" />\n",
    "</p>\n"
   ]
  },
  {
   "cell_type": "markdown",
   "metadata": {
    "slideshow": {
     "slide_type": "fragment"
    }
   },
   "source": [
    "- Si `a[central]<clave`, la nueva sublista de búsqueda tiene por valores extremos de su rango `bajo = central+1 … alto`.\n",
    "\n",
    "\n",
    "- Si `a[central]>clave`, la nueva sublista de búsqueda tiene por valores extremos de su rango `bajo … central-1 = alto`."
   ]
  },
  {
   "cell_type": "markdown",
   "metadata": {
    "slideshow": {
     "slide_type": "fragment"
    }
   },
   "source": [
    "<p float=\"center\">\n",
    "  <img src=\"https://github.com/carlosalvarezh/Analisis_de_Algoritmos/blob/master/images/Binaria02.PNG?raw=true\" width=\"500\" />\n",
    "</p>\n"
   ]
  },
  {
   "cell_type": "markdown",
   "metadata": {
    "slideshow": {
     "slide_type": "subslide"
    }
   },
   "source": [
    "El algoritmo termina o porque se ha encontrado la clave, o porque el valor `bajo` excede a `alto`, y el algoritmo devuelve el indicador de fallo `-1` (búsqueda no encontrada)."
   ]
  },
  {
   "cell_type": "markdown",
   "metadata": {
    "slideshow": {
     "slide_type": "subslide"
    }
   },
   "source": [
    "***Ejemplo:*** Buscar la clave `40` en el siguiente arreglo:\n",
    "\n",
    "<p float=\"center\">\n",
    "  <img src=\"https://github.com/carlosalvarezh/Analisis_de_Algoritmos/blob/master/images/Binaria03.PNG?raw=true\" width=\"500\" />\n",
    "</p>\n"
   ]
  },
  {
   "cell_type": "markdown",
   "metadata": {
    "slideshow": {
     "slide_type": "fragment"
    }
   },
   "source": [
    "<p float=\"center\">\n",
    "  <img src=\"https://github.com/carlosalvarezh/Analisis_de_Algoritmos/blob/master/images/Binaria04.PNG?raw=true\" width=\"500\" />\n",
    "</p>\n"
   ]
  },
  {
   "cell_type": "markdown",
   "metadata": {
    "slideshow": {
     "slide_type": "subslide"
    }
   },
   "source": [
    "Buscar en la sublista derecha de Central:\n",
    "\n",
    "<p float=\"center\">\n",
    "  <img src=\"https://github.com/carlosalvarezh/Analisis_de_Algoritmos/blob/master/images/Binaria05.PNG?raw=true\" width=\"500\" />\n",
    "</p>\n"
   ]
  },
  {
   "cell_type": "markdown",
   "metadata": {
    "slideshow": {
     "slide_type": "subslide"
    }
   },
   "source": [
    "Buscar en la sublista derecha de Central:\n",
    "\n",
    "<p float=\"center\">\n",
    "  <img src=\"https://github.com/carlosalvarezh/Analisis_de_Algoritmos/blob/master/images/Binaria06.PNG?raw=true\" width=\"500\" />\n",
    "</p>\n"
   ]
  },
  {
   "cell_type": "markdown",
   "metadata": {
    "slideshow": {
     "slide_type": "subslide"
    }
   },
   "source": [
    "El algoritmo ha requerido 3 comparaciones frente a 8 comparaciones que se hubieran requerido con la búsqueda secuencial."
   ]
  },
  {
   "cell_type": "markdown",
   "metadata": {},
   "source": [
    "[Volver a la Tabla de Contenido](#TOC)"
   ]
  },
  {
   "cell_type": "markdown",
   "metadata": {},
   "source": [
    "#### Seudocódigo"
   ]
  },
  {
   "cell_type": "markdown",
   "metadata": {
    "slideshow": {
     "slide_type": "subslide"
    }
   },
   "source": [
    "<p float=\"center\">\n",
    "  <img src=\"https://github.com/carlosalvarezh/Analisis_de_Algoritmos/blob/master/images/Binaria07.PNG?raw=true\" width=\"500\" />\n",
    "</p>\n"
   ]
  },
  {
   "cell_type": "code",
   "execution_count": null,
   "metadata": {
    "slideshow": {
     "slide_type": "subslide"
    }
   },
   "outputs": [],
   "source": [
    "lista = [-8, 1, 3, 6, 9, 15, 23, 87, 109]\n",
    "dato = 6\n",
    "\n",
    "inf = 0\n",
    "sup = len(lista) - 1\n",
    "niter = 0\n",
    "while inf <= sup:\n",
    "    centro = (sup + inf) // 2\n",
    "    if lista[centro] == dato:\n",
    "        print('el dato está en la posición {0} y requirió de {1} iteraciones.'.format(centro,niter))\n",
    "        break\n",
    "    else:\n",
    "        if dato < lista[centro]:\n",
    "            sup = centro - 1\n",
    "        else:\n",
    "            inf = centro + 1\n",
    "            niter += 1\n",
    "else:\n",
    "    print('El elemento no se encuentra en la lista')"
   ]
  },
  {
   "cell_type": "markdown",
   "metadata": {},
   "source": [
    "[Volver a la Tabla de Contenido](#TOC)"
   ]
  },
  {
   "cell_type": "markdown",
   "metadata": {},
   "source": [
    "#### Eficiencia y Complejidad"
   ]
  },
  {
   "cell_type": "markdown",
   "metadata": {
    "slideshow": {
     "slide_type": "subslide"
    }
   },
   "source": [
    "Considerando la cantidad de comparaciones\n",
    "\n",
    "**- Mejor caso: $1$.** El elemento buscado está en el centro, por lo tanto se hace una sola comparación.\n",
    "\n",
    "\n",
    "**- Peor caso: $log(n)$.** El elemento buscado está en una esquina.\n",
    "\n",
    "\n",
    "**- Caso promedio: $log(n/2)$.**\n",
    "\n",
    "\n",
    "La velocidad de ejecución depende logarítmicamente del tamaño del arreglo."
   ]
  },
  {
   "cell_type": "markdown",
   "metadata": {},
   "source": [
    "[Volver a la Tabla de Contenido](#TOC)"
   ]
  },
  {
   "cell_type": "markdown",
   "metadata": {},
   "source": [
    "### Comparación: Búsqueda Binaria y Secuencial"
   ]
  },
  {
   "cell_type": "markdown",
   "metadata": {
    "slideshow": {
     "slide_type": "slide"
    }
   },
   "source": [
    "<p float=\"center\">\n",
    "  <img src=\"https://github.com/carlosalvarezh/Analisis_de_Algoritmos/blob/master/images/ComparacionBinariaSecuencial.png?raw=true\" width=\"500\" />\n",
    "</p>\n"
   ]
  },
  {
   "cell_type": "markdown",
   "metadata": {},
   "source": [
    "[Volver a la Tabla de Contenido](#TOC)"
   ]
  },
  {
   "cell_type": "markdown",
   "metadata": {},
   "source": [
    "### Complejidad en algoritmos de búsqueda"
   ]
  },
  {
   "cell_type": "markdown",
   "metadata": {},
   "source": [
    "|  Algoritmo  | Mejor caso | Caso medio | Peor caso |\n",
    "|:------------|:----------:|:----------:|:---------:|\n",
    "|Secuencial   | O(1)       |  O(n)      |  O(n)     |\n",
    "|Binaria      | O(1)       |  O(log(n)) |  O(log(n))|"
   ]
  },
  {
   "cell_type": "markdown",
   "metadata": {},
   "source": [
    "[Volver a la Tabla de Contenido](#TOC)"
   ]
  },
  {
   "cell_type": "markdown",
   "metadata": {},
   "source": [
    "## Desafío de clase"
   ]
  },
  {
   "cell_type": "markdown",
   "metadata": {
    "slideshow": {
     "slide_type": "slide"
    }
   },
   "source": [
    "En la literatura se encuentran muchos otros algoritmos de ordenammiento. Seleccione uno de ellos (diferente a los vistos aquí) e impleméntelo en un lenguaje de programación. Realice un análisis de complejidad del algoritmo seleccionado y compárelo con los restantes algoritmos vistos en clase. Realice un breve documento para el análisis."
   ]
  },
  {
   "cell_type": "markdown",
   "metadata": {},
   "source": [
    "[Volver a la Tabla de Contenido](#TOC)"
   ]
  },
  {
   "cell_type": "markdown",
   "metadata": {},
   "source": [
    "## Solucionario Programming Lab2"
   ]
  },
  {
   "cell_type": "code",
   "execution_count": 1,
   "metadata": {},
   "outputs": [],
   "source": [
    "import random\n",
    "import numpy as np\n",
    "import matplotlib.pyplot as plt"
   ]
  },
  {
   "cell_type": "code",
   "execution_count": 2,
   "metadata": {},
   "outputs": [
    {
     "name": "stdout",
     "output_type": "stream",
     "text": [
      "[ 1.  2.  3.  4.  5.  6.  7.  8.  9. 10. 11. 12. 13. 14. 15. 16. 17. 18.\n",
      " 19. 20. 21. 22. 23. 24. 25. 26. 27. 28. 29. 30. 31. 32. 33. 34. 35. 36.\n",
      " 37. 38. 39. 40. 41. 42. 43. 44. 45. 46. 47. 48. 49. 50.]\n"
     ]
    }
   ],
   "source": [
    "x = np.linspace(1,50)\n",
    "print(x)"
   ]
  },
  {
   "cell_type": "code",
   "execution_count": 7,
   "metadata": {},
   "outputs": [
    {
     "name": "stdout",
     "output_type": "stream",
     "text": [
      "[10, 44, 22, 1, 24, 21, 14, 46, 42, 31, 25, 34, 35, 28, 4, 48, 16, 33, 23, 6, 47, 36, 43, 9, 5, 7, 18, 41, 12, 3, 13, 19, 39, 32, 37, 45, 8, 26, 17, 15, 0, 11, 38, 27, 29, 2, 30, 20, 49, 40]\n"
     ]
    },
    {
     "data": {
      "image/png": "[encoded data removed]",
      "text/plain": [
       "<Figure size 432x288 with 1 Axes>"
      ]
     },
     "metadata": {
      "needs_background": "light"
     },
     "output_type": "display_data"
    }
   ],
   "source": [
    "# Genera lista sin duplicados - Random\n",
    "\n",
    "yrnd = random.sample(range(50), 50)\n",
    "print(yrnd)\n",
    "\n",
    "plt.bar(x, yrnd);"
   ]
  },
  {
   "cell_type": "code",
   "execution_count": 8,
   "metadata": {},
   "outputs": [
    {
     "name": "stdout",
     "output_type": "stream",
     "text": [
      "[50, 49, 48, 47, 46, 45, 44, 43, 42, 41, 40, 39, 38, 37, 36, 35, 34, 33, 32, 31, 30, 29, 28, 27, 26, 25, 24, 23, 22, 21, 20, 19, 18, 17, 16, 15, 14, 13, 12, 11, 10, 9, 8, 7, 6, 5, 4, 3, 2, 1]\n"
     ]
    },
    {
     "data": {
      "image/png": "[encoded data removed]",
      "text/plain": [
       "<Figure size 432x288 with 1 Axes>"
      ]
     },
     "metadata": {
      "needs_background": "light"
     },
     "output_type": "display_data"
    }
   ],
   "source": [
    "#Genera lista en orden inverso - Reversed\n",
    "\n",
    "yrev = [i for i in range(50,0,-1)]\n",
    "print(yrev)\n",
    "\n",
    "plt.bar(x, yrev);"
   ]
  },
  {
   "cell_type": "code",
   "execution_count": 9,
   "metadata": {},
   "outputs": [
    {
     "name": "stdout",
     "output_type": "stream",
     "text": [
      "[4, 4, 8, 5, 8, 8, 9, 2, 8, 3, 10, 4, 2, 8, 7, 9, 4, 9, 8, 8, 8, 1, 8, 6, 3, 2, 1, 5, 3, 5, 2, 3, 5, 7, 6, 6, 1, 4, 8, 6, 1, 6, 8, 2, 8, 2, 3, 10, 10, 9]\n"
     ]
    },
    {
     "data": {
      "image/png": "[encoded data removed]",
      "text/plain": [
       "<Figure size 432x288 with 1 Axes>"
      ]
     },
     "metadata": {
      "needs_background": "light"
     },
     "output_type": "display_data"
    }
   ],
   "source": [
    "# Genera lista con datos repetidos - Few unique\n",
    "\n",
    "yfu = [random.randint(1,10) for x in range(50)]\n",
    "print(yfu)\n",
    "\n",
    "plt.bar(x, yfu);"
   ]
  },
  {
   "cell_type": "code",
   "execution_count": 13,
   "metadata": {},
   "outputs": [
    {
     "name": "stdout",
     "output_type": "stream",
     "text": [
      "50\n"
     ]
    },
    {
     "data": {
      "image/png": "[encoded data removed]",
      "text/plain": [
       "<Figure size 432x288 with 1 Axes>"
      ]
     },
     "metadata": {
      "needs_background": "light"
     },
     "output_type": "display_data"
    }
   ],
   "source": [
    "def nearly_sorted_numbers(n):\n",
    "    if n >= 100:\n",
    "        x = (int)(n/10)\n",
    "    elif n >= 10:\n",
    "        x = 9\n",
    "    else:\n",
    "        x = 4 \n",
    "    numbers = []    \n",
    "    for i in range(1,n):\n",
    "        if i%x==0: \n",
    "            numbers.append(random.randint(0,n))\n",
    "        else:\n",
    "            numbers.append(i)\n",
    "    return numbers\n",
    "\n",
    "yns = nearly_sorted_numbers(51)\n",
    "print(len(yns))\n",
    "\n",
    "plt.bar(x, yns);"
   ]
  },
  {
   "cell_type": "code",
   "execution_count": 14,
   "metadata": {},
   "outputs": [
    {
     "data": {
      "image/png": "[encoded data removed]",
      "text/plain": [
       "<Figure size 432x288 with 1 Axes>"
      ]
     },
     "metadata": {
      "needs_background": "light"
     },
     "output_type": "display_data"
    }
   ],
   "source": [
    "yns1 = np.linspace(1,50)\n",
    "plt.bar(x, yns1);"
   ]
  },
  {
   "cell_type": "code",
   "execution_count": null,
   "metadata": {},
   "outputs": [],
   "source": []
  }
 ],
 "metadata": {
  "anaconda-cloud": {},
  "kernelspec": {
   "display_name": "Python 3",
   "language": "python",
   "name": "python3"
  },
  "language_info": {
   "codemirror_mode": {
    "name": "ipython",
    "version": 3
   },
   "file_extension": ".py",
   "mimetype": "text/x-python",
   "name": "python",
   "nbconvert_exporter": "python",
   "pygments_lexer": "ipython3",
   "version": "3.6.13"
  },
  "latex_envs": {
   "LaTeX_envs_menu_present": true,
   "autocomplete": true,
   "bibliofile": "biblio.bib",
   "cite_by": "apalike",
   "current_citInitial": 1,
   "eqLabelWithNumbers": true,
   "eqNumInitial": 1,
   "hotkeys": {
    "equation": "Ctrl-E",
    "itemize": "Ctrl-I"
   },
   "labels_anchors": false,
   "latex_user_defs": false,
   "report_style_numbering": true,
   "user_envs_cfg": true
  },
  "toc": {
   "base_numbering": 1,
   "nav_menu": {},
   "number_sections": true,
   "sideBar": true,
   "skip_h1_title": true,
   "title_cell": "Table of Contents",
   "title_sidebar": "Contents",
   "toc_cell": true,
   "toc_position": {},
   "toc_section_display": true,
   "toc_window_display": true
  }
 },
 "nbformat": 4,
 "nbformat_minor": 2
}
