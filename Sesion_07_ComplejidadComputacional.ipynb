{
 "cells": [
  {
   "cell_type": "markdown",
   "metadata": {
    "slideshow": {
     "slide_type": "slide"
    }
   },
   "source": [
    "<h1 align=\"center\">ANÁLISIS DE ALGORITMOS</h1>\n",
    "\n",
    "<h1 align=\"center\">Sesión 07: Complejidad Computacional</h1>\n",
    "\n",
    "<h1 align=\"center\">MEDELLÍN - COLOMBIA </h1>\n",
    "\n",
    "<h1 align=\"center\">2021 </h1>"
   ]
  },
  {
   "cell_type": "markdown",
   "metadata": {
    "slideshow": {
     "slide_type": "slide"
    }
   },
   "source": [
    "<table>\n",
    " <tr align=left><td><img align=left src=\"https://github.com/carlosalvarezh/Analisis_de_Algoritmos/blob/master/images/CC-BY.png?raw=true\">\n",
    " <td>Text provided under a Creative Commons Attribution license, CC-BY. All code is made available under the FSF-approved MIT license.(c) Carlos Alberto Alvarez Henao</td>\n",
    "</table>"
   ]
  },
  {
   "cell_type": "markdown",
   "metadata": {},
   "source": [
    "*** \n",
    "\n",
    "***Docente:*** Carlos Alberto Álvarez Henao, I.C. D.Sc.\n",
    "\n",
    "***e-mail:*** carlosalvarezh@gmail.com\n",
    "\n",
    "***skype:*** carlos.alberto.alvarez.henao\n",
    "\n",
    "***Linkedin:*** https://www.linkedin.com/in/carlosalvarez5/\n",
    "\n",
    "***github:*** https://github.com/carlosalvarezh/Metodos_Numericos\n",
    "\n",
    "***Herramienta:*** [Jupyter](http://jupyter.org/)\n",
    "\n",
    "***Kernel:*** Python 3.8\n",
    "\n",
    "\n",
    "***"
   ]
  },
  {
   "cell_type": "markdown",
   "metadata": {},
   "source": [
    "<a id='TOC'></a>"
   ]
  },
  {
   "cell_type": "markdown",
   "metadata": {
    "toc": true
   },
   "source": [
    "<h1>Table of Contents<span class=\"tocSkip\"></span></h1>\n",
    "<div class=\"toc\"><ul class=\"toc-item\"><li><span><a href=\"#Complejidad-Computacional\" data-toc-modified-id=\"Complejidad-Computacional-1\"><span class=\"toc-item-num\">1&nbsp;&nbsp;</span>Complejidad Computacional</a></span><ul class=\"toc-item\"><li><span><a href=\"#Introducción\" data-toc-modified-id=\"Introducción-1.1\"><span class=\"toc-item-num\">1.1&nbsp;&nbsp;</span>Introducción</a></span></li><li><span><a href=\"#La-complejidad-computacional-y-los-problemas-de-decisión.\" data-toc-modified-id=\"La-complejidad-computacional-y-los-problemas-de-decisión.-1.2\"><span class=\"toc-item-num\">1.2&nbsp;&nbsp;</span>La complejidad computacional y los problemas de decisión.</a></span></li><li><span><a href=\"#Teoría-de-la-información\" data-toc-modified-id=\"Teoría-de-la-información-1.3\"><span class=\"toc-item-num\">1.3&nbsp;&nbsp;</span>Teoría de la información</a></span></li><li><span><a href=\"#Entropía-temprana:-una-medida-de-incertidumbre\" data-toc-modified-id=\"Entropía-temprana:-una-medida-de-incertidumbre-1.4\"><span class=\"toc-item-num\">1.4&nbsp;&nbsp;</span>Entropía temprana: una medida de incertidumbre</a></span></li></ul></li><li><span><a href=\"#Clases-P-y-NP\" data-toc-modified-id=\"Clases-P-y-NP-2\"><span class=\"toc-item-num\">2&nbsp;&nbsp;</span>Clases P y NP</a></span><ul class=\"toc-item\"><li><span><a href=\"#¿Comprobar-o-resolver?\" data-toc-modified-id=\"¿Comprobar-o-resolver?-2.1\"><span class=\"toc-item-num\">2.1&nbsp;&nbsp;</span>¿Comprobar o resolver?</a></span></li><li><span><a href=\"#Resolver-o-comprobar-es-cuestión-de-tiempo\" data-toc-modified-id=\"Resolver-o-comprobar-es-cuestión-de-tiempo-2.2\"><span class=\"toc-item-num\">2.2&nbsp;&nbsp;</span>Resolver o comprobar es cuestión de tiempo</a></span></li><li><span><a href=\"#El-tamaño-importa\" data-toc-modified-id=\"El-tamaño-importa-2.3\"><span class=\"toc-item-num\">2.3&nbsp;&nbsp;</span>El tamaño importa</a></span></li><li><span><a href=\"#Otros-ejemplos,-otros-problemas:\" data-toc-modified-id=\"Otros-ejemplos,-otros-problemas:-2.4\"><span class=\"toc-item-num\">2.4&nbsp;&nbsp;</span>Otros ejemplos, otros problemas:</a></span><ul class=\"toc-item\"><li><span><a href=\"#Primer-problema:\" data-toc-modified-id=\"Primer-problema:-2.4.1\"><span class=\"toc-item-num\">2.4.1&nbsp;&nbsp;</span>Primer problema:</a></span></li><li><span><a href=\"#Segundo-problema:\" data-toc-modified-id=\"Segundo-problema:-2.4.2\"><span class=\"toc-item-num\">2.4.2&nbsp;&nbsp;</span>Segundo problema:</a></span></li></ul></li><li><span><a href=\"#Problemas-tipo-P\" data-toc-modified-id=\"Problemas-tipo-P-2.5\"><span class=\"toc-item-num\">2.5&nbsp;&nbsp;</span>Problemas tipo P</a></span></li><li><span><a href=\"#Problemas-de-tipo-NP\" data-toc-modified-id=\"Problemas-de-tipo-NP-2.6\"><span class=\"toc-item-num\">2.6&nbsp;&nbsp;</span>Problemas de tipo NP</a></span></li><li><span><a href=\"#Todos-los-problemas-P-son-NP\" data-toc-modified-id=\"Todos-los-problemas-P-son-NP-2.7\"><span class=\"toc-item-num\">2.7&nbsp;&nbsp;</span>Todos los problemas P son NP</a></span></li><li><span><a href=\"#¿P=NP?\" data-toc-modified-id=\"¿P=NP?-2.8\"><span class=\"toc-item-num\">2.8&nbsp;&nbsp;</span>¿P=NP?</a></span></li><li><span><a href=\"#Problemas-NP-completos\" data-toc-modified-id=\"Problemas-NP-completos-2.9\"><span class=\"toc-item-num\">2.9&nbsp;&nbsp;</span>Problemas NP-completos</a></span></li></ul></li><li><span><a href=\"#Ejemplos-y-desafíos\" data-toc-modified-id=\"Ejemplos-y-desafíos-3\"><span class=\"toc-item-num\">3&nbsp;&nbsp;</span>Ejemplos y desafíos</a></span></li></ul></div>"
   ]
  },
  {
   "cell_type": "markdown",
   "metadata": {
    "slideshow": {
     "slide_type": "slide"
    }
   },
   "source": [
    "## Complejidad Computacional "
   ]
  },
  {
   "cell_type": "markdown",
   "metadata": {},
   "source": [
    "<p float=\"center\">\n",
    "  <img src=\"https://github.com/carlosalvarezh/Analisis_de_Algoritmos/blob/master/images/PvsNP.jpeg?raw=true\" width=\"250\" />\n",
    "</p>\n"
   ]
  },
  {
   "cell_type": "markdown",
   "metadata": {},
   "source": [
    "### Introducción"
   ]
  },
  {
   "cell_type": "markdown",
   "metadata": {},
   "source": [
    "La teoría de la computación es una ciencia, específicamente una rama de la matemática y de la computación, que centra su interés en estudio y definición formal de los cómputos y su principal objetivo es responder ***¿Cuáles son las capacidades y limitaciones de los ordenadores?*** Para ello se vale de otras teorías como *teoría de autómatas*, *teoría de computabilidad* y *teoría de complejidad computacional*."
   ]
  },
  {
   "cell_type": "markdown",
   "metadata": {
    "slideshow": {
     "slide_type": "subslide"
    }
   },
   "source": [
    "- ***Teoría de autómatas:*** estudia las máquinas abstractas y los problemas que éstas son capaces de resolver. La teoría de autómatas está estrechamente relacionada con la teoría del lenguaje formal ya que los autómatas son clasificados a menudo por la clase de lenguajes formales que son capaces de reconocer. Tiene un papel central en varias aplicaciones de las ciencias de la computación, incluyendo procesamiento de texto, compiladores, diseño de hardware e inteligencia artificial."
   ]
  },
  {
   "cell_type": "markdown",
   "metadata": {
    "slideshow": {
     "slide_type": "subslide"
    }
   },
   "source": [
    "- ***Teoría de la computabilidad:*** explora los límites de la posibilidad de solucionar problemas mediante algoritmos. Gran parte de las ciencias computacionales están dedicadas a resolver problemas de forma algorítmica, de manera que el descubrimiento de problemas imposibles es una gran sorpresa."
   ]
  },
  {
   "cell_type": "markdown",
   "metadata": {
    "slideshow": {
     "slide_type": "subslide"
    }
   },
   "source": [
    "- ***Teoría de la Complejidad Computacional:*** se centra en la clasificación de los problemas computacionales de acuerdo a su dificultad inherente, y en la relación entre dichas clases de complejidad. Estudia la eficiencia de los algoritmos estableciendo su efectividad de acuerdo al tiempo de corrida y al espacio requerido en la computadora o almacenamiento de datos, ayudando a evaluar la viabilidad de la implementación práctica en tiempo y costo."
   ]
  },
  {
   "cell_type": "markdown",
   "metadata": {
    "slideshow": {
     "slide_type": "subslide"
    }
   },
   "source": [
    "La historia de la teoría computacional comienza con uno de los aportes más influyentes como lo fue la [Máquina de Turing](https://es.wikipedia.org/wiki/Máquina_de_Turing \"Máquina de Turing\") en $1936$, las cuales resultaron ser una noción de computadora muy flexible y robusta. A medida que las computadoras se desarrollaban en los $40’s$ y los $50’s$, la *Máquina de Turing* demostró ser el modelo teórico correcto de cómputo. Aunque luego se comprobó estas máquinas fallaban al cuantificar el tiempo y la memoria requerida por una computadora, constituyendo un problema critico. La idea de medir el tiempo y espacio como una función de la longitud de la entrada, se originó a principios de los $60’s$ por *Hartmanis and Stearns*, y así, nació la teoría de la complejidad computacional."
   ]
  },
  {
   "cell_type": "markdown",
   "metadata": {
    "slideshow": {
     "slide_type": "subslide"
    }
   },
   "source": [
    "En los inicios, los investigadores trataban de entender las nuevas medidas de complejidad, y cómo se relacionaban unas con otras. En $1965$, *Edmonds* definió un  algoritmo en el cual un polinomio acotaba el tiempo de ejecución (de aquí nace el término [tiempo polinómico](https://es.wikipedia.org/wiki/P_(clase_de_complejidad) \"Tiempo Polinómico\")), lo que conllevó a la formulación de uno de los conceptos más importantes de la teoría de la complejidad computacional: la $\\text{NP-completitud}$ y su pregunta fundamental, si ¿$\\text{P=NP}$? lo que en palabras comunes y silvestres pregunta si ***¿es posible “verificar” rápidamente soluciones positivas a un problema del tipo SI/NO?***, y de ser afirmativa la respuesta *¿es que entonces también se pueden “obtener” las respuestas rápidamente?*"
   ]
  },
  {
   "cell_type": "markdown",
   "metadata": {
    "slideshow": {
     "slide_type": "subslide"
    }
   },
   "source": [
    "El objetivo principal de esta teoría es la creación de mecanismos y herramientas capaces de describir y analizar la complejidad de un algoritmo y la complejidad intrínseca de un problema. En otras palabras, busca la respuesta a ¿Qué hace a algunos problemas computacionalmente difíciles y a otros sencillos?\n",
    "\n",
    "Para ello, considera los 2 tipos de recursos requeridos durante el cómputo para resolver un problema:\n",
    "\n",
    "- ***Tiempo:*** Número de pasos base de ejecución de un algoritmo para resolver un problema.\n",
    "\n",
    "\n",
    "- ***Espacio:*** Cantidad de memoria utilizada para resolver un problema."
   ]
  },
  {
   "cell_type": "markdown",
   "metadata": {},
   "source": [
    "[Volver a la Tabla de Contenido](#TOC)"
   ]
  },
  {
   "cell_type": "markdown",
   "metadata": {
    "slideshow": {
     "slide_type": "slide"
    }
   },
   "source": [
    "### La complejidad computacional y los problemas de decisión.\n",
    "\n",
    "Si establecemos que un problema es un conjunto de frases de longitud finita que tienen asociadas frases resultantes también de longitud finita. Un problema de decisión es un problema en donde las respuestas posibles son “*sí*” o “*no*”. \n",
    "\n",
    "Según la *Teoría de la Complejidad Computacional* lo problemas de decisión tienen distintas clases de complejidad:"
   ]
  },
  {
   "cell_type": "markdown",
   "metadata": {
    "slideshow": {
     "slide_type": "subslide"
    }
   },
   "source": [
    "- ***Clase L:*** Es el conjunto de los problemas de decisión que pueden ser resueltos en espacio $log(n)$ (sin contar el tamaño de la entrada), donde $n$ es el tamaño de la entrada, por una *máquina de Turing* determinista tal que la solución si existe es única.\n",
    "\n",
    "\n",
    "- ***Clase NL:*** La clase de *complejidad NL* (espacio logarítmico no determinista) es el conjunto de los problemas de decisión que pueden ser resueltos en espacio $log(n)$ (sin contar el tamaño de la entrada), donde $n$ es el tamaño de la entrada, por una *máquina de Turing* no determinista tal que la solución si existe es única.\n",
    "\n",
    "\n",
    "- ***Clase P:*** Son todos aquellos problemas de decisión que pueden ser resueltos en una máquina determinista secuencial en un período de tiempo polinómico en proporción a los datos de entrada."
   ]
  },
  {
   "cell_type": "markdown",
   "metadata": {
    "slideshow": {
     "slide_type": "subslide"
    }
   },
   "source": [
    "- ***Clase NP:*** Es el conjunto de problemas que pueden ser resueltos en tiempo polinómico por una *máquina de Turing* no determinista. La importancia de esta clase de problemas de decisión es que contiene muchos problemas de búsqueda y de optimización para los que se desea saber si existe una cierta solución o si existe una mejor solución que las conocidas. Un ejemplo es el clásico problema del viajante.\n",
    "\n",
    "\n",
    "- ***Clase NP-Completo:*** Informalmente, los problemas de $\\text{NP-completos}$ son los problemas más difíciles de $\\text{NP}$, en el sentido de que son los más probables de no encontrarse en $\\text{NP}$. Los problemas de $\\text{NP-completos}$ son esos problemas $\\text{NP-duros}$ que están contenidos en $\\text{NP}$."
   ]
  },
  {
   "cell_type": "markdown",
   "metadata": {},
   "source": [
    "[Volver a la Tabla de Contenido](#TOC)"
   ]
  },
  {
   "cell_type": "markdown",
   "metadata": {
    "slideshow": {
     "slide_type": "slide"
    }
   },
   "source": [
    "### Teoría de la información"
   ]
  },
  {
   "cell_type": "markdown",
   "metadata": {},
   "source": [
    "Tambien conocida como [Teoría matemática de la comunicación](https://web.archive.org/web/19980715013250/http://cm.bell-labs.com/cm/ms/what/shannonday/shannon1948.pdf). En este artículo, Shannon expuso los elementos básicos de la comunicación:\n",
    "\n",
    "- Una fuente de información que produce un mensaje.\n",
    "\n",
    "\n",
    "- Un transmisor que opera en el mensaje para crear una señal que puede ser enviado a través de un canal.\n",
    "\n",
    "\n",
    "- Un canal que es el medio para llevar la información.\n",
    "\n",
    "\n",
    "- Un receptor que transforma la señal.\n",
    "\n",
    "\n",
    "- Un destino, que puede ser una persona o una máquina."
   ]
  },
  {
   "cell_type": "markdown",
   "metadata": {},
   "source": [
    "<p float=\"center\">\n",
    "  <img src=\"https://github.com/carlosalvarezh/Analisis_de_Algoritmos/blob/master/images/TeoriaInfo.png?raw=true\" width=\"500\" />\n",
    "</p>\n",
    "\n",
    "<div style=\"text-align: right\"> Fuente: <a href=\"https://en.wikipedia.org/wiki/A_Mathematical_Theory_of_Communication#/media/File:Shannon_communication_system.svg\">Wikipedia</a> </div>"
   ]
  },
  {
   "cell_type": "markdown",
   "metadata": {},
   "source": [
    "En ese momento, el entendimiento principal fue: para cualquier canal de comunicación dado, la comunicación tiene dos características: \n",
    "\n",
    "- tasa (la cantidad de datos que se pueden transmitir en un período de tiempo determinado), y \n",
    "\n",
    "\n",
    "- confiabilidad. \n",
    "\n",
    "Incrementar cada uno de estos vendría invariablemente a expensas del otro. Cuando la informática comenzó a surgir como un campo, el entendimiento general fue que esta compensación también se mantendría en este caso.\n",
    "\n",
    "*Shannon* introdujo una famosa forma lógica y matemática de medir esta diferencia en los métodos de comunicación registrados: la definió como ***entropía***. La entropía agrega un conjunto de herramientas matemáticas para medir la relación entre los principios del desorden y la incertidumbre. Un valor de entropía más alto indica un alto nivel de incertidumbre de la información; o más prácticamente, un mayor número de posibles salidas de una función."
   ]
  },
  {
   "cell_type": "markdown",
   "metadata": {},
   "source": [
    "[Volver a la Tabla de Contenido](#TOC)"
   ]
  },
  {
   "cell_type": "markdown",
   "metadata": {},
   "source": [
    "### Entropía temprana: una medida de incertidumbre"
   ]
  },
  {
   "cell_type": "markdown",
   "metadata": {},
   "source": [
    "La información se define como la resolución de la incertidumbre: si no se necesitan preguntas para determinar un valor, no se presenta información. La entropía está directamente relacionada con la información de un sistema. Cuanto mayor es la entropía, más incertidumbre se atribuye a la definición de un símbolo (un número, letra, etc…). La entropía, o incertidumbre, es matemáticamente máxima cuando un símbolo podría tener igualmente muchos significados (distribución uniforme). La unidad más simple de entropía es cuando un símbolo podría tener igualmente dos significados. Un lanzamiento de moneda, por ejemplo, tiene esta propiedad binaria: es cara o sello.\n",
    "\n",
    "<p float=\"center\">\n",
    "  <img src=\"https://github.com/carlosalvarezh/Analisis_de_Algoritmos/blob/master/images/Entropy.png?raw=true\" width=\"250\" />\n",
    "</p>\n",
    "\n",
    "considere la distribución de Bernoulli, definida sobre un alfabeto de tamaño 2:\n",
    "\n",
    "$$P_X(0)=p, \\hspace{1cm} P_X(1)=1-p$$\n",
    "\n",
    "La entropía se maximiza para $p = 1/2$ (distribución \"uniforme\") y se minimiza para $p = 0$ o $p = 1$ (certeza). Note también que para variables aleatorias discretas, la entropía no puede ser negativa:"
   ]
  },
  {
   "cell_type": "markdown",
   "metadata": {},
   "source": [
    "La expresión matemática para la entropía de la información es dada como:\n",
    "\n",
    "$$H(X)=- \\sum \\limits_{x \\in X} P_X(x) log (P_X(x))$$\n",
    "\n",
    "***¿Qué dice?*** Define cuánta información contiene un mensaje, en términos de las probabilidades con las que es probable que aparezcan los símbolos que lo componen.\n",
    "\n",
    "***¿Por qué es tan importante?*** Marcó el comienzo de la Era de la Información. Estableció límites a la eficiencia de las comunicaciones, lo que permitió a los ingenieros dejar de buscar códigos que eran demasiado efectivos para existir. Es básico para las comunicaciones digitales actuales: teléfonos, CD, DVD, Internet.\n",
    "\n",
    "***¿A qué condujo?*** Códigos eficientes de detección y corrección de errores, utilizados en todo, desde CD hasta sondas espaciales. Las aplicaciones incluyen estadísticas, inteligencia artificial, criptografía y extracción de significado de secuencias de ADN."
   ]
  },
  {
   "cell_type": "markdown",
   "metadata": {},
   "source": [
    "[Volver a la Tabla de Contenido](#TOC)"
   ]
  },
  {
   "cell_type": "markdown",
   "metadata": {
    "slideshow": {
     "slide_type": "subslide"
    }
   },
   "source": [
    "***Ejemplo 1:*** Consideremos el juego de las veinte preguntas. Un amigo selecciona un entero positivo menor que un millón que hay qué adivinar. Se permite un máximo de $20$ preguntas del tipo \"*Sí*\" o \"*No*\" a cada una de sus preguntas (por ejemplo, preguntas del tipo \"¿*Es el número primo*?\"). El enfoque *Divide y vencerás* permitirá resolver este acertijo de forma rápida, dividiendo por dos cada vez la cantidad y reduciendo a la mitad el número de posibles candidatos.\n",
    "\n",
    "Se puede demostrar que ***siempre*** hallará la respuesta con menos de las $20$ preguntas permitidas, ya que $1.000.000$ es menor que $2^{20}$"
   ]
  },
  {
   "cell_type": "code",
   "execution_count": 8,
   "metadata": {},
   "outputs": [
    {
     "data": {
      "text/plain": [
       "True"
      ]
     },
     "execution_count": 8,
     "metadata": {},
     "output_type": "execute_result"
    }
   ],
   "source": [
    "1000000 < 2**20"
   ]
  },
  {
   "cell_type": "code",
   "execution_count": 4,
   "metadata": {
    "slideshow": {
     "slide_type": "fragment"
    }
   },
   "outputs": [
    {
     "name": "stdout",
     "output_type": "stream",
     "text": [
      "1048576\n"
     ]
    }
   ],
   "source": [
    "print(2**20)"
   ]
  },
  {
   "cell_type": "markdown",
   "metadata": {
    "slideshow": {
     "slide_type": "subslide"
    }
   },
   "source": [
    "- Encontrar un algoritmo para demostrar que $20$ preguntas son *suficientes* para resolver el problema, es un tema que corresponde a la *algoritmia*.\n",
    "\n",
    "\n",
    "- El que las $20$ preguntas fueran o no *necesarias* concierne a la *complejidad*.\n",
    "\n",
    "\n",
    "- La [teoría de la información](https://es.wikipedia.org/wiki/Teor%C3%ADa_de_la_informaci%C3%B3n \"Teoría de la Información\") se aplica a una gama de problemas, especialmente a aquellos que implican comparación de elementos.\n",
    "\n",
    "\n",
    "- Un *[árbol de decisión](https://es.wikipedia.org/wiki/%C3%81rbol_de_decisi%C3%B3n \"Árbol de decisión\")* es una forma de representar el funcionamiento de un algoritmo para todos los datos posibles de un tamaño dado.\n",
    "\n",
    "  - Cada nodo interno del árbol contiene una prueba de algún tipo que se aplica a los datos. \n",
    "  - Cada hoja contiene una salida, llamada *veredicto*. \n",
    "  - Un *viaje* por el árbol consiste en partir de la raíz y hacer la pregunta que se encuentra allí. Si la respuesta es \"*Sí*\", el viaje prosigue recursivamente por el subárbol izquierdo, en caso contrario, por el derecho.\n",
    "  - El viaje finaliza cuando se alcanza una hoja; el veredicto que se encuente allí es el resultado del viaje."
   ]
  },
  {
   "cell_type": "markdown",
   "metadata": {
    "slideshow": {
     "slide_type": "subslide"
    }
   },
   "source": [
    "***Ejemplo 2:*** Consideremos nuevamente el juego de las 20 preguntas. Ahora supongamos que el número misterioso está entre $1$ y $6$. Se necesitarán las $20$ preguntas? ¿Cuántas se necesitarán realmente? (supongamos que el número a hallar es $5$)\n",
    "\n",
    "La siguiente figura muestra el árbol de decisión correspondiente a este juego:"
   ]
  },
  {
   "cell_type": "markdown",
   "metadata": {
    "slideshow": {
     "slide_type": "fragment"
    }
   },
   "source": [
    "<p float=\"center\">\n",
    "  <img src=\"https://github.com/carlosalvarezh/Analisis_de_Algoritmos/blob/master/images/arbol01.png?raw=true\" width=\"600\" />\n",
    "</p>\n"
   ]
  },
  {
   "cell_type": "markdown",
   "metadata": {
    "slideshow": {
     "slide_type": "subslide"
    }
   },
   "source": [
    "A todo algoritmo determinista le corresponde un árbol de decisión, siempre y cuando exista un límite para el número de preguntas que puede hacer el algoritmo. Inversamente, se puede pensar el árbol de decisión como si fuera un algoritmo.\n",
    "\n",
    "Por sencillez supongamos que los árboles de decisión están podados en el sentido que se puede acceder a cualquiera de las hojas desde la raíz mediante alguna sucesión consistente de soluciones. Como se hace una pregunta para cada nodo interno de dicha ruta, la altura del árbol corresponde al número de preguntas que se hacen en el caso peor ($3$ para este árbol en particular)."
   ]
  },
  {
   "cell_type": "markdown",
   "metadata": {
    "slideshow": {
     "slide_type": "subslide"
    }
   },
   "source": [
    "Volviendo al ejemplo, pero ahora solo con $19$ preguntas. Cualquier solución daría lugar a un árbol de decisión cuya altura fuera de máximo $19$ y que debería tener al menos un millón de hojas. Esto es imposible, ya que el árbol de deción es binario, y todo árbol binario de altura $k$ tiene como máximo $2^k$ hojas y $2^{19}<1'000.000$. Se concluye entonces que el juego de las $20$ preguntas no se puede resolver con $19$ preguntas para el peor caso."
   ]
  },
  {
   "cell_type": "code",
   "execution_count": 5,
   "metadata": {
    "slideshow": {
     "slide_type": "fragment"
    }
   },
   "outputs": [
    {
     "data": {
      "text/plain": [
       "524288"
      ]
     },
     "execution_count": 5,
     "metadata": {},
     "output_type": "execute_result"
    }
   ],
   "source": [
    "2**19"
   ]
  },
  {
   "cell_type": "markdown",
   "metadata": {
    "slideshow": {
     "slide_type": "subslide"
    }
   },
   "source": [
    "Los árboles de decisión se pueden utilizar también para analizar la complejidad de un problema en el caso promedio, en vez del peor caso.\n",
    "\n",
    "La altura media de un árbol binario, $T$, es la suma de las profundidades de todas las hojas, dividido por el número de hojas. El árbol del ejemplo anterior tiene una altura media de $\\frac{(3+3+2+3+3+2)}{6}= \\frac{16}{6} = \\frac{8}{3} \\approx 2.6667 < 3 \\text{ (caso peor)}$.\n",
    "\n",
    "Del mismo modo que la altura de un árbol de decisión podado da el rendimiento del algoritmo corresponidente al caso peor, su altura media da el rendimiento en el caso promedio, siempre y cuando todos los veredictos sean igualmente probables y cada veredicta aparezca exactamente una sola vez como hoja del árbol.\n",
    "\n",
    "Si todos los enteros entre $1$ y $6$ tienen igual probabilidad de ser el número buscado, el algoritmo correspondiente al ejemplo hace $8/3$ preguntas en el caso promedio. ¿Se puede hacer mejor? ¿Es posible mejorar el rendimiento en el caso promedio?"
   ]
  },
  {
   "cell_type": "markdown",
   "metadata": {
    "slideshow": {
     "slide_type": "subslide"
    }
   },
   "source": [
    "***Teorema:*** *Todo árbol binario con $k$ hojas tiene una altura media es que es como mínimo $log(k)$*.\n",
    "\n",
    "Si el número buscado se selecciona aleatoriamente entre $1$ y $6$ según una distribución uniforme, entonces cualquier algoritmo para este juego tiene que hacer al menos $log(6) \\approx 2.585$ preguntas en el caso promedio, independientemente del número de preguntas que se puedan hacer en determinados casos.\n",
    "\n",
    "Claramente el número de preguntas hechas por cualquier algoritmo determinista tiene qué ser un entero dividido por seis, puesto que el número de preguntas es un entero para cada uno de los seis veredictos equiprobables. La solución dada en el ejemplo hace $16/6$ preguntas en el caso promedio.\n",
    "\n"
   ]
  },
  {
   "cell_type": "markdown",
   "metadata": {},
   "source": [
    "[Volver a la Tabla de Contenido](#TOC)"
   ]
  },
  {
   "cell_type": "markdown",
   "metadata": {
    "slideshow": {
     "slide_type": "slide"
    }
   },
   "source": [
    "## Clases P y NP"
   ]
  },
  {
   "cell_type": "markdown",
   "metadata": {
    "slideshow": {
     "slide_type": "subslide"
    }
   },
   "source": [
    "Hasta ahora todos los algoritmos estudiados han sido algoritmos de tiempo polinomial: para entrada $n$, el peor caso de tiempo de ejecución es $\\mathcal{O}(n^k)$. Pero no todos los algoritmos son polinomiales.\n",
    "\n",
    "Se dice que los problemas solubles en tiempo polinomial son tratables y los otros son intratables. Veremos problemas cuyo status es desconocido; es decir, no se ha descubierto algoritmo de tiempo polinomial para ellos, ni se ha podido probar un límite inferior de tiempo super-polinomial.\n",
    "\n",
    "Se cree que estos problemas son intratable (no polinomiales). Si podemos establecer que un problema es $\\text{NP}$-completo, mejor nos dedicamos a encontrar una buena aproximación que a buscar una solución exacta."
   ]
  },
  {
   "cell_type": "markdown",
   "metadata": {},
   "source": [
    "[Volver a la Tabla de Contenido](#TOC)"
   ]
  },
  {
   "cell_type": "markdown",
   "metadata": {},
   "source": [
    "### ¿Comprobar o resolver?"
   ]
  },
  {
   "cell_type": "markdown",
   "metadata": {
    "slideshow": {
     "slide_type": "subslide"
    }
   },
   "source": [
    "¿Qué será más fácil?  Que te den un sudoku gigante y te pidan que lo resuelvas o que te den el mismo sudoku relleno de números y te pidan que compruebes si está bien resuelto."
   ]
  },
  {
   "cell_type": "markdown",
   "metadata": {
    "slideshow": {
     "slide_type": "subslide"
    }
   },
   "source": [
    "Resolver...\n",
    "\n",
    "<p float=\"center\">\n",
    "  <img src=\"https://github.com/carlosalvarezh/Analisis_de_Algoritmos/blob/master/images/Sudoku_01.png?raw=true\" width=\"250\" />\n",
    "</p>\n"
   ]
  },
  {
   "cell_type": "markdown",
   "metadata": {
    "slideshow": {
     "slide_type": "subslide"
    }
   },
   "source": [
    "Comprobar...\n",
    "\n",
    "<p float=\"center\">\n",
    "  <img src=\"https://github.com/carlosalvarezh/Analisis_de_Algoritmos/blob/master/images/Sudoku_02.png?raw=true\" width=\"250\" />\n",
    "</p>\n"
   ]
  },
  {
   "cell_type": "markdown",
   "metadata": {
    "slideshow": {
     "slide_type": "subslide"
    }
   },
   "source": [
    "Aparentemente se ve que es \"más fácil\" comprobar que esa es la solución y no resolver el ejercicio en sí.\n",
    "\n",
    "En general, tenemos la sensación de que es mucho más fácil comprobar si algo que te dan es solución de un problema que encontrar una solución al problema por ti mismo.  \n",
    "\n",
    "Por ejemplo, es más fácil comprobar que $x=5$ resuelve la ecuación $x^2+x-30=0$ que encontrar la solución por nuestros propios medios."
   ]
  },
  {
   "cell_type": "markdown",
   "metadata": {},
   "source": [
    "[Volver a la Tabla de Contenido](#TOC)"
   ]
  },
  {
   "cell_type": "markdown",
   "metadata": {},
   "source": [
    "### Resolver o comprobar es cuestión de tiempo"
   ]
  },
  {
   "cell_type": "markdown",
   "metadata": {
    "slideshow": {
     "slide_type": "slide"
    }
   },
   "source": [
    "El campo de la complejidad computacional enmarca su campo de aplicación a la clasificación de los distintos problemas en función del tiempo que tardamos en resolverlos con un algoritmo o receta matemática diseñada para tal efecto.  Es un campo ciertamente complejo que tiene sus raíces en la lógica, la combinatoria y los fundamentos más básicos de la matemática.\n",
    "\n",
    "Supongamos que tenemos un problema y un algoritmo para él, es decir, una receta de pasos que si los seguimos encontramos una solución al problema.  Si teníamos un problema y hemos encontrado un algoritmo que lo resuelve ya no hay problema del que preocuparnos.\n",
    "\n",
    "Ese es el caso hasta que se llega a la pregunta:\n",
    "\n",
    "¿***Cuánto tarda el algoritmo en encontrar la solución***?"
   ]
  },
  {
   "cell_type": "markdown",
   "metadata": {
    "slideshow": {
     "slide_type": "subslide"
    }
   },
   "source": [
    "Se puede dar el caso de que tengamos un algoritmo que encuentre la solución pero que el tiempo que tarde en encontrarla sea tan alto que a efectos prácticos no tenemos solución alguna.  Imaginemos que dicho algoritmo necesita varias veces el tiempo de vida del universo en encontrar la solución, ciertamente es un algoritmo poco operativo.\n",
    "\n",
    "Otra pregunta que puede resultar es:  ¿De qué tiempo se habla cuando se habla de tiempo en este contexto?  Es una muy buena pregunta porque para resolver el problema se lo tenemos que dar a una máquina en la que hemos programado el algoritmo y que ejecuta los pasos del mismo haciendo las operaciones necesarias para llegar a dar una respuesta. Es evidente que no es lo mismo usar un portátl que un supercomputador o la propia cabeza.  Cada uno en función de su hardware o el lenguaje de programación elegido tardará más o menos.\n",
    "\n",
    "Por lo tanto, el tiempo asociado a un algoritmo es el número de operaciones que ha de realizar para resolver un problema. A eso se le denomina *complejidad del problema*."
   ]
  },
  {
   "cell_type": "markdown",
   "metadata": {
    "slideshow": {
     "slide_type": "subslide"
    }
   },
   "source": [
    "La complejidad no hace referencia a lo fácil o difícil que sea resolver el problema en términos coloquiales sino a la que hay que liar, el número de operaciones necesarias, para resolverlo.  En realidad, el problema está resuelto teóricamente, tenemos un algoritmo que lo hace, el tema es cuánto tiempo tardará en hacerlo, es decir, cómo de complejo es llegar a la solución."
   ]
  },
  {
   "cell_type": "markdown",
   "metadata": {},
   "source": [
    "[Volver a la Tabla de Contenido](#TOC)"
   ]
  },
  {
   "cell_type": "markdown",
   "metadata": {},
   "source": [
    "### El tamaño importa"
   ]
  },
  {
   "cell_type": "markdown",
   "metadata": {
    "slideshow": {
     "slide_type": "subslide"
    }
   },
   "source": [
    "***Ejemplo: multiplicar números.***\n",
    "\n",
    "***Caso 1:***\n",
    "\n",
    "Suponga que piden encontrar la solución al problema $5 \\times 7$.  Este es un problema matemático del que tenemos un algoritmo, al menos uno, para encontrar una solución. Eso requiere una operación.\n",
    "\n",
    "Ahora imaginemos que nos piden resolver el problema $23 \\times 19$, ahora se requiere de cuatro operaciones (solo contaremos las multiplicaciones que hay que realizar, también hay que hacer unas cuantas sumas pero consideramos que eso no cuesta tiempo de cálculo comparado con las multiplicaciones).\n",
    "\n",
    "¿Cuántas operaciones necesitamos para multiplicar dos números de $3$ cifras? ¿Y de $4$ cifras?  Está claro que empleando el algoritmo que nos enseñan en el colegio tendremos que realizar $9$ y $16$ operaciones respectivamente.\n",
    "\n",
    "Así, podemos decir que el algoritmo de multiplicación (para números del mismo número de cifras en este caso) tardará más o menos dependiendo del tamaño de los números iniciales que queremos multiplicar."
   ]
  },
  {
   "cell_type": "markdown",
   "metadata": {
    "slideshow": {
     "slide_type": "subslide"
    }
   },
   "source": [
    "<p float=\"center\">\n",
    "  <img src=\"https://github.com/carlosalvarezh/Analisis_de_Algoritmos/blob/master/images/operaciones1.jpg?raw=true\" width=\"300\" />\n",
    "</p>\n"
   ]
  },
  {
   "cell_type": "markdown",
   "metadata": {
    "slideshow": {
     "slide_type": "subslide"
    }
   },
   "source": [
    "Cuando hablamos del tiempo que tarda un algoritmo en resolver un problemas nos referimos al número de operaciones necesarias en función del tamaño de los datos de entrada del problema. "
   ]
  },
  {
   "cell_type": "markdown",
   "metadata": {},
   "source": [
    "[Volver a la Tabla de Contenido](#TOC)"
   ]
  },
  {
   "cell_type": "markdown",
   "metadata": {},
   "source": [
    "### Otros ejemplos, otros problemas:"
   ]
  },
  {
   "cell_type": "markdown",
   "metadata": {
    "slideshow": {
     "slide_type": "subslide"
    }
   },
   "source": [
    "Supóngase que una cadena de almacénes abre varios almacénes a lo largo de los años en diferentes ciudades. Se desea conectar cada almacén a una red de fibra óptica para manejo de información. La cuestión es que se requiere encontrar la mínima cantidad de fibra para unirlos todos sin crear nuevos puntos de conexión. Se requiere que todos estén unidos y que no nos salga muy caro.\n",
    "\n",
    "Lo que se puede hacer es poner los álmacenes como puntos y la fibra la representamos con líneas que unen dichos puntos, es decir, construimos un grafo.  Sobre cada línea del grafo le ponemos la cantidad de fibra, en metros, que hay que tirar para unir dos almacenes. La idea es la de unirlos todos empleando la cantidad mínima de fibra. Y recuerda, no podemos meter nodos nuevos auxiliares."
   ]
  },
  {
   "cell_type": "markdown",
   "metadata": {},
   "source": [
    "#### Primer problema:\n",
    "\n",
    "Pongamos ejemplos, dos almacenes, tres almacenes, cuatro almacenes, etc…"
   ]
  },
  {
   "cell_type": "markdown",
   "metadata": {
    "slideshow": {
     "slide_type": "subslide"
    }
   },
   "source": [
    "<p float=\"center\">\n",
    "  <img src=\"https://github.com/carlosalvarezh/Analisis_de_Algoritmos/blob/master/images/cam1.jpg?raw=true\" width=\"500\" />\n",
    "</p>\n"
   ]
  },
  {
   "cell_type": "markdown",
   "metadata": {
    "slideshow": {
     "slide_type": "subslide"
    }
   },
   "source": [
    "Para dos almacenes solo hay un red para unirlos por fibra. Resuelto.\n",
    "\n",
    "Para tres almacenes tenemos tres redes posibles para unirlos.  Solo hay que conocer las distancias entre los almacenes y quedarnos con la opción de mínima distancia de fibra empleada.\n",
    "\n",
    "Para cuatro almacenes:"
   ]
  },
  {
   "cell_type": "markdown",
   "metadata": {
    "slideshow": {
     "slide_type": "subslide"
    }
   },
   "source": [
    "<p float=\"center\">\n",
    "  <img src=\"https://github.com/carlosalvarezh/Analisis_de_Algoritmos/blob/master/images/cam2.jpg?raw=true\" width=\"500\" />\n",
    "</p>\n"
   ]
  },
  {
   "cell_type": "markdown",
   "metadata": {
    "slideshow": {
     "slide_type": "subslide"
    }
   },
   "source": [
    "Ya son $16$ redes.  Así que tenemos un algoritmo que resuelve el problema.  Solo hay que generar todas las posibles soluciones, árboles en grafos, y quedarnos con el de menor distancia (las distancias entre los almacenes son conocidas). Pero eso significa generar todos los posibles árboles o redes, calcular la distancia total de fibra en cada uno de ellos y quedarnos con la mínima.\n",
    "\n",
    "El problema es que para 100 almacenes, nodos del grafo, tenemos $100^{98}$ posibles redes. Un número que ya podemos considerar grande."
   ]
  },
  {
   "cell_type": "markdown",
   "metadata": {
    "slideshow": {
     "slide_type": "subslide"
    }
   },
   "source": [
    "La complejidad de este algoritmo que resuelve (y de verdad lo que sí lo resuelve) el problema, es como mínimo de  $n^{n-2}$,  que son los pasos necesarios para construir todos los árboles entre $n$ nodos. Observe que esa fórmula nos da el número correcto para $2$, $3$ y $4$ nodos (nuestros almacenes) sin más que sustituir esos números en la $n$.\n",
    "\n",
    "Lo que ocurre es que hacer eso a fuerza \"explota\" en cuanto tengamos un número apreciable de elementos a conectar de forma mínima. El tiempo que tardaríamos en hacer eso crece muy rápido al aumentar el tamaño de la entrada del problema.\n",
    "\n",
    "Para este caso en concreto existe una afortunada idea que hace que el tiempo que se tarda en dar una respuesta al problema sea de $n log(n)$. Y ese es un tiempo mucho más manejable. Es decir, en ocasiones gracias a alguna propiedad matemática podemos “simplificar” el algoritmo para que su tiempo sea manejable y nos de una respuesta antes de que hayamos pasado al olvido."
   ]
  },
  {
   "cell_type": "markdown",
   "metadata": {
    "slideshow": {
     "slide_type": "subslide"
    }
   },
   "source": [
    "La idea afortunada de este problema es hacer el [diagrama de Voronoi](https://en.wikipedia.org/wiki/Voronoi_diagram \"Diagrama de Voronoi\")  sobre la base de los nodos disponibles y establecer la [triangulación de Delaunay](https://es.wikipedia.org/wiki/Triangulaci%C3%B3n_de_Delaunay \"Triangulación de Delaunay\").  Luego tomamos todas las aristas las ordenamos según su longitud y vamos tomando en cada paso la más corta siempre que no se haga un ciclo.  El resultado final es el árbol de longitud mínima.\n",
    "\n",
    "Para este problema que si lo resolvemos calculando todos los caminos y comprobando su distancia total es poco efectivo podemos encontrar un algoritmo que lo resuelve de forma razonable.  Este es un detalle importante."
   ]
  },
  {
   "cell_type": "markdown",
   "metadata": {},
   "source": [
    "[Volver a la Tabla de Contenido](#TOC)"
   ]
  },
  {
   "cell_type": "markdown",
   "metadata": {
    "slideshow": {
     "slide_type": "slide"
    }
   },
   "source": [
    "#### Segundo problema:\n",
    "\n",
    "Supongamos que nuestros almacenes empiezan a funcionar y hay qué visitar cada uno de   los almacenes, empezando y terminando por el mismo, de forma que la ruta que se haga sea mínima en distancia. Eso lo hace más barato. Esta es una variante adaptada del conocido como *[Problema del Viajante](https://es.wikipedia.org/wiki/Problema_del_viajante \"Problema del Viajante\")*.\n",
    "\n",
    "Aquí otra vez podemos hacer el truco de poner nuestros almacenes en forma de grafos y pintar ciclos que salgan de nuestro almacenes y acaben en él. Solo tenemos que calcular la distancia de todos los caminos cerrados y quedarnos con la más pequeña."
   ]
  },
  {
   "cell_type": "markdown",
   "metadata": {
    "slideshow": {
     "slide_type": "subslide"
    }
   },
   "source": [
    "<p float=\"center\">\n",
    "  <img src=\"https://github.com/carlosalvarezh/Analisis_de_Algoritmos/blob/master/images/viajante.jpg?raw=true\" width=\"500\" />\n",
    "</p>\n"
   ]
  },
  {
   "cell_type": "markdown",
   "metadata": {
    "slideshow": {
     "slide_type": "subslide"
    }
   },
   "source": [
    "Para un número pequeño de elementos a conectar de la forma descrita no hay problema, eso se hace muy rápido. Pero la cuestión está en que tenemos que el número de operaciones para unir $n$ puntos en un ciclo cerrado son $(n-1)!$. Esa es una mala noticia porque los números factoriales crecen mucho, muchísimo.\n",
    "\n",
    "Ahora se esperaría que se dijera que hay una forma inteligente de resolver este problema de una forma elegante en un tiempo razonable. Que aplicando propiedades matemáticas eso se simplifica y tenemos un algoritmo genial que hace eso muy rápido.\n",
    "\n",
    "Lamentablemente, no se sabe. No sabemos si existe o no ese algoritmo, nadie ha probado que exista o que no exista. Y eso es muy importante para lo que sigue.\n",
    "\n",
    "Pero insistamos en que sabemos resolver el problema, basta calcular todos los caminos que empiezan y terminan en un punto y quedarte con el de longitud mínima. La solución es \"fácil\"… Lo que pasa es que esa solución no se puede implementar en tiempo razonable. Si el tamaño de puntos a conectar es elevado el algoritmo es inútil.\n",
    "\n",
    "Para terminar la idea, supongamos que tenemos tres problemas y que hemos encontrado la forma de solucionarlos, tenemos un algoritmo para cada uno de ellos. Sin embargo, para el primer problema el número de operaciones va como $n^3$, para el segundo problema como $n!$ y para el tercer problema como $2^n$. Veamos como crece el número de operaciones cuando el tamaño de la entrada de cada problema crece:"
   ]
  },
  {
   "cell_type": "code",
   "execution_count": 4,
   "metadata": {
    "slideshow": {
     "slide_type": "subslide"
    }
   },
   "outputs": [
    {
     "name": "stdout",
     "output_type": "stream",
     "text": [
      "n \t n^3 \t\t n! \t\t 2^n\n",
      "1 \t 1 \t\t 1 \t\t 2\n",
      "2 \t 8 \t\t 2 \t\t 4\n",
      "3 \t 27 \t\t 6 \t\t 8\n",
      "4 \t 64 \t\t 24 \t\t 16\n",
      "5 \t 125 \t\t 120 \t\t 32\n",
      "6 \t 216 \t\t 720 \t\t 64\n",
      "7 \t 343 \t\t 5040 \t\t 128\n",
      "8 \t 512 \t\t 40320 \t\t 256\n",
      "9 \t 729 \t\t 362880 \t\t 512\n",
      "10 \t 1000 \t\t 3628800 \t\t 1024\n",
      "11 \t 1331 \t\t 39916800 \t\t 2048\n"
     ]
    }
   ],
   "source": [
    "import math\n",
    "\n",
    "print(\"n \\t n^3 \\t\\t n! \\t\\t 2^n\")\n",
    "for i in range(1,12):\n",
    "    print(\"{0} \\t {1} \\t\\t {2} \\t\\t {3}\".format(i, i**3, math.factorial(i), 2**i))"
   ]
  },
  {
   "cell_type": "markdown",
   "metadata": {
    "slideshow": {
     "slide_type": "subslide"
    }
   },
   "source": [
    "Todos los problemas se pueden resolver, el punto clave es el tiempo que tardamos en encontrar la solución."
   ]
  },
  {
   "cell_type": "markdown",
   "metadata": {},
   "source": [
    "[Volver a la Tabla de Contenido](#TOC)"
   ]
  },
  {
   "cell_type": "markdown",
   "metadata": {},
   "source": [
    "### Problemas tipo P"
   ]
  },
  {
   "cell_type": "markdown",
   "metadata": {
    "slideshow": {
     "slide_type": "subslide"
    }
   },
   "source": [
    "Diremos que un problema es de tipo $\\text{P}$ cuando conocemos un algoritmo que lo resuelve en tiempo de la forma $n^k$ siendo $k$ un número positivo. Eso se dice *tiempo polinómico* o *complejidad polinómica*.\n",
    "\n",
    "Es decir, los problemas $\\text{P}$ son aquellos que se pueden resolver en tiempo razonable. Hay que hacer un número de operaciones que crecen lentamente, polinómicamente para ser estrictos, con el tamaño del dato de entrada."
   ]
  },
  {
   "cell_type": "markdown",
   "metadata": {},
   "source": [
    "[Volver a la Tabla de Contenido](#TOC)"
   ]
  },
  {
   "cell_type": "markdown",
   "metadata": {},
   "source": [
    "### Problemas de tipo NP"
   ]
  },
  {
   "cell_type": "markdown",
   "metadata": {
    "slideshow": {
     "slide_type": "subslide"
    }
   },
   "source": [
    "Diremos que un problema es de tipo $\\text{NP}$ (viene de tiempo polinomial no determinístico) cuando conocemos un algoritmo que es capaz de comprobar si algo dado es solución del problema en un tiempo polinómico.\n",
    "\n",
    "Los problemas $\\text{NP}$ son aquellos para los que podemos comprobar si algo es solución en tiempo razonable dependiendo del tamaño de la solución propuesta.\n",
    "\n",
    "Eso no quiere decir que no exista un algoritmo que los resuelva en tiempo polinómico.  Lo que quiere decir es que no sabemos si existe o no, ese es el problema realmente."
   ]
  },
  {
   "cell_type": "markdown",
   "metadata": {
    "slideshow": {
     "slide_type": "subslide"
    }
   },
   "source": [
    "***ejemplo:*** Consideremos el problema del *ciclo Hamiltoniano* “Tiene un grafo $\\text{G}$ un [ciclo Hamiltoniano](https://es.wikipedia.org/wiki/Camino_hamiltoniano \"Ciclo Hamiltoniano\")\"? (Aquél que recorre todos los nodos en un camino simple) Un posible candidato para este problema puede ser verificado en tiempo polinomial, luego este problema está en la categoría $\\text{NP}$."
   ]
  },
  {
   "cell_type": "markdown",
   "metadata": {},
   "source": [
    "<p float=\"center\">\n",
    "  <img src=\"https://github.com/carlosalvarezh/Analisis_de_Algoritmos/blob/master/images/Hamiltonian_path.svg?raw=true\" width=\"250\" />\n",
    "</p>\n"
   ]
  },
  {
   "cell_type": "markdown",
   "metadata": {},
   "source": [
    "[Volver a la Tabla de Contenido](#TOC)"
   ]
  },
  {
   "cell_type": "markdown",
   "metadata": {},
   "source": [
    "### Todos los problemas P son NP"
   ]
  },
  {
   "cell_type": "markdown",
   "metadata": {
    "slideshow": {
     "slide_type": "slide"
    }
   },
   "source": [
    "¡Evidentemente!, se puede pensar. Si los problemas $\\text{P}$ son aquellos para los que tenemos un algoritmo que los resuelve en tiempo razonable (polinómico) es lógico que podamos comprobar si algo es solución en tiempo razonable, el propio algoritmo que lo resuelve es un ejemplo. Tenemos una solución, corremos nuestro algoritmo y nos da una respuesta en un tiempo razonable, comprobamos si la solución del problema es la que tú nos has dado o no lo es. Por tanto hemos comprobado si algo es solución en tiempo polinómico.\n",
    "\n",
    "Pero dado que los problemas para los que podemos comprobar si algo es solución son los problemas $\\text{NP}$ entonces todos los problemas $\\text{P}$ son $\\text{NP}$ por derecho propio.\n",
    "\n",
    "Podemos representar esto usando diagramas de conjuntos:"
   ]
  },
  {
   "cell_type": "markdown",
   "metadata": {
    "slideshow": {
     "slide_type": "subslide"
    }
   },
   "source": [
    "<p float=\"center\">\n",
    "  <img src=\"https://github.com/carlosalvarezh/Analisis_de_Algoritmos/blob/master/images/pnp.jpg?raw=true\" width=\"350\" />\n",
    "</p>\n"
   ]
  },
  {
   "cell_type": "markdown",
   "metadata": {},
   "source": [
    "Es decir, los problemas que podemos resolver en tiempo razonable están incluídos en los problemas que podemos comprobar si algo es solución en tiempo razonable. Los problemas $\\text{P}$ son problemas $\\text{NP}$."
   ]
  },
  {
   "cell_type": "markdown",
   "metadata": {},
   "source": [
    "[Volver a la Tabla de Contenido](#TOC)"
   ]
  },
  {
   "cell_type": "markdown",
   "metadata": {},
   "source": [
    "### ¿P=NP?"
   ]
  },
  {
   "cell_type": "markdown",
   "metadata": {
    "slideshow": {
     "slide_type": "subslide"
    }
   },
   "source": [
    "Muchas veces se dice que los problemas $\\text{P}$ son los que se pueden resolver y los problemas $\\text{NP}$ son los que no se pueden resolver.\n",
    "\n",
    "Si esa es la definición hemos demostrado ya que $\\text{P} \\neq \\text{NP}$, fin de la historia. Si unos se pueden resolver y otros no entonces se ha acabado el juego.\n",
    "\n",
    "El problema es que hay problemas $\\text{NP}$ que no sabemos si admiten un algoritmo que los resuelva en tiempo razonable, es decir que sean en realidad de la subclase $\\text{P}$. Hay muchos problemas $\\text{NP}$ para los que se conocen algoritmos para resolverlos solo que no dan la respuesta en un tiempo razonable. Puede que todos los $\\text{NP}$ se puedan resolver en tiempo razonable y puede que no. Eso es justamente lo que se nos plantea."
   ]
  },
  {
   "cell_type": "markdown",
   "metadata": {
    "slideshow": {
     "slide_type": "subslide"
    }
   },
   "source": [
    "Las situaciones que podemos tener son:\n",
    "\n",
    "a)  Que $\\text{P}$ no sea igual a $\\text{NP}$. Resolver no es igual a comprobar.\n",
    "\n",
    "b) Que $\\text{P}$ y $\\text{NP}$ sean iguales. Resolver y comprobar son igualmente de complicados."
   ]
  },
  {
   "cell_type": "markdown",
   "metadata": {
    "slideshow": {
     "slide_type": "subslide"
    }
   },
   "source": [
    "<p float=\"center\">\n",
    "  <img src=\"https://github.com/carlosalvarezh/Analisis_de_Algoritmos/blob/master/images/pnp2.jpg?raw=true\" width=\"500\" />\n",
    "</p>\n"
   ]
  },
  {
   "cell_type": "markdown",
   "metadata": {
    "slideshow": {
     "slide_type": "subslide"
    }
   },
   "source": [
    "Para demostrar que $\\text{P}$ y $\\text{NP}$ no son iguales bastaría con mostrar que un único problema de tipo $\\text{NP}$ no admite un algoritmo que lo resuelva en tiempo polinómico.\n",
    "\n",
    "Claro, para demostrar que todos los problemas $\\text{NP}$ son $\\text{P}$ tendríamos que encontrar para todos y cada uno de ellos un algoritmo que los resuelva en tiempo polinomial. Eso es mucho trabajo.\n",
    "\n",
    "Pero en realidad hay un detalle mágico en todo esto…"
   ]
  },
  {
   "cell_type": "markdown",
   "metadata": {},
   "source": [
    "[Volver a la Tabla de Contenido](#TOC)"
   ]
  },
  {
   "cell_type": "markdown",
   "metadata": {},
   "source": [
    "### Problemas NP-completos"
   ]
  },
  {
   "cell_type": "markdown",
   "metadata": {
    "slideshow": {
     "slide_type": "subslide"
    }
   },
   "source": [
    "De entre todos los problemas $\\text{NP}$, los que podemos comprobar si algo es solución en tiempo polinómico pero no sabemos si podemos resolverlos en tiempo polinómico o no, hay unos que pertenecen a una clase especial, los $\\text{NP-completos}$.\n",
    "\n",
    "Un problema $\\text{NP}$ es $\\text{NP-completo}$ si por un lado es $\\text{NP}$, evidentemente, y además si cualquier problema $\\text{NP}$ se puede traducir, (el término técnico es reducir) a ese problema $\\text{NP}$ concreto."
   ]
  },
  {
   "cell_type": "markdown",
   "metadata": {
    "slideshow": {
     "slide_type": "subslide"
    }
   },
   "source": [
    "<img src=\"https://github.com/carlosalvarezh/Analisis_de_Algoritmos/blob/master/images/completos.jpg?raw=true\" width=\"300\" />\n",
    "</p>\n"
   ]
  },
  {
   "cell_type": "markdown",
   "metadata": {
    "slideshow": {
     "slide_type": "subslide"
    }
   },
   "source": [
    "En la década de los 70's se demostraron unos teoremas que establecían la existencia de estos problemas $\\text{NP-completo}$. Demostraron que cualquier problema $\\text{NP}$ se podía reducir o traducir, como prefieras a un problema $\\text{NP-completo}$ y demostraron que los problemas $\\text{NP-completos}$ eran todos equivalentes entre sí.\n",
    "\n",
    "Este es el primer artículo sobre este tipo de problemas de 1971 por [Stephen A. Cook:  The complexity of theorem-proving procedures](https://www.cs.toronto.edu/~sacook/homepage/1971.pdf \"Stephen A. Cook: The complexity of theorem-proving procedures\").\n",
    "\n",
    "Dado que cualquier problema $\\text{NP}$ se puede reducir a un problema $\\text{NP-completo}$ y todos los completos son equivalentes resulta que:\n",
    "\n",
    "1. Si alguien demuestra que un problema $\\text{NP-completo}$ no admite un algoritmo que lo resuelva en tiempo polinomial habrá demostrado que $\\text{P}$ es distinto de $\\text{NP}$.\n",
    "\n",
    "\n",
    "2. Si alguien demuestra que un problema $\\text{NP-completo}$ se puede resolver con un algoritmo en tiempo polinomial, es decir, que ese problema en realidad es $\\text{P}$, habrá demostrado que $\\text{P}$ es igual a $\\text{NP}$."
   ]
  },
  {
   "cell_type": "markdown",
   "metadata": {
    "slideshow": {
     "slide_type": "subslide"
    }
   },
   "source": [
    "Si se demuestra lo primero, hay qué ir al *Instituto Clay* y decirles que se ha resuelto uno de los [Problemas del Milenio](http://www.claymath.org/millennium-problems \"Problemas del milenio\").  Un millón de dólares, la fama y la inmortalidad en el universo de las matemáticas esperan!\n",
    "\n",
    "Si se demuestra que $\\text{P=NP}$ se tendría acceso a cualquier sistema informático, a cualquier tarjeta de crédito, a cualquier dato que se quisiera, a cualquier cuenta bancaria, a cualquier información.  Eso es porque el sistema de encriptación que tenemos en la actualidad se fundamenta en la creencia de que resolver es más difícil que comprobar. Las claves son números enormes que hay que descomponer en números primos. Más o menos, no sabemos si ese problema se podría hacer en tiempo polinomial pero actualmente no hay algoritmo que lo consiga. Sin embargo, si conoces los números primos grandes es fácil multiplicarlos para ver si reproducen la clave. Basta multiplicarlos y listo.\n",
    "\n",
    "Pero ojo, no vayas al Instituto Clay, no se lo digas a nadie porque lo más seguro es que te quiten de la vista. Es más barato matarte que cambiar todo el sistema que tenemos montado."
   ]
  },
  {
   "cell_type": "markdown",
   "metadata": {
    "slideshow": {
     "slide_type": "subslide"
    }
   },
   "source": [
    "***Nota:*** parte de esta información está basada en los textos de [Cuentos Cuánticos](https://cuentos-cuanticos.com/ \"Cuentos cuánticos\") entre otras informaciones recopiladas de la web y que próximamente iré incluyendo como referencias. Todo el crédito a ellos."
   ]
  },
  {
   "cell_type": "markdown",
   "metadata": {},
   "source": [
    "[Volver a la Tabla de Contenido](#TOC)"
   ]
  },
  {
   "cell_type": "markdown",
   "metadata": {
    "slideshow": {
     "slide_type": "slide"
    }
   },
   "source": [
    "## Ejemplos y desafíos"
   ]
  }
 ],
 "metadata": {
  "kernelspec": {
   "display_name": "Python 3",
   "language": "python",
   "name": "python3"
  },
  "language_info": {
   "codemirror_mode": {
    "name": "ipython",
    "version": 3
   },
   "file_extension": ".py",
   "mimetype": "text/x-python",
   "name": "python",
   "nbconvert_exporter": "python",
   "pygments_lexer": "ipython3",
   "version": "3.6.13"
  },
  "toc": {
   "base_numbering": 1,
   "nav_menu": {},
   "number_sections": true,
   "sideBar": true,
   "skip_h1_title": true,
   "title_cell": "Table of Contents",
   "title_sidebar": "Contents",
   "toc_cell": true,
   "toc_position": {},
   "toc_section_display": true,
   "toc_window_display": true
  }
 },
 "nbformat": 4,
 "nbformat_minor": 2
}
