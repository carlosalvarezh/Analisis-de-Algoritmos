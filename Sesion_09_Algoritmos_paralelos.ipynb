{
 "cells": [
  {
   "cell_type": "markdown",
   "metadata": {
    "slideshow": {
     "slide_type": "slide"
    }
   },
   "source": [
    "<h1 align=\"center\">ANÁLISIS DE ALGORITMOS</h1>\n",
    "\n",
    "<h1 align=\"center\">Sesión 09: Algoritmos Paralelos</h1>\n",
    "\n",
    "<h1 align=\"center\">MEDELLÍN - COLOMBIA </h1>\n",
    "\n",
    "<h1 align=\"center\">2021 </h1>"
   ]
  },
  {
   "cell_type": "markdown",
   "metadata": {},
   "source": [
    "<table>\n",
    " <tr align=left><td><img align=left src=\"https://github.com/carlosalvarezh/Analisis_de_Algoritmos/blob/master/images/CC-BY.png?raw=true\">\n",
    " <td>Text provided under a Creative Commons Attribution license, CC-BY. All code is made available under the FSF-approved MIT license.(c) Carlos Alberto Alvarez Henao</td>\n",
    "</table>"
   ]
  },
  {
   "cell_type": "markdown",
   "metadata": {},
   "source": [
    "*** \n",
    "\n",
    "***Docente:*** Carlos Alberto Álvarez Henao, I.C. D.Sc.\n",
    "\n",
    "***e-mail:*** carlosalvarezh@gmail.com\n",
    "\n",
    "***skype:*** carlos.alberto.alvarez.henao\n",
    "\n",
    "***Linkedin:*** https://www.linkedin.com/in/carlosalvarez5/\n",
    "\n",
    "***github:*** https://github.com/carlosalvarezh/Metodos_Numericos\n",
    "\n",
    "***Herramienta:*** [Jupyter](http://jupyter.org/)\n",
    "\n",
    "***Kernel:*** Python 3.8\n",
    "\n",
    "\n",
    "***"
   ]
  },
  {
   "cell_type": "markdown",
   "metadata": {
    "toc": true
   },
   "source": [
    "<h1>Tabla de Contenidos<span class=\"tocSkip\"></span></h1>\n",
    "<div class=\"toc\"><ul class=\"toc-item\"><li><span><a href=\"#Algoritmos-paralelos\" data-toc-modified-id=\"Algoritmos-paralelos-1\"><span class=\"toc-item-num\">1&nbsp;&nbsp;</span>Algoritmos paralelos</a></span><ul class=\"toc-item\"><li><span><a href=\"#Introducción-a-la-computación-paralela\" data-toc-modified-id=\"Introducción-a-la-computación-paralela-1.1\"><span class=\"toc-item-num\">1.1&nbsp;&nbsp;</span>Introducción a la computación paralela</a></span></li><li><span><a href=\"#Tiempo-de-ejecución-secuencial\" data-toc-modified-id=\"Tiempo-de-ejecución-secuencial-1.2\"><span class=\"toc-item-num\">1.2&nbsp;&nbsp;</span>Tiempo de ejecución secuencial</a></span></li><li><span><a href=\"#Tiempo-de-ejecución-paralela\" data-toc-modified-id=\"Tiempo-de-ejecución-paralela-1.3\"><span class=\"toc-item-num\">1.3&nbsp;&nbsp;</span>Tiempo de ejecución paralela</a></span></li><li><span><a href=\"#Dificultades-para-estimar-tiempo-de-ejecución-paralelo\" data-toc-modified-id=\"Dificultades-para-estimar-tiempo-de-ejecución-paralelo-1.4\"><span class=\"toc-item-num\">1.4&nbsp;&nbsp;</span>Dificultades para estimar tiempo de ejecución paralelo</a></span></li><li><span><a href=\"#Modelado-del-tiempo-de-ejecución-paralelo\" data-toc-modified-id=\"Modelado-del-tiempo-de-ejecución-paralelo-1.5\"><span class=\"toc-item-num\">1.5&nbsp;&nbsp;</span>Modelado del tiempo de ejecución paralelo</a></span></li></ul></li><li><span><a href=\"#Pasos-en-el-diseño-de-algoritmos-paralelos-(Foster):\" data-toc-modified-id=\"Pasos-en-el-diseño-de-algoritmos-paralelos-(Foster):-2\"><span class=\"toc-item-num\">2&nbsp;&nbsp;</span>Pasos en el diseño de algoritmos paralelos (<a href=\"https://www.mcs.anl.gov/~itf/dbpp/\" title=\"Designing and Building Parallel Programs\" target=\"_blank\">Foster</a>):</a></span></li><li><span><a href=\"#Conceptos-paralelización\" data-toc-modified-id=\"Conceptos-paralelización-3\"><span class=\"toc-item-num\">3&nbsp;&nbsp;</span>Conceptos paralelización</a></span><ul class=\"toc-item\"><li><span><a href=\"#Granularidad\" data-toc-modified-id=\"Granularidad-3.1\"><span class=\"toc-item-num\">3.1&nbsp;&nbsp;</span>Granularidad</a></span></li><li><span><a href=\"#Speed-up\" data-toc-modified-id=\"Speed-up-3.2\"><span class=\"toc-item-num\">3.2&nbsp;&nbsp;</span>Speed-up</a></span></li><li><span><a href=\"#Eficiencia\" data-toc-modified-id=\"Eficiencia-3.3\"><span class=\"toc-item-num\">3.3&nbsp;&nbsp;</span>Eficiencia</a></span></li><li><span><a href=\"#Escalabilidad\" data-toc-modified-id=\"Escalabilidad-3.4\"><span class=\"toc-item-num\">3.4&nbsp;&nbsp;</span>Escalabilidad</a></span></li></ul></li></ul></div>"
   ]
  },
  {
   "cell_type": "markdown",
   "metadata": {},
   "source": [
    "## Algoritmos paralelos"
   ]
  },
  {
   "cell_type": "markdown",
   "metadata": {},
   "source": [
    "### Introducción a la computación paralela"
   ]
  },
  {
   "cell_type": "markdown",
   "metadata": {
    "slideshow": {
     "slide_type": "slide"
    }
   },
   "source": [
    "Los procesadores paralelos se usan para acelerar la resolución de problemas de alto coste computacional.\n",
    "\n",
    "La finalidad principal consiste en reducir el tiempo de ejecución:\n",
    "\n",
    "\n",
    "- si el tiempo secuencial es $t(n)$\n",
    "\n",
    "- con $p$ procesadores se intenta reducir el tiempo a $\\frac{t(n)}{p}$\n",
    "\n",
    "\n",
    "En este capítulo, se verán algunas medidas que dan idea de la “*bondad*” de un algoritmo paralelo."
   ]
  },
  {
   "cell_type": "markdown",
   "metadata": {},
   "source": [
    "### Tiempo de ejecución secuencial"
   ]
  },
  {
   "cell_type": "markdown",
   "metadata": {
    "slideshow": {
     "slide_type": "subslide"
    }
   },
   "source": [
    "El tiempo de ejecución de un programa secuencial depende de:\n",
    "\n",
    "- tamaño de la entrada\n",
    "- compilador\n",
    "- máquina\n",
    "- programador...\n",
    "\n",
    "si nos olvidamos de los valores constantes dependientes del sistema (por ejemplo, el coste de una operación aritmética en la máquina donde ejecutamos el programa) podemos considerar el tiempo función del tamaño de la entrada: $t(n)$.\n",
    "\n",
    "Es el tiempo desde que empieza la ejecución del programa hasta que acaba."
   ]
  },
  {
   "cell_type": "markdown",
   "metadata": {},
   "source": [
    "### Tiempo de ejecución paralela"
   ]
  },
  {
   "cell_type": "markdown",
   "metadata": {
    "slideshow": {
     "slide_type": "subslide"
    }
   },
   "source": [
    "En un programa paralelo la estimación del tiempo es más compleja. Además de los parámetros anteriores, depende de:\n",
    "- número de elementos de proceso: $t(n,p)$.\n",
    "- la manera en que están conectados entre sí (topología)\n",
    "- y con los módulos de memoria (memoria compartida o distribuida)\n",
    "\n",
    "Es el tiempo transcurrido desde que empieza la ejecución del primero de los procesadores hasta que acaba el último de ellos."
   ]
  },
  {
   "cell_type": "markdown",
   "metadata": {},
   "source": [
    "### Dificultades para estimar tiempo de ejecución paralelo"
   ]
  },
  {
   "cell_type": "markdown",
   "metadata": {
    "slideshow": {
     "slide_type": "subslide"
    }
   },
   "source": [
    "- No siempre es fácil determinar el orden en que los procesadores empiezan y acaban.\n",
    "\n",
    "\n",
    "- A lo largo de la ejecución de un programa paralelo hay puntos de sincronización de los que no siempre podemos determinar su duración al no saber en el orden en que van a llegar los distintos procesos (o hilos) a estos puntos."
   ]
  },
  {
   "cell_type": "markdown",
   "metadata": {},
   "source": [
    "### Modelado del tiempo de ejecución paralelo"
   ]
  },
  {
   "cell_type": "markdown",
   "metadata": {
    "slideshow": {
     "slide_type": "subslide"
    }
   },
   "source": [
    "***Esquema básico de programa paralelo:***\n",
    "\n",
    "`Computación 1`\n",
    "\n",
    "`Comunicación 1 (sincronización en memoria compartida)`\n",
    "\n",
    "`Computación 2`\n",
    "\n",
    "`Comunicación 2`\n",
    "\n",
    "...\n",
    "\n",
    "$$t(n, p) = t_a(n,p) + t_c(n, p)$$\n",
    "\n",
    "donde:\n",
    "\n",
    "- $t_a(n,p)$ : suma de los tiempos de las distintas partes de computación\n",
    "\n",
    "- $t_c(n,p)$ : suma de los tiempos de las distintas partes de comunicación"
   ]
  },
  {
   "attachments": {
    "Paralelo01png.png": {
     "image/png": "[encoded data removed]"
    }
   },
   "cell_type": "markdown",
   "metadata": {
    "slideshow": {
     "slide_type": "subslide"
    }
   },
   "source": [
    "***Tiempo de ejecución paralelo - ejemplo 1***\n",
    "\n",
    "Programa paralelo en dos procesadores:\n",
    "\n",
    "![Paralelo01png.png](attachment:Paralelo01png.png)"
   ]
  },
  {
   "cell_type": "markdown",
   "metadata": {
    "slideshow": {
     "slide_type": "subslide"
    }
   },
   "source": [
    "Si se suman los tiempos de los elementos de proceso por separado y se toma el mayor:\n",
    "\n",
    "$$t(n,p) = t_a(n,p) + t_c(n,p) = 7$$\n",
    "\n",
    "Si se suman los máximos de los tiempos de cada computación y comunicación:\n",
    "\n",
    "$$t_{real}(n,p) = t_a(n,p) + t_c(n,p) + t_{overhead}(n,p)=8$$"
   ]
  },
  {
   "attachments": {
    "Paralelo02.png": {
     "image/png": "[encoded data removed]"
    }
   },
   "cell_type": "markdown",
   "metadata": {},
   "source": [
    "***Tiempo de ejecución paralelo - ejemplo 2***\n",
    "\n",
    "\n",
    "![Paralelo02.png](attachment:Paralelo02.png)"
   ]
  },
  {
   "cell_type": "markdown",
   "metadata": {},
   "source": [
    "Si se suman los máximos de los tiempos de cada computación y comunicación:\n",
    "\n",
    "$$t(n,p) = t_a(n,p) + t_c(n,p) = 15$$\n",
    "\n",
    "Pero el solapamiento puede reducir el tiempo:\n",
    "\n",
    "$$t_{real}(n,p) = t_a(n,p) + t_c (n,p) − t_{solapamiento}(n,p) = 14$$"
   ]
  },
  {
   "cell_type": "markdown",
   "metadata": {
    "slideshow": {
     "slide_type": "subslide"
    }
   },
   "source": [
    "***Tiempo de ejecución paralelo - resumen***\n",
    "\n",
    "*Overhead* debido a:\n",
    "\n",
    "- sincronización\n",
    "\n",
    "- puesta en marcha de los procesos\n",
    "\n",
    "- sobrecarga de la red de comunicación...\n",
    "\n",
    "*Solapamiento* de computación y comunicación.\n",
    "\n",
    "***Modelo de tiempo de ejecución:***\n",
    "\n",
    "$$t(n,p) = t_a(n,p) + t_c(n,p) + t_o(n,p) − t_s(n,p)$$\n",
    "\n",
    "- Minimizar el tiempo de overhead.\n",
    "\n",
    "- Maximizar el solapamiento."
   ]
  },
  {
   "cell_type": "markdown",
   "metadata": {
    "slideshow": {
     "slide_type": "subslide"
    }
   },
   "source": [
    "***Ejemplo:*** suma de $n$ números\n",
    "\n",
    "- Secuencial: $t(n) = n − 1$\n",
    "\n",
    "- Paralelo con $n/2$ elementos de proceso, como mínimo $\\frac{t(n)}{n/2}= 2$"
   ]
  },
  {
   "cell_type": "raw",
   "metadata": {
    "slideshow": {
     "slide_type": "subslide"
    }
   },
   "source": [
    "Para cada Pi, i = 0, 1, . . . , n/2 − 1\n",
    "    inicio = 2 ∗ i\n",
    "    desplazamiento = 1\n",
    "    activo = true\n",
    "    para k = 1, 2, . . . , log n\n",
    "        si activo\n",
    "            a[inicio] = a[inicio] + a[inicio + desplazamiento]\n",
    "            desplazamiento = desplazamiento ∗ 2\n",
    "        finsi\n",
    "        si i mod desplazamiento 6= 0\n",
    "            activo = false\n",
    "        finsi\n",
    "finpara"
   ]
  },
  {
   "cell_type": "markdown",
   "metadata": {
    "slideshow": {
     "slide_type": "subslide"
    }
   },
   "source": [
    "***Ejemplo:*** suma de $n$ números, tiempo\n",
    "\n",
    "Pasos: `log n`\n",
    "\n",
    "Trabajo adicional (overhead):\n",
    "- Comprobación de si el procesador trabaja.\n",
    "- Uso de las variables.\n",
    "- Actualizaci´on de las variables.\n",
    "\n",
    "Con $n = 64$\n",
    "- si cada paso secuencial y paralelo igual coste: $t(n) = 64$, \n",
    "$t(n, p) = 6$, $t(n) ≃ 10.5 ∗ t(n, p)$\n",
    "\n",
    "- si cada paso secuencial coste $2$ y paralelo coste $6$: $t(n) = 128$,\n",
    "$t(n, p) = 36$, $t(n) ≃ 3.5 ∗ t(n, p)$\n",
    "\n",
    "Y en memoria distribuida problema de acceso a los datos."
   ]
  },
  {
   "cell_type": "markdown",
   "metadata": {},
   "source": [
    "## Pasos en el diseño de algoritmos paralelos ([Foster](https://www.mcs.anl.gov/~itf/dbpp/ \"Designing and Building Parallel Programs\")):"
   ]
  },
  {
   "cell_type": "markdown",
   "metadata": {
    "slideshow": {
     "slide_type": "slide"
    }
   },
   "source": [
    "- ***Particionado:*** descomponer en muchas tareas pequeñas.\n",
    "\n",
    "\n",
    "- ***Comunicación:*** determinar los patrones de comunicación y sincronización entre tareas.\n",
    "\n",
    "\n",
    "- ***Agrupación:*** estudiar formas de agrupar tareas para balancear el trabajo y reducir comunicaciones.\n",
    "\n",
    "\n",
    "- ***Mapeo:*** asignación de las tareas al sistema computacional."
   ]
  },
  {
   "cell_type": "markdown",
   "metadata": {},
   "source": [
    "## Conceptos paralelización"
   ]
  },
  {
   "cell_type": "markdown",
   "metadata": {},
   "source": [
    "### Granularidad"
   ]
  },
  {
   "cell_type": "markdown",
   "metadata": {
    "slideshow": {
     "slide_type": "subslide"
    }
   },
   "source": [
    "Uso de muchos elementos de proceso no es realista:\n",
    "- No dispondremos de tantos.\n",
    "- Aunque dispongamos de ellos hay caída de las prestaciones.\n",
    "\n",
    "La *granularidad* del sistema (físico+algoritmo) indica la cantidad de computación y datos asignados a cada elemento de proceso:\n",
    "- ***Grano fino:*** a cada elemento se asignan pocos datos o se realiza poca computación entre comunicaciones.\n",
    "\n",
    "- **Grano grueso:** si a cada elemento se asignan muchos datos o se realiza mucha computación entre comunicaciones.\n",
    "\n",
    "En la fase de Agrupación aumentar el grano de los trabajos:\n",
    "\n",
    "- Interesa programación paralela cuando el paralelismo es de grano grueso.\n",
    "- A partir de qué punto interesa depende de los costes en el sistema.\n",
    "- Más granularidad en el orden: paso de mensajes, memoria compartida, GPU."
   ]
  },
  {
   "cell_type": "markdown",
   "metadata": {
    "slideshow": {
     "slide_type": "subslide"
    }
   },
   "source": [
    "***Ejemplo:*** suma de $n$ números con $p$ procesos"
   ]
  },
  {
   "cell_type": "raw",
   "metadata": {
    "slideshow": {
     "slide_type": "fragment"
    }
   },
   "source": [
    "En cada Pi, i = 0, 1, . . . , p − 1\n",
    "    suma = 0\n",
    "    para j = i ∗ n/p, . . . , (i + 1) ∗ n/p − 1\n",
    "        suma = suma + a[j]\n",
    "    finpara //Agrupación\n",
    "    \n",
    "    sincronización\n",
    "    a[i] = suma\n",
    "    inicio = i\n",
    "    desplazamiento = 1\n",
    "    activo = true\n",
    "    si i mod 2 6= 0\n",
    "       activo = false\n",
    "    finsi\n",
    "    para k = 1, 2, . . . , log p − 1\n",
    "        si activo\n",
    "            a[inicio] = a[inicio] + a[inicio + desplazamiento]\n",
    "            desplazamiento = desplazamiento ∗ 2\n",
    "            si i mod (desplazamiento ∗ 2) 6= 0\n",
    "                activo = false\n",
    "            finsi\n",
    "        finsi\n",
    "    finpara"
   ]
  },
  {
   "cell_type": "markdown",
   "metadata": {
    "slideshow": {
     "slide_type": "subslide"
    }
   },
   "source": [
    "***Ejemplo: suma de $n$ números con $p$ procesos (mensajes)***"
   ]
  },
  {
   "cell_type": "raw",
   "metadata": {
    "slideshow": {
     "slide_type": "fragment"
    }
   },
   "source": [
    "En cada Pi, i = 0, 1, . . . , p − 1\n",
    "    suma = 0\n",
    "    para j = 0, . . . , n/p − 1\n",
    "        suma = suma + a[j]\n",
    "    finpara //Agrupación\n",
    "    si i mod 2 = 0\n",
    "        recibir en b de Pi+1\n",
    "        activo = true\n",
    "    si no\n",
    "        enviar suma a Pi−1\n",
    "        activo = false\n",
    "    finsi\n",
    "    desplazamiento = 2\n",
    "    para k = 1, 2, . . . , log p − 2\n",
    "        si activo\n",
    "            suma = suma + b\n",
    "            desplazamiento = desplazamiento ∗ 2\n",
    "            si i mod desplazamiento 6= 0\n",
    "                activo = false\n",
    "                enviar suma a Pi−desplazamiento/2\n",
    "            si no\n",
    "                recibir en b de Pi+desplazamiento/2\n",
    "            finsi\n",
    "        finsi\n",
    "    finpara //Comunicaci´on en estructura de ´arbol. Considerarlo en Mapeo\n",
    "    si i = 0\n",
    "        suma = suma + b\n",
    "    finsi"
   ]
  },
  {
   "cell_type": "markdown",
   "metadata": {
    "slideshow": {
     "slide_type": "subslide"
    }
   },
   "source": [
    "- En memoria compartida todas las variables son locales salvo el array $a$.\n",
    "- En memoria distribuida la sincronización por el paso de mensajes, y el array $a$ local de tamaño $n/p$.\n",
    "- El tamaño del problema ($n$) es múltiplo del del sistema ($p$).\n",
    "\n",
    "Se puede generalizar.\n",
    "\n",
    "$$t(n,p) = 2t_c\\frac{n}{p}+(log p − 1) (6 + t_s + t_w )$$\n",
    "\n",
    "si $p <<< n$ podemos tener en cuenta sólo los términos de mayor orden y $\\frac{t(n)}{t(n,p)} = p$, que es lo mejor que se puede obtener.\n",
    "\n",
    "Derivando $t(n, p)$ respecto a $p$ e igualando a cero se obtiene\n",
    "\n",
    "número de procesos óptimo: $p_{opt} =\\frac{2t_cn}{log 3(6+t_s+t_w)}$"
   ]
  },
  {
   "cell_type": "markdown",
   "metadata": {},
   "source": [
    "### Speed-up"
   ]
  },
  {
   "cell_type": "markdown",
   "metadata": {
    "slideshow": {
     "slide_type": "subslide"
    }
   },
   "source": [
    "Mide la ganancia de velocidad que se obtiene con un programa paralelo.\n",
    "\n",
    "Es el cociente entre el tiempo secuencial y el paralelo:\n",
    "$$S(n,p) = \\frac{t(n)}{t(n,p)}$$\n",
    "\n",
    "- ¿Qué $t(n)$?\n",
    "\n",
    "  - El del mejor algoritmo secuencial que resuelve el problema, pero cuál es el “*mejor algoritmo secuencial*” depende del tamaño de la entrada, distribución de los datos, máquina..., y puede no conocerse (Por ejemplo, ¿cuál es el coste de la multiplicación de matrices?)\n",
    "\n",
    "  - El del mejor algoritmo secuencial conocido. Pero depende de los mismos parámetros.\n",
    "  \n",
    "  - Tiempo de ejecución en un procesador del algoritmo paralelo.\n",
    "  \n",
    "  - Pero puede que el mejor esquema para paralelizar no sea bueno en secuencial.\n",
    "\n",
    "  - El tiempo de ejecución de un algoritmo secuencial “*razonablemente bueno*”. Habrá que indicar cuál se usa."
   ]
  },
  {
   "cell_type": "markdown",
   "metadata": {
    "slideshow": {
     "slide_type": "subslide"
    }
   },
   "source": [
    "- El speed-up será menor que el número de procesadores. Si no, podría hacerse un algoritmo secuencial mejor que el que se usa, simulando el algoritmo paralelo.\n",
    "\n",
    "- En algunos casos puede haber speed-up superlineal por mejor gestión de la memoria al usar más procesadores.\n",
    "\n",
    "- Para un tamaño de problema fijo se aleja del valor óptimo al aumentar el número de procesadores.\n",
    "\n",
    "- Para un número de procesadores fijo aumenta al aumentar el tamaño del problema."
   ]
  },
  {
   "cell_type": "markdown",
   "metadata": {},
   "source": [
    "### Eficiencia"
   ]
  },
  {
   "cell_type": "markdown",
   "metadata": {
    "slideshow": {
     "slide_type": "subslide"
    }
   },
   "source": [
    "- Da idea de la porción de tiempo que los elementos de proceso se dedican a trabajo útil.\n",
    "\n",
    "\n",
    "- Es el speed-up partido por el número de elementos:\n",
    "\n",
    "\n",
    "$$E(n,p) = \\frac{S(n,p)}{p}=\\frac{t(n)}{pt(n,p)}$$\n",
    "\n",
    "\n",
    "- Valor entre 0 y 1.\n",
    "\n",
    "\n",
    "- Para un tamaño de problema fijo se aleja del valor óptimo (1) al aumentar el número de procesadores.\n",
    "\n",
    "\n",
    "- Para un número de procesadores fijo aumenta con el tamaño del problema"
   ]
  },
  {
   "cell_type": "markdown",
   "metadata": {},
   "source": [
    "### Escalabilidad"
   ]
  },
  {
   "cell_type": "markdown",
   "metadata": {
    "slideshow": {
     "slide_type": "subslide"
    }
   },
   "source": [
    "- Para un sistema paralelo interesa que las prestaciones se sigan manteniendo en cierta medida al aumentar el tamaño del sistema.\n",
    "\n",
    "\n",
    "- No se puede seguir manteniendo las prestaciones con el tamaño del problema fijo y aumentando el número de elementos de proceso.\n",
    "\n",
    "\n",
    "- Se trata de mantener las prestaciones al aumentar el tamaño del sistema pero aumentando también el tamaño del problema.\n",
    "\n",
    "\n",
    "- Los sistemas (físicos o lógicos) que mantienen las prestaciones en esas condiciones se dice que son escalables.\n",
    "\n",
    "\n",
    "- La idea es, para un determinado programa, ser capaces de determinar si en el futuro, cuando aumente el número de elementos de proceso y se quiera resolver problemas mayores, se seguirán manteniendo las prestaciones."
   ]
  },
  {
   "cell_type": "code",
   "execution_count": null,
   "metadata": {},
   "outputs": [],
   "source": []
  }
 ],
 "metadata": {
  "kernelspec": {
   "display_name": "Python 3",
   "language": "python",
   "name": "python3"
  },
  "language_info": {
   "codemirror_mode": {
    "name": "ipython",
    "version": 3
   },
   "file_extension": ".py",
   "mimetype": "text/x-python",
   "name": "python",
   "nbconvert_exporter": "python",
   "pygments_lexer": "ipython3",
   "version": "3.6.13"
  },
  "toc": {
   "base_numbering": 1,
   "nav_menu": {},
   "number_sections": true,
   "sideBar": true,
   "skip_h1_title": true,
   "title_cell": "Tabla de Contenidos",
   "title_sidebar": "Contenidos",
   "toc_cell": true,
   "toc_position": {},
   "toc_section_display": true,
   "toc_window_display": true
  }
 },
 "nbformat": 4,
 "nbformat_minor": 2
}
